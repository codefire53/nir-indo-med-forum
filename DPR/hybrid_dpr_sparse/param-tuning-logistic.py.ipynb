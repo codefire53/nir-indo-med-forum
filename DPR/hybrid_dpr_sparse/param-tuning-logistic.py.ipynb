{
 "cells": [
  {
   "cell_type": "code",
   "execution_count": 1,
   "id": "7ce10359",
   "metadata": {},
   "outputs": [],
   "source": [
    "import pandas as pd\n",
    "import json\n",
    "import numpy as np\n",
    "\n",
    "np.random.seed(42)"
   ]
  },
  {
   "cell_type": "markdown",
   "id": "161c3a2c",
   "metadata": {},
   "source": [
    "# Preprocess"
   ]
  },
  {
   "cell_type": "code",
   "execution_count": 2,
   "id": "a79ec3dc",
   "metadata": {},
   "outputs": [],
   "source": [
    "with open('dpr-bm25_query_results.json', 'r') as f:\n",
    "    bm25_json = json.load(f)\n",
    "\n",
    "with open('dpr-lmd_query_results.json', 'r') as f:\n",
    "    lmd_json = json.load(f)\n",
    "\n",
    "with open('dpr-classic_query_results.json', 'r') as f:\n",
    "    classic_json = json.load(f)\n",
    "\n",
    "with open('question-syifa-test.json', 'r') as f:\n",
    "    gold_json = json.load(f)"
   ]
  },
  {
   "cell_type": "code",
   "execution_count": 3,
   "id": "96c43b4a",
   "metadata": {},
   "outputs": [],
   "source": [
    "posrel_map = dict()\n",
    "negrel_map = dict()\n",
    "\n",
    "for row in gold_json:\n",
    "    qid = row['question']['id']\n",
    "    posrel_map[qid] = []\n",
    "    negrel_map[qid] = []\n",
    "    for pos_ctx in row['ctxs']:\n",
    "        posrel_map[qid].append(pos_ctx['id'])\n",
    "    for neg_ctx in row['neg_ctxs']:\n",
    "        negrel_map[qid].append(neg_ctx['id'])"
   ]
  },
  {
   "cell_type": "code",
   "execution_count": 4,
   "id": "a3ab9fbd",
   "metadata": {},
   "outputs": [],
   "source": [
    "bm25_df = pd.DataFrame()\n",
    "for row in bm25_json:\n",
    "    qid = row['question']['id']\n",
    "    for ctx in row['ctxs']:\n",
    "        if ctx['id'] in posrel_map[qid]:\n",
    "            bm25_df = bm25_df.append({\n",
    "                'sparse_score': ctx['bm25_score'],\n",
    "                'dense_score': ctx['dpr_score'],\n",
    "                'rel': 1\n",
    "            }, ignore_index=True)\n",
    "        elif ctx['id'] in negrel_map[qid]:\n",
    "            bm25_df = bm25_df.append({\n",
    "                'sparse_score': ctx['bm25_score'],\n",
    "                'dense_score': ctx['dpr_score'],\n",
    "                'rel': 0\n",
    "            }, ignore_index=True)\n"
   ]
  },
  {
   "cell_type": "code",
   "execution_count": 5,
   "id": "0bfbefaa",
   "metadata": {},
   "outputs": [],
   "source": [
    "lmd_df = pd.DataFrame()\n",
    "for row in lmd_json:\n",
    "    qid = row['question']['id']\n",
    "    for ctx in row['ctxs']:\n",
    "        if ctx['id'] in posrel_map[qid]:\n",
    "            lmd_df = lmd_df.append({\n",
    "                'sparse_score': ctx['lmd_score'],\n",
    "                'dense_score': ctx['dpr_score'],\n",
    "                'rel': 1\n",
    "            }, ignore_index=True)\n",
    "        elif ctx['id'] in negrel_map[qid]:\n",
    "            lmd_df = lmd_df.append({\n",
    "                'sparse_score': ctx['lmd_score'],\n",
    "                'dense_score': ctx['dpr_score'],\n",
    "                'rel': 0\n",
    "            }, ignore_index=True)\n"
   ]
  },
  {
   "cell_type": "code",
   "execution_count": 6,
   "id": "5917b6e7",
   "metadata": {},
   "outputs": [],
   "source": [
    "classic_df = pd.DataFrame()\n",
    "for row in classic_json:\n",
    "    qid = row['question']['id']\n",
    "    for ctx in row['ctxs']:\n",
    "        if ctx['id'] in posrel_map[qid]:\n",
    "            classic_df = classic_df.append({\n",
    "                'sparse_score': ctx['classic_score'],\n",
    "                'dense_score': ctx['dpr_score'],\n",
    "                'rel': 1\n",
    "            }, ignore_index=True)\n",
    "        elif ctx['id'] in negrel_map[qid]:\n",
    "            classic_df = classic_df.append({\n",
    "                'sparse_score': ctx['classic_score'],\n",
    "                'dense_score': ctx['dpr_score'],\n",
    "                'rel': 0\n",
    "            }, ignore_index=True)\n"
   ]
  },
  {
   "cell_type": "markdown",
   "id": "c5f4b3c7",
   "metadata": {},
   "source": [
    "# Data Analysis"
   ]
  },
  {
   "cell_type": "code",
   "execution_count": 7,
   "id": "72adbdf2",
   "metadata": {},
   "outputs": [
    {
     "name": "stdout",
     "output_type": "stream",
     "text": [
      "2.8421052631578947\n"
     ]
    }
   ],
   "source": [
    "print(len(bm25_df[bm25_df['rel']==1])/len(bm25_df[bm25_df['rel']==0]))"
   ]
  },
  {
   "cell_type": "code",
   "execution_count": 8,
   "id": "ec84cd79",
   "metadata": {},
   "outputs": [
    {
     "name": "stdout",
     "output_type": "stream",
     "text": [
      "1.7278481012658229\n"
     ]
    }
   ],
   "source": [
    "print(len(lmd_df[lmd_df['rel']==1])/len(lmd_df[lmd_df['rel']==0]))"
   ]
  },
  {
   "cell_type": "code",
   "execution_count": 9,
   "id": "f3205f73",
   "metadata": {},
   "outputs": [
    {
     "name": "stdout",
     "output_type": "stream",
     "text": [
      "2.5242718446601944\n"
     ]
    }
   ],
   "source": [
    "print(len(classic_df[classic_df['rel']==1])/len(classic_df[classic_df['rel']==0]))"
   ]
  },
  {
   "cell_type": "markdown",
   "id": "6994fe4f",
   "metadata": {},
   "source": [
    "# Search Best Params"
   ]
  },
  {
   "cell_type": "code",
   "execution_count": 10,
   "id": "56f03149",
   "metadata": {},
   "outputs": [],
   "source": [
    "from sklearn.model_selection import StratifiedKFold\n",
    "\n",
    "skf = StratifiedKFold(shuffle=True, random_state=42)"
   ]
  },
  {
   "cell_type": "code",
   "execution_count": 11,
   "id": "d2dc6733",
   "metadata": {},
   "outputs": [],
   "source": [
    "from sklearn.linear_model import LogisticRegression\n",
    "from sklearn.metrics import classification_report, f1_score, precision_score, recall_score\n",
    "\n",
    "clf = LogisticRegression(fit_intercept=False, random_state=42)"
   ]
  },
  {
   "cell_type": "markdown",
   "id": "81d81e10",
   "metadata": {},
   "source": [
    "## BM25"
   ]
  },
  {
   "cell_type": "code",
   "execution_count": 12,
   "id": "d60113b6",
   "metadata": {},
   "outputs": [
    {
     "name": "stdout",
     "output_type": "stream",
     "text": [
      "F1 score: 0.8503929769886345\n",
      "Precision score: 0.7397335423197492\n",
      "Recall score: 1.0\n",
      "Best alpha:1.2025570627685844\n",
      "Best beta: 0.9407036390334909\n"
     ]
    }
   ],
   "source": [
    "X = bm25_df.drop('rel', axis=1)\n",
    "y = bm25_df['rel'].astype(bool)\n",
    "folds = 5\n",
    "alpha_bm25 = 0.0\n",
    "beta_bm25 = 0.0\n",
    "f1 = 0.0\n",
    "precision = 0.0\n",
    "recall = 0.0\n",
    "for train_index, test_index in skf.split(X, y):\n",
    "    X_train, y_train = X.iloc[train_index], y.iloc[train_index]\n",
    "    X_test, y_test = X.iloc[test_index], y.iloc[test_index]\n",
    "    clf.fit(X_train.values, y_train.values)\n",
    "    alpha_bm25 += clf.coef_[0][0]\n",
    "    beta_bm25 += clf.coef_[0][1]\n",
    "    y_pred = clf.predict(X_test.values)\n",
    "    f1 += f1_score(y_test, y_pred)\n",
    "    precision += precision_score(y_test, y_pred)\n",
    "    recall += recall_score(y_test, y_pred)\n",
    "alpha_bm25/=folds\n",
    "beta_bm25/=folds\n",
    "f1/=folds\n",
    "precision/=folds\n",
    "recall/=folds\n",
    "print(f\"F1 score: {f1}\")\n",
    "print(f\"Precision score: {precision}\")\n",
    "print(f\"Recall score: {recall}\")\n",
    "print(f\"Best alpha:{alpha_bm25}\")\n",
    "print(f\"Best beta: {beta_bm25}\")"
   ]
  },
  {
   "cell_type": "markdown",
   "id": "ad8e0b21",
   "metadata": {},
   "source": [
    "## LMD"
   ]
  },
  {
   "cell_type": "code",
   "execution_count": 13,
   "id": "6ee6c252",
   "metadata": {},
   "outputs": [
    {
     "name": "stdout",
     "output_type": "stream",
     "text": [
      "F1 score: 0.7755577436248698\n",
      "Precision score: 0.633413525795242\n",
      "Recall score: 1.0\n",
      "Best alpha:0.77809029740458\n",
      "Best beta: 0.5507165531926917\n"
     ]
    }
   ],
   "source": [
    "X = lmd_df.drop('rel', axis=1)\n",
    "y = lmd_df['rel'].astype(bool)\n",
    "folds = 5\n",
    "alpha_lmd = 0.0\n",
    "beta_lmd = 0.0\n",
    "f1 = 0.0\n",
    "precision = 0.0\n",
    "recall = 0.0\n",
    "for train_index, test_index in skf.split(X, y):\n",
    "    X_train, y_train = X.iloc[train_index], y.iloc[train_index]\n",
    "    X_test, y_test = X.iloc[test_index], y.iloc[test_index]\n",
    "    clf.fit(X_train.values, y_train.values)\n",
    "    alpha_lmd += clf.coef_[0][0]\n",
    "    beta_lmd += clf.coef_[0][1]\n",
    "    y_pred = clf.predict(X_test.values)\n",
    "    f1 += f1_score(y_test, y_pred)\n",
    "    precision += precision_score(y_test, y_pred)\n",
    "    recall += recall_score(y_test, y_pred)\n",
    "alpha_lmd/=folds\n",
    "beta_lmd/=folds\n",
    "f1/=folds\n",
    "precision/=folds\n",
    "recall/=folds\n",
    "print(f\"F1 score: {f1}\")\n",
    "print(f\"Precision score: {precision}\")\n",
    "print(f\"Recall score: {recall}\")\n",
    "print(f\"Best alpha:{alpha_lmd}\")\n",
    "print(f\"Best beta: {beta_lmd}\")"
   ]
  },
  {
   "cell_type": "markdown",
   "id": "16347717",
   "metadata": {},
   "source": [
    "## Classic"
   ]
  },
  {
   "cell_type": "code",
   "execution_count": 14,
   "id": "4184f6b8",
   "metadata": {},
   "outputs": [],
   "source": [
    "classic_df = classic_df.dropna(axis=0)"
   ]
  },
  {
   "cell_type": "code",
   "execution_count": 15,
   "id": "4d09191c",
   "metadata": {},
   "outputs": [
    {
     "name": "stdout",
     "output_type": "stream",
     "text": [
      "F1 score: 0.8381808566895822\n",
      "Best alpha:0.9685231942879037\n",
      "Best beta: 1.6053453674871936\n",
      "Precision score: 0.7214397496087637\n",
      "Recall score: 1.0\n"
     ]
    }
   ],
   "source": [
    "X = classic_df.drop('rel', axis=1)\n",
    "y = classic_df['rel'].astype(bool)\n",
    "folds = 5\n",
    "alpha_classic = 0.0\n",
    "beta_classic = 0.0\n",
    "f1 = 0.0\n",
    "precision = 0.0\n",
    "recall = 0.0\n",
    "for train_index, test_index in skf.split(X, y):\n",
    "    X_train, y_train = X.iloc[train_index], y.iloc[train_index]\n",
    "    X_test, y_test = X.iloc[test_index], y.iloc[test_index]\n",
    "    clf.fit(X_train.values, y_train.values)\n",
    "    alpha_classic += clf.coef_[0][0]\n",
    "    beta_classic += clf.coef_[0][1]\n",
    "    y_pred = clf.predict(X_test.values)\n",
    "    f1 += f1_score(y_test, y_pred)\n",
    "    precision += precision_score(y_test, y_pred)\n",
    "    recall += recall_score(y_test, y_pred)\n",
    "alpha_classic/=folds\n",
    "beta_classic/=folds\n",
    "f1/=folds\n",
    "precision/=folds\n",
    "recall/=folds\n",
    "print(f\"F1 score: {f1}\")\n",
    "print(f\"Best alpha:{alpha_classic}\")\n",
    "print(f\"Best beta: {beta_classic}\")\n",
    "print(f\"Precision score: {precision}\")\n",
    "print(f\"Recall score: {recall}\")"
   ]
  },
  {
   "cell_type": "code",
   "execution_count": null,
   "id": "c644bba8",
   "metadata": {},
   "outputs": [],
   "source": []
  }
 ],
 "metadata": {
  "kernelspec": {
   "display_name": "Python 3 (ipykernel)",
   "language": "python",
   "name": "python3"
  },
  "language_info": {
   "codemirror_mode": {
    "name": "ipython",
    "version": 3
   },
   "file_extension": ".py",
   "mimetype": "text/x-python",
   "name": "python",
   "nbconvert_exporter": "python",
   "pygments_lexer": "ipython3",
   "version": "3.8.12"
  }
 },
 "nbformat": 4,
 "nbformat_minor": 5
}
