{
 "cells": [
  {
   "cell_type": "markdown",
   "id": "4df3c8bb",
   "metadata": {},
   "source": [
    "# Statistical Test"
   ]
  },
  {
   "cell_type": "code",
   "execution_count": 1,
   "id": "a8c26487",
   "metadata": {},
   "outputs": [],
   "source": [
    "from scipy import stats\n",
    "import pandas as pd\n",
    "import numpy as np"
   ]
  },
  {
   "cell_type": "code",
   "execution_count": 315,
   "id": "4be3099e",
   "metadata": {},
   "outputs": [],
   "source": [
    "def significance_test(before_df, after_df, metrics, thresh=0.05):\n",
    "    for metric in metrics:\n",
    "        before = before_df[metric].tolist()\n",
    "        after = after_df[metric].tolist()\n",
    "        pvalue = stats.ttest_rel(before, after).pvalue\n",
    "        if pvalue <= thresh:\n",
    "            print(f\"{metric} score is statistically significant\")\n",
    "        else:\n",
    "            print(f\"{metric} score is statistically insignificant\")"
   ]
  },
  {
   "cell_type": "code",
   "execution_count": 316,
   "id": "97d87f9e",
   "metadata": {},
   "outputs": [],
   "source": [
    "def compare_with_dpr(some_model_scores, dataset_name='tydi'):\n",
    "    dpr_file = f'../Results/Scores/dpr_eval_{dataset_name}_scores.csv'\n",
    "    dpr = pd.read_csv(dpr_file)\n",
    "    metrics = dpr.columns\n",
    "    significance_test(dpr, some_model_scores, metrics)\n",
    "\n",
    "def compare_with_sparse(some_model_scores, sparse_type='bm25'):\n",
    "    sparse_file = f'../Results/Scores/{sparse_type}_eval_scores.csv'\n",
    "    sparse = pd.read_csv(sparse_file)\n",
    "    metrics = sparse.columns\n",
    "    significance_test(sparse, some_model_scores, metrics)"
   ]
  },
  {
   "cell_type": "markdown",
   "id": "f24ee1fb",
   "metadata": {},
   "source": [
    "# A. Tydi"
   ]
  },
  {
   "cell_type": "code",
   "execution_count": 4,
   "id": "a3ec858f",
   "metadata": {},
   "outputs": [
    {
     "name": "stdout",
     "output_type": "stream",
     "text": [
      "Precision score is statistically significant\n",
      "MRR score is statistically insignificant\n",
      "MAP score is statistically insignificant\n",
      "BPref score is statistically insignificant\n"
     ]
    }
   ],
   "source": [
    "dpr_prf = pd.read_csv('../Results/Scores/dpr_prf_eval_tydi_scores.csv')\n",
    "compare_with_dpr(dpr_prf, 'tydi')"
   ]
  },
  {
   "cell_type": "markdown",
   "id": "0319eb62",
   "metadata": {},
   "source": [
    "## Part 1: Hybrid using Alpha Linear Combo"
   ]
  },
  {
   "cell_type": "markdown",
   "id": "dd557b8e",
   "metadata": {},
   "source": [
    "The linear combination can be formulated as the following\n",
    "\\begin{gather*} \n",
    "Score(Q,D) =  \\alpha*sim_{DPR}(Q,D) + (1-\\alpha)*sim_{sparse}(Q,D)\n",
    "\\end{gather*}"
   ]
  },
  {
   "cell_type": "markdown",
   "id": "b15f6dba",
   "metadata": {},
   "source": [
    "## Sparse Model vs Hybrid Sparse-Dense Model"
   ]
  },
  {
   "cell_type": "markdown",
   "id": "94a4fe39",
   "metadata": {},
   "source": [
    "### BM25 vs BM25-DPR"
   ]
  },
  {
   "cell_type": "code",
   "execution_count": 5,
   "id": "7fa2db84",
   "metadata": {},
   "outputs": [
    {
     "name": "stdout",
     "output_type": "stream",
     "text": [
      "Precision score is statistically insignificant\n",
      "MRR score is statistically insignificant\n",
      "MAP score is statistically insignificant\n",
      "BPref score is statistically insignificant\n"
     ]
    }
   ],
   "source": [
    "bm25_dpr = pd.read_csv('../Results/Scores/dpr-bm25_eval_tydi_scores.csv')\n",
    "compare_with_sparse(bm25_dpr, 'bm25')"
   ]
  },
  {
   "cell_type": "markdown",
   "id": "c1ba6b68",
   "metadata": {},
   "source": [
    "### LMD vs LMD-DPR"
   ]
  },
  {
   "cell_type": "code",
   "execution_count": 6,
   "id": "538375f0",
   "metadata": {},
   "outputs": [
    {
     "name": "stdout",
     "output_type": "stream",
     "text": [
      "Precision score is statistically insignificant\n",
      "MRR score is statistically insignificant\n",
      "MAP score is statistically significant\n",
      "BPref score is statistically significant\n"
     ]
    }
   ],
   "source": [
    "lmd_dpr = pd.read_csv('../Results/Scores/dpr-lmd_eval_tydi_scores.csv')\n",
    "compare_with_sparse(lmd_dpr, 'lmd')"
   ]
  },
  {
   "cell_type": "markdown",
   "id": "aa67e95e",
   "metadata": {},
   "source": [
    "### TFIDF vs TFIDF-DPR"
   ]
  },
  {
   "cell_type": "code",
   "execution_count": 7,
   "id": "c49eb585",
   "metadata": {},
   "outputs": [
    {
     "name": "stdout",
     "output_type": "stream",
     "text": [
      "Precision score is statistically significant\n",
      "MRR score is statistically significant\n",
      "MAP score is statistically significant\n",
      "BPref score is statistically insignificant\n"
     ]
    }
   ],
   "source": [
    "tfidf_dpr = pd.read_csv('../Results/Scores/dpr-classic_eval_tydi_scores.csv')\n",
    "compare_with_sparse(tfidf_dpr, 'classic')"
   ]
  },
  {
   "cell_type": "markdown",
   "id": "a29a8224",
   "metadata": {},
   "source": [
    "## Dense Model vs Hybrid Sparse-Dense Model"
   ]
  },
  {
   "cell_type": "markdown",
   "id": "da26e70a",
   "metadata": {},
   "source": [
    "### DPR vs BM25-DPR"
   ]
  },
  {
   "cell_type": "code",
   "execution_count": 8,
   "id": "73ed2f83",
   "metadata": {},
   "outputs": [
    {
     "name": "stdout",
     "output_type": "stream",
     "text": [
      "Precision score is statistically significant\n",
      "MRR score is statistically significant\n",
      "MAP score is statistically significant\n",
      "BPref score is statistically significant\n"
     ]
    }
   ],
   "source": [
    "bm25_dpr = pd.read_csv('../Results/Scores/dpr-bm25_eval_tydi_scores.csv')\n",
    "compare_with_dpr(bm25_dpr, 'tydi')"
   ]
  },
  {
   "cell_type": "markdown",
   "id": "e3e024cc",
   "metadata": {},
   "source": [
    "### DPR vs LMD-DPR"
   ]
  },
  {
   "cell_type": "code",
   "execution_count": 9,
   "id": "88d25260",
   "metadata": {},
   "outputs": [
    {
     "name": "stdout",
     "output_type": "stream",
     "text": [
      "Precision score is statistically significant\n",
      "MRR score is statistically significant\n",
      "MAP score is statistically significant\n",
      "BPref score is statistically significant\n"
     ]
    }
   ],
   "source": [
    "lmd_dpr = pd.read_csv('../Results/Scores/dpr-lmd_eval_tydi_scores.csv')\n",
    "compare_with_dpr(lmd_dpr, 'tydi')"
   ]
  },
  {
   "cell_type": "markdown",
   "id": "3248d144",
   "metadata": {},
   "source": [
    "### DPR vs TFIDF-DPR"
   ]
  },
  {
   "cell_type": "code",
   "execution_count": 10,
   "id": "88ec4869",
   "metadata": {},
   "outputs": [
    {
     "name": "stdout",
     "output_type": "stream",
     "text": [
      "Precision score is statistically significant\n",
      "MRR score is statistically significant\n",
      "MAP score is statistically significant\n",
      "BPref score is statistically insignificant\n"
     ]
    }
   ],
   "source": [
    "tfidf_dpr = pd.read_csv('../Results/Scores/dpr-classic_eval_tydi_scores.csv')\n",
    "compare_with_dpr(tfidf_dpr, 'tydi')"
   ]
  },
  {
   "cell_type": "markdown",
   "id": "4215146b",
   "metadata": {},
   "source": [
    "## Part 2: Hybrid using Alpha Beta Linear Combo"
   ]
  },
  {
   "cell_type": "markdown",
   "id": "978fc060",
   "metadata": {},
   "source": [
    "The linear combination can be formulated as the following\n",
    "\\begin{gather*} \n",
    "Score(Q,D) =  \\alpha*sim_{sparse}(Q,D) + \\beta*sim_{DPR}(Q,D)\n",
    "\\end{gather*}\n",
    "Those \"optimized\" hyperparameters can be found by using logistic regression."
   ]
  },
  {
   "cell_type": "markdown",
   "id": "25206f5b",
   "metadata": {},
   "source": [
    "## Sparse Model vs Hybrid Sparse-Dense Model"
   ]
  },
  {
   "cell_type": "markdown",
   "id": "44e04093",
   "metadata": {},
   "source": [
    "### BM25 vs BM25-DPR"
   ]
  },
  {
   "cell_type": "code",
   "execution_count": 11,
   "id": "db595ac3",
   "metadata": {},
   "outputs": [
    {
     "name": "stdout",
     "output_type": "stream",
     "text": [
      "Precision score is statistically significant\n",
      "MRR score is statistically insignificant\n",
      "MAP score is statistically insignificant\n",
      "BPref score is statistically insignificant\n"
     ]
    }
   ],
   "source": [
    "bm25_dpr = pd.read_csv('../Results/Scores/dpr-bm25-v2_eval_tydi_scores.csv')\n",
    "compare_with_sparse(bm25_dpr, 'bm25')"
   ]
  },
  {
   "cell_type": "markdown",
   "id": "7bb28372",
   "metadata": {},
   "source": [
    "### LMD vs LMD-DPR"
   ]
  },
  {
   "cell_type": "code",
   "execution_count": 12,
   "id": "5761b774",
   "metadata": {},
   "outputs": [
    {
     "name": "stdout",
     "output_type": "stream",
     "text": [
      "Precision score is statistically insignificant\n",
      "MRR score is statistically insignificant\n",
      "MAP score is statistically significant\n",
      "BPref score is statistically significant\n"
     ]
    }
   ],
   "source": [
    "lmd_dpr = pd.read_csv('../Results/Scores/dpr-lmd-v2_eval_tydi_scores.csv')\n",
    "compare_with_sparse(lmd_dpr, 'lmd')"
   ]
  },
  {
   "cell_type": "markdown",
   "id": "116a8a73",
   "metadata": {},
   "source": [
    "### TFIDF vs TFIDF-DPR"
   ]
  },
  {
   "cell_type": "code",
   "execution_count": 13,
   "id": "30999a32",
   "metadata": {},
   "outputs": [
    {
     "name": "stdout",
     "output_type": "stream",
     "text": [
      "Precision score is statistically significant\n",
      "MRR score is statistically significant\n",
      "MAP score is statistically significant\n",
      "BPref score is statistically insignificant\n"
     ]
    }
   ],
   "source": [
    "tfidf_dpr = pd.read_csv('../Results/Scores/dpr-classic-v2_eval_tydi_scores.csv')\n",
    "compare_with_sparse(tfidf_dpr, 'classic')"
   ]
  },
  {
   "cell_type": "markdown",
   "id": "a723e0ca",
   "metadata": {},
   "source": [
    "## Dense Model vs Hybrid Sparse-Dense Model"
   ]
  },
  {
   "cell_type": "markdown",
   "id": "578d4efe",
   "metadata": {},
   "source": [
    "### DPR vs BM25-DPR"
   ]
  },
  {
   "cell_type": "code",
   "execution_count": 14,
   "id": "27188dba",
   "metadata": {},
   "outputs": [
    {
     "name": "stdout",
     "output_type": "stream",
     "text": [
      "Precision score is statistically significant\n",
      "MRR score is statistically significant\n",
      "MAP score is statistically significant\n",
      "BPref score is statistically insignificant\n"
     ]
    }
   ],
   "source": [
    "bm25_dpr = pd.read_csv('../Results/Scores/dpr-bm25-v2_eval_tydi_scores.csv')\n",
    "compare_with_dpr(bm25_dpr, 'tydi')"
   ]
  },
  {
   "cell_type": "markdown",
   "id": "f90b40d1",
   "metadata": {},
   "source": [
    "### DPR vs LMD-DPR"
   ]
  },
  {
   "cell_type": "code",
   "execution_count": 15,
   "id": "7d91e13c",
   "metadata": {},
   "outputs": [
    {
     "name": "stdout",
     "output_type": "stream",
     "text": [
      "Precision score is statistically significant\n",
      "MRR score is statistically significant\n",
      "MAP score is statistically significant\n",
      "BPref score is statistically insignificant\n"
     ]
    }
   ],
   "source": [
    "lmd_dpr = pd.read_csv('../Results/Scores/dpr-lmd-v2_eval_tydi_scores.csv')\n",
    "compare_with_dpr(lmd_dpr, 'tydi')"
   ]
  },
  {
   "cell_type": "markdown",
   "id": "cc534886",
   "metadata": {},
   "source": [
    "### DPR vs TFIDF-DPR"
   ]
  },
  {
   "cell_type": "code",
   "execution_count": 16,
   "id": "0c89996c",
   "metadata": {},
   "outputs": [
    {
     "name": "stdout",
     "output_type": "stream",
     "text": [
      "Precision score is statistically significant\n",
      "MRR score is statistically significant\n",
      "MAP score is statistically significant\n",
      "BPref score is statistically insignificant\n"
     ]
    }
   ],
   "source": [
    "tfidf_dpr = pd.read_csv('../Results/Scores/dpr-classic-v2_eval_tydi_scores.csv')\n",
    "compare_with_dpr(tfidf_dpr, 'tydi')"
   ]
  },
  {
   "cell_type": "markdown",
   "id": "15006490",
   "metadata": {},
   "source": [
    "## Part 3: Retriever - Reranker Approach"
   ]
  },
  {
   "cell_type": "markdown",
   "id": "59036dcb",
   "metadata": {},
   "source": [
    "## Dense Retriever - Sparse Reranker vs Sparse Retriever"
   ]
  },
  {
   "cell_type": "markdown",
   "id": "7b0f7ce5",
   "metadata": {},
   "source": [
    "### DPR Retriever-BM25 Reranker vs BM25"
   ]
  },
  {
   "cell_type": "code",
   "execution_count": 17,
   "id": "eb9c824c",
   "metadata": {},
   "outputs": [
    {
     "name": "stdout",
     "output_type": "stream",
     "text": [
      "Precision score is statistically significant\n",
      "MRR score is statistically significant\n",
      "MAP score is statistically significant\n",
      "BPref score is statistically insignificant\n"
     ]
    }
   ],
   "source": [
    "bm25_dpr = pd.read_csv('../Results/Scores/retrieve-dpr_rerank-bm25_eval_tydi_scores.csv')\n",
    "compare_with_sparse(bm25_dpr, 'bm25')"
   ]
  },
  {
   "cell_type": "markdown",
   "id": "7dc7382f",
   "metadata": {},
   "source": [
    "### DPR Retriever-LMD Reranker vs LMD"
   ]
  },
  {
   "cell_type": "code",
   "execution_count": 18,
   "id": "b8d75acd",
   "metadata": {},
   "outputs": [
    {
     "name": "stdout",
     "output_type": "stream",
     "text": [
      "Precision score is statistically significant\n",
      "MRR score is statistically significant\n",
      "MAP score is statistically significant\n",
      "BPref score is statistically insignificant\n"
     ]
    }
   ],
   "source": [
    "lmd_dpr = pd.read_csv('../Results/Scores/retrieve-dpr_rerank-lmd_eval_tydi_scores.csv')\n",
    "compare_with_sparse(lmd_dpr, 'lmd')"
   ]
  },
  {
   "cell_type": "markdown",
   "id": "4a66a364",
   "metadata": {},
   "source": [
    "### DPR Retriever-TFIDF Reranker vs TFIDF"
   ]
  },
  {
   "cell_type": "code",
   "execution_count": 19,
   "id": "92e811b5",
   "metadata": {},
   "outputs": [
    {
     "name": "stdout",
     "output_type": "stream",
     "text": [
      "Precision score is statistically significant\n",
      "MRR score is statistically significant\n",
      "MAP score is statistically significant\n",
      "BPref score is statistically insignificant\n"
     ]
    }
   ],
   "source": [
    "tfidf_dpr = pd.read_csv('../Results/Scores/retrieve-dpr_rerank-classic_eval_tydi_scores.csv')\n",
    "compare_with_sparse(tfidf_dpr, 'classic')"
   ]
  },
  {
   "cell_type": "markdown",
   "id": "38144ca2",
   "metadata": {},
   "source": [
    "## Dense Retriever - Sparse Reranker vs Dense Retriever"
   ]
  },
  {
   "cell_type": "markdown",
   "id": "3cd40cd2",
   "metadata": {},
   "source": [
    "### DPR Retriever-BM25 Reranker vs DPR"
   ]
  },
  {
   "cell_type": "code",
   "execution_count": 20,
   "id": "b2019ffd",
   "metadata": {},
   "outputs": [
    {
     "name": "stdout",
     "output_type": "stream",
     "text": [
      "Precision score is statistically significant\n",
      "MRR score is statistically significant\n",
      "MAP score is statistically significant\n",
      "BPref score is statistically significant\n"
     ]
    }
   ],
   "source": [
    "bm25_dpr = pd.read_csv('../Results/Scores/retrieve-dpr_rerank-bm25_eval_tydi_scores.csv')\n",
    "compare_with_dpr(bm25_dpr, 'tydi')"
   ]
  },
  {
   "cell_type": "markdown",
   "id": "3408b6dc",
   "metadata": {},
   "source": [
    "### DPR Retriever-LMD Reranker vs DPR"
   ]
  },
  {
   "cell_type": "code",
   "execution_count": 21,
   "id": "e26965bc",
   "metadata": {},
   "outputs": [
    {
     "name": "stdout",
     "output_type": "stream",
     "text": [
      "Precision score is statistically significant\n",
      "MRR score is statistically significant\n",
      "MAP score is statistically significant\n",
      "BPref score is statistically significant\n"
     ]
    }
   ],
   "source": [
    "lmd_dpr = pd.read_csv('../Results/Scores/retrieve-dpr_rerank-lmd_eval_tydi_scores.csv')\n",
    "compare_with_dpr(lmd_dpr, 'tydi')"
   ]
  },
  {
   "cell_type": "markdown",
   "id": "d55c99ab",
   "metadata": {},
   "source": [
    "### DPR Retriever-TFIDF Reranker vs DPR"
   ]
  },
  {
   "cell_type": "code",
   "execution_count": 22,
   "id": "df34a565",
   "metadata": {},
   "outputs": [
    {
     "name": "stdout",
     "output_type": "stream",
     "text": [
      "Precision score is statistically significant\n",
      "MRR score is statistically insignificant\n",
      "MAP score is statistically insignificant\n",
      "BPref score is statistically insignificant\n"
     ]
    }
   ],
   "source": [
    "tfidf_dpr = pd.read_csv('../Results/Scores/retrieve-dpr_rerank-classic_eval_tydi_scores.csv')\n",
    "compare_with_dpr(tfidf_dpr, 'tydi')"
   ]
  },
  {
   "cell_type": "markdown",
   "id": "bc71d1b9",
   "metadata": {},
   "source": [
    "## Sparse Retriever - Dense Reranker vs Sparse Retriever"
   ]
  },
  {
   "cell_type": "markdown",
   "id": "d493ff2f",
   "metadata": {},
   "source": [
    "### BM25 Retriever - DPR Reranker vs BM25"
   ]
  },
  {
   "cell_type": "code",
   "execution_count": 23,
   "id": "64f78966",
   "metadata": {},
   "outputs": [
    {
     "name": "stdout",
     "output_type": "stream",
     "text": [
      "Precision score is statistically significant\n",
      "MRR score is statistically significant\n",
      "MAP score is statistically significant\n",
      "BPref score is statistically significant\n"
     ]
    }
   ],
   "source": [
    "bm25_dpr = pd.read_csv('../Results/Scores/retrieve-bm25_rerank-dpr_eval_tydi_scores.csv')\n",
    "compare_with_sparse(bm25_dpr, 'bm25')"
   ]
  },
  {
   "cell_type": "markdown",
   "id": "5749310c",
   "metadata": {},
   "source": [
    "### LMD Retriever - DPR Reranker vs LMD"
   ]
  },
  {
   "cell_type": "code",
   "execution_count": 24,
   "id": "95f84e05",
   "metadata": {},
   "outputs": [
    {
     "name": "stdout",
     "output_type": "stream",
     "text": [
      "Precision score is statistically significant\n",
      "MRR score is statistically significant\n",
      "MAP score is statistically significant\n",
      "BPref score is statistically insignificant\n"
     ]
    }
   ],
   "source": [
    "lmd_dpr = pd.read_csv('../Results/Scores/retrieve-lmd_rerank-dpr_eval_tydi_scores.csv')\n",
    "compare_with_sparse(lmd_dpr, 'lmd')"
   ]
  },
  {
   "cell_type": "markdown",
   "id": "899a890c",
   "metadata": {},
   "source": [
    "### TFIDF Retriever - DPR Reranker vs TFIDF"
   ]
  },
  {
   "cell_type": "code",
   "execution_count": 25,
   "id": "ac8d87e3",
   "metadata": {},
   "outputs": [
    {
     "name": "stdout",
     "output_type": "stream",
     "text": [
      "Precision score is statistically significant\n",
      "MRR score is statistically significant\n",
      "MAP score is statistically significant\n",
      "BPref score is statistically significant\n"
     ]
    }
   ],
   "source": [
    "tfidf_dpr = pd.read_csv('../Results/Scores/retrieve-classic_rerank-dpr_eval_tydi_scores.csv')\n",
    "compare_with_sparse(tfidf_dpr, 'classic')"
   ]
  },
  {
   "cell_type": "markdown",
   "id": "3dd91ed6",
   "metadata": {},
   "source": [
    "## Sparse Retriever - Dense Reranker vs Dense Retriever"
   ]
  },
  {
   "cell_type": "markdown",
   "id": "4d557411",
   "metadata": {},
   "source": [
    "### BM25 Retriever - DPR Reranker vs DPR"
   ]
  },
  {
   "cell_type": "code",
   "execution_count": 26,
   "id": "74e938ce",
   "metadata": {},
   "outputs": [
    {
     "name": "stdout",
     "output_type": "stream",
     "text": [
      "Precision score is statistically significant\n",
      "MRR score is statistically significant\n",
      "MAP score is statistically significant\n",
      "BPref score is statistically insignificant\n"
     ]
    }
   ],
   "source": [
    "bm25_dpr = pd.read_csv('../Results/Scores/retrieve-bm25_rerank-dpr_eval_tydi_scores.csv')\n",
    "compare_with_dpr(bm25_dpr, 'tydi')"
   ]
  },
  {
   "cell_type": "markdown",
   "id": "ad675d9a",
   "metadata": {},
   "source": [
    "### LMD Retriever - DPR Reranker vs DPR"
   ]
  },
  {
   "cell_type": "code",
   "execution_count": 27,
   "id": "96386cd8",
   "metadata": {},
   "outputs": [
    {
     "name": "stdout",
     "output_type": "stream",
     "text": [
      "Precision score is statistically significant\n",
      "MRR score is statistically significant\n",
      "MAP score is statistically significant\n",
      "BPref score is statistically insignificant\n"
     ]
    }
   ],
   "source": [
    "lmd_dpr = pd.read_csv('../Results/Scores/retrieve-lmd_rerank-dpr_eval_tydi_scores.csv')\n",
    "compare_with_dpr(lmd_dpr, 'tydi')"
   ]
  },
  {
   "cell_type": "markdown",
   "id": "b3c16714",
   "metadata": {},
   "source": [
    "### TFIDF Retriever - DPR Reranker vs DPR"
   ]
  },
  {
   "cell_type": "code",
   "execution_count": 28,
   "id": "a33a884f",
   "metadata": {},
   "outputs": [
    {
     "name": "stdout",
     "output_type": "stream",
     "text": [
      "Precision score is statistically significant\n",
      "MRR score is statistically insignificant\n",
      "MAP score is statistically significant\n",
      "BPref score is statistically significant\n"
     ]
    }
   ],
   "source": [
    "tfidf_dpr = pd.read_csv('../Results/Scores/retrieve-classic_rerank-dpr_eval_tydi_scores.csv')\n",
    "compare_with_dpr(tfidf_dpr, 'tydi')"
   ]
  },
  {
   "cell_type": "markdown",
   "id": "747b6bad",
   "metadata": {},
   "source": [
    "## Sparse Reranker - Dense Retriever vs Sparse Retriever - Dense Reranker"
   ]
  },
  {
   "cell_type": "markdown",
   "id": "00809a73",
   "metadata": {},
   "source": [
    "### BM25 Reranker - DPR Retriever vs BM25 Retriever - DPR Reranker"
   ]
  },
  {
   "cell_type": "code",
   "execution_count": 29,
   "id": "c2479237",
   "metadata": {},
   "outputs": [],
   "source": [
    "bm25_dpr1 = pd.read_csv('../Results/Scores/retrieve-dpr_rerank-bm25_eval_tydi_scores.csv')\n",
    "bm25_dpr2 = pd.read_csv('../Results/Scores/retrieve-bm25_rerank-dpr_eval_tydi_scores.csv')"
   ]
  },
  {
   "cell_type": "code",
   "execution_count": 30,
   "id": "6a9bd092",
   "metadata": {},
   "outputs": [],
   "source": [
    "metrics = bm25_dpr1.columns"
   ]
  },
  {
   "cell_type": "code",
   "execution_count": 31,
   "id": "5faa30e9",
   "metadata": {},
   "outputs": [
    {
     "name": "stdout",
     "output_type": "stream",
     "text": [
      "Precision score is statistically significant\n",
      "MRR score is statistically insignificant\n",
      "MAP score is statistically insignificant\n",
      "BPref score is statistically significant\n"
     ]
    }
   ],
   "source": [
    "significance_test(bm25_dpr1, bm25_dpr2, metrics)"
   ]
  },
  {
   "cell_type": "markdown",
   "id": "89cb843e",
   "metadata": {},
   "source": [
    "### LMD Reranker - DPR Retriever vs LMD Retriever - DPR Reranker"
   ]
  },
  {
   "cell_type": "code",
   "execution_count": 32,
   "id": "9d8e815d",
   "metadata": {},
   "outputs": [],
   "source": [
    "lmd_dpr1 = pd.read_csv('../Results/Scores/retrieve-dpr_rerank-lmd_eval_tydi_scores.csv')\n",
    "lmd_dpr2 = pd.read_csv('../Results/Scores/retrieve-lmd_rerank-dpr_eval_tydi_scores.csv')"
   ]
  },
  {
   "cell_type": "code",
   "execution_count": 33,
   "id": "ce20139d",
   "metadata": {},
   "outputs": [],
   "source": [
    "metrics = lmd_dpr1.columns"
   ]
  },
  {
   "cell_type": "code",
   "execution_count": 34,
   "id": "ca03dbee",
   "metadata": {},
   "outputs": [
    {
     "name": "stdout",
     "output_type": "stream",
     "text": [
      "Precision score is statistically insignificant\n",
      "MRR score is statistically insignificant\n",
      "MAP score is statistically insignificant\n",
      "BPref score is statistically insignificant\n"
     ]
    }
   ],
   "source": [
    "significance_test(lmd_dpr1, lmd_dpr2, metrics)"
   ]
  },
  {
   "cell_type": "markdown",
   "id": "a5b56b44",
   "metadata": {},
   "source": [
    "### TFIDF Reranker - DPR Retriever vs TFIDF Retriever - DPR Reranker"
   ]
  },
  {
   "cell_type": "code",
   "execution_count": 35,
   "id": "1dff6250",
   "metadata": {},
   "outputs": [],
   "source": [
    "tfidf_dpr1 = pd.read_csv('../Results/Scores/retrieve-dpr_rerank-classic_eval_tydi_scores.csv')\n",
    "tfidf_dpr2 = pd.read_csv('../Results/Scores/retrieve-classic_rerank-dpr_eval_tydi_scores.csv')"
   ]
  },
  {
   "cell_type": "code",
   "execution_count": 36,
   "id": "b9488d6a",
   "metadata": {},
   "outputs": [],
   "source": [
    "metrics = tfidf_dpr1.columns"
   ]
  },
  {
   "cell_type": "code",
   "execution_count": 37,
   "id": "2e85d8c4",
   "metadata": {
    "scrolled": false
   },
   "outputs": [
    {
     "name": "stdout",
     "output_type": "stream",
     "text": [
      "Precision score is statistically significant\n",
      "MRR score is statistically insignificant\n",
      "MAP score is statistically insignificant\n",
      "BPref score is statistically significant\n"
     ]
    }
   ],
   "source": [
    "significance_test(tfidf_dpr1, tfidf_dpr2, metrics)"
   ]
  },
  {
   "cell_type": "markdown",
   "id": "8d227a07",
   "metadata": {},
   "source": [
    "# Part 4: BERT Reranker "
   ]
  },
  {
   "cell_type": "markdown",
   "id": "4ae25773",
   "metadata": {},
   "source": [
    "### DPR Retriever - BERT Reranker vs DPR"
   ]
  },
  {
   "cell_type": "code",
   "execution_count": 38,
   "id": "bfce1d7c",
   "metadata": {},
   "outputs": [
    {
     "name": "stdout",
     "output_type": "stream",
     "text": [
      "Precision score is statistically insignificant\n",
      "MRR score is statistically insignificant\n",
      "MAP score is statistically insignificant\n",
      "BPref score is statistically significant\n"
     ]
    }
   ],
   "source": [
    "monobert_dpr = pd.read_csv('../Results/Scores/retrieve-dpr_rerank-monobert_eval_tydi_tydi_scores.csv')\n",
    "compare_with_dpr(monobert_dpr, 'tydi')"
   ]
  },
  {
   "cell_type": "markdown",
   "id": "a25cddd6",
   "metadata": {},
   "source": [
    "## BERT Reranker vs Sparse Reranker"
   ]
  },
  {
   "cell_type": "markdown",
   "id": "8fca7adc",
   "metadata": {},
   "source": [
    "### DPR Retriever - BERT Reranker vs DPR Retriever - BM25 Reranker"
   ]
  },
  {
   "cell_type": "code",
   "execution_count": 39,
   "id": "839182f4",
   "metadata": {},
   "outputs": [],
   "source": [
    "bm25_dpr = pd.read_csv('../Results/Scores/retrieve-dpr_rerank-bm25_eval_tydi_scores.csv')"
   ]
  },
  {
   "cell_type": "code",
   "execution_count": 40,
   "id": "ddcdc3ee",
   "metadata": {},
   "outputs": [],
   "source": [
    "metrics = bm25_dpr.columns"
   ]
  },
  {
   "cell_type": "code",
   "execution_count": 41,
   "id": "c949b0c1",
   "metadata": {},
   "outputs": [
    {
     "name": "stdout",
     "output_type": "stream",
     "text": [
      "Precision score is statistically significant\n",
      "MRR score is statistically significant\n",
      "MAP score is statistically significant\n",
      "BPref score is statistically significant\n"
     ]
    }
   ],
   "source": [
    "significance_test(bm25_dpr, monobert_dpr, metrics)"
   ]
  },
  {
   "cell_type": "markdown",
   "id": "1e6b2cd5",
   "metadata": {},
   "source": [
    "### DPR Retriever - BERT Reranker vs DPR Retriever - LMD Reranker"
   ]
  },
  {
   "cell_type": "code",
   "execution_count": 42,
   "id": "acd33f13",
   "metadata": {},
   "outputs": [],
   "source": [
    "lmd_dpr = pd.read_csv('../Results/Scores/retrieve-dpr_rerank-lmd_eval_tydi_scores.csv')"
   ]
  },
  {
   "cell_type": "code",
   "execution_count": 43,
   "id": "dd5984b8",
   "metadata": {},
   "outputs": [],
   "source": [
    "metrics = lmd_dpr.columns"
   ]
  },
  {
   "cell_type": "code",
   "execution_count": 44,
   "id": "96f8f14f",
   "metadata": {},
   "outputs": [
    {
     "name": "stdout",
     "output_type": "stream",
     "text": [
      "Precision score is statistically significant\n",
      "MRR score is statistically significant\n",
      "MAP score is statistically significant\n",
      "BPref score is statistically significant\n"
     ]
    }
   ],
   "source": [
    "significance_test(lmd_dpr, monobert_dpr, metrics)"
   ]
  },
  {
   "cell_type": "markdown",
   "id": "5fa9a393",
   "metadata": {},
   "source": [
    "### DPR Retriever - BERT Reranker vs DPR Retriever - TFIDF Reranker"
   ]
  },
  {
   "cell_type": "code",
   "execution_count": 45,
   "id": "67da8c1b",
   "metadata": {},
   "outputs": [],
   "source": [
    "tfidf_dpr = pd.read_csv('../Results/Scores/retrieve-dpr_rerank-classic_eval_tydi_scores.csv')"
   ]
  },
  {
   "cell_type": "code",
   "execution_count": 46,
   "id": "608e53e9",
   "metadata": {},
   "outputs": [],
   "source": [
    "metrics = tfidf_dpr.columns"
   ]
  },
  {
   "cell_type": "code",
   "execution_count": 47,
   "id": "e95f157b",
   "metadata": {},
   "outputs": [
    {
     "name": "stdout",
     "output_type": "stream",
     "text": [
      "Precision score is statistically significant\n",
      "MRR score is statistically insignificant\n",
      "MAP score is statistically significant\n",
      "BPref score is statistically significant\n"
     ]
    }
   ],
   "source": [
    "significance_test(tfidf_dpr, monobert_dpr, metrics)"
   ]
  },
  {
   "cell_type": "markdown",
   "id": "36d84aa7",
   "metadata": {},
   "source": [
    "## BERT Reranker vs DPR Reranker"
   ]
  },
  {
   "cell_type": "markdown",
   "id": "5a4f8eb5",
   "metadata": {},
   "source": [
    "### BM25"
   ]
  },
  {
   "cell_type": "code",
   "execution_count": 48,
   "id": "63a728f3",
   "metadata": {},
   "outputs": [],
   "source": [
    "bm25_dpr = pd.read_csv('../Results/Scores/retrieve-bm25_rerank-dpr_eval_tydi_scores.csv')\n",
    "bm25_monobert = pd.read_csv('../Results/Scores/retrieve-bm25_rerank-monobert_eval_tydi_scores.csv')"
   ]
  },
  {
   "cell_type": "code",
   "execution_count": 49,
   "id": "f07a9621",
   "metadata": {},
   "outputs": [],
   "source": [
    "metrics = bm25_monobert.columns"
   ]
  },
  {
   "cell_type": "code",
   "execution_count": 50,
   "id": "dec9a572",
   "metadata": {},
   "outputs": [
    {
     "name": "stdout",
     "output_type": "stream",
     "text": [
      "Precision score is statistically significant\n",
      "MRR score is statistically significant\n",
      "MAP score is statistically significant\n",
      "BPref score is statistically insignificant\n"
     ]
    }
   ],
   "source": [
    "significance_test(bm25_dpr, bm25_monobert, metrics)"
   ]
  },
  {
   "cell_type": "markdown",
   "id": "03c45241",
   "metadata": {},
   "source": [
    "### LMD"
   ]
  },
  {
   "cell_type": "code",
   "execution_count": 51,
   "id": "5a9922b4",
   "metadata": {},
   "outputs": [],
   "source": [
    "lmd_dpr = pd.read_csv('../Results/Scores/retrieve-lmd_rerank-dpr_eval_tydi_scores.csv')\n",
    "lmd_monobert = pd.read_csv('../Results/Scores/retrieve-lmd_rerank-monobert_eval_tydi_scores.csv')"
   ]
  },
  {
   "cell_type": "code",
   "execution_count": 52,
   "id": "c79013bc",
   "metadata": {},
   "outputs": [],
   "source": [
    "metrics = lmd_monobert.columns"
   ]
  },
  {
   "cell_type": "code",
   "execution_count": 53,
   "id": "67281afe",
   "metadata": {},
   "outputs": [
    {
     "name": "stdout",
     "output_type": "stream",
     "text": [
      "Precision score is statistically significant\n",
      "MRR score is statistically significant\n",
      "MAP score is statistically significant\n",
      "BPref score is statistically insignificant\n"
     ]
    }
   ],
   "source": [
    "significance_test(lmd_dpr, lmd_monobert, metrics)"
   ]
  },
  {
   "cell_type": "markdown",
   "id": "1e879c1b",
   "metadata": {},
   "source": [
    "### TFIDF"
   ]
  },
  {
   "cell_type": "code",
   "execution_count": 54,
   "id": "b7a8378b",
   "metadata": {},
   "outputs": [],
   "source": [
    "tfidf_dpr = pd.read_csv('../Results/Scores/retrieve-classic_rerank-dpr_eval_tydi_scores.csv')\n",
    "tfidf_monobert = pd.read_csv('../Results/Scores/retrieve-classic_rerank-monobert_eval_tydi_scores.csv')"
   ]
  },
  {
   "cell_type": "code",
   "execution_count": 55,
   "id": "cb384591",
   "metadata": {},
   "outputs": [],
   "source": [
    "metrics = tfidf_monobert.columns"
   ]
  },
  {
   "cell_type": "code",
   "execution_count": 56,
   "id": "44a9a1fc",
   "metadata": {
    "scrolled": true
   },
   "outputs": [
    {
     "name": "stdout",
     "output_type": "stream",
     "text": [
      "Precision score is statistically significant\n",
      "MRR score is statistically significant\n",
      "MAP score is statistically significant\n",
      "BPref score is statistically significant\n"
     ]
    }
   ],
   "source": [
    "significance_test(tfidf_dpr, tfidf_monobert, metrics)"
   ]
  },
  {
   "cell_type": "markdown",
   "id": "5ebb1acc",
   "metadata": {},
   "source": [
    "# B. MFAQ"
   ]
  },
  {
   "cell_type": "markdown",
   "id": "482eb3ec",
   "metadata": {},
   "source": [
    "## Part 1: Hybrid using Alpha Linear Combo"
   ]
  },
  {
   "cell_type": "markdown",
   "id": "60189508",
   "metadata": {},
   "source": [
    "### Sparse Model vs Hybrid Sparse-Dense Model"
   ]
  },
  {
   "cell_type": "markdown",
   "id": "5e38c96f",
   "metadata": {},
   "source": [
    "#### BM25 vs BM25-DPR\n"
   ]
  },
  {
   "cell_type": "code",
   "execution_count": 57,
   "id": "df40a203",
   "metadata": {},
   "outputs": [
    {
     "name": "stdout",
     "output_type": "stream",
     "text": [
      "Precision score is statistically significant\n",
      "MRR score is statistically insignificant\n",
      "MAP score is statistically insignificant\n",
      "BPref score is statistically insignificant\n"
     ]
    }
   ],
   "source": [
    "bm25_dpr = pd.read_csv('../Results/Scores/dpr-bm25_eval_mfaq_scores.csv')\n",
    "compare_with_sparse(bm25_dpr, 'bm25')"
   ]
  },
  {
   "cell_type": "markdown",
   "id": "57c882e5",
   "metadata": {},
   "source": [
    "#### LMD vs LMD-DPR"
   ]
  },
  {
   "cell_type": "code",
   "execution_count": 58,
   "id": "10c4455f",
   "metadata": {},
   "outputs": [
    {
     "name": "stdout",
     "output_type": "stream",
     "text": [
      "Precision score is statistically insignificant\n",
      "MRR score is statistically insignificant\n",
      "MAP score is statistically significant\n",
      "BPref score is statistically significant\n"
     ]
    }
   ],
   "source": [
    "lmd_dpr = pd.read_csv('../Results/Scores/dpr-lmd_eval_mfaq_scores.csv')\n",
    "compare_with_sparse(lmd_dpr, 'lmd')"
   ]
  },
  {
   "cell_type": "markdown",
   "id": "d5cbb230",
   "metadata": {},
   "source": [
    "#### TFIDF vs TFIDF-DPR"
   ]
  },
  {
   "cell_type": "code",
   "execution_count": 59,
   "id": "3198347b",
   "metadata": {},
   "outputs": [
    {
     "name": "stdout",
     "output_type": "stream",
     "text": [
      "Precision score is statistically significant\n",
      "MRR score is statistically significant\n",
      "MAP score is statistically significant\n",
      "BPref score is statistically insignificant\n"
     ]
    }
   ],
   "source": [
    "tfidf_dpr = pd.read_csv('../Results/Scores/dpr-classic_eval_mfaq_scores.csv')\n",
    "compare_with_sparse(tfidf_dpr, 'classic')"
   ]
  },
  {
   "cell_type": "markdown",
   "id": "3b3fc487",
   "metadata": {},
   "source": [
    "### Dense Model vs Hybrid Sparse-Dense Model"
   ]
  },
  {
   "cell_type": "markdown",
   "id": "5df63834",
   "metadata": {},
   "source": [
    "#### DPR vs BM25-DPR"
   ]
  },
  {
   "cell_type": "code",
   "execution_count": 60,
   "id": "9d089e16",
   "metadata": {},
   "outputs": [
    {
     "name": "stdout",
     "output_type": "stream",
     "text": [
      "Precision score is statistically significant\n",
      "MRR score is statistically significant\n",
      "MAP score is statistically significant\n",
      "BPref score is statistically significant\n"
     ]
    }
   ],
   "source": [
    "bm25_dpr = pd.read_csv('../Results/Scores/dpr-bm25_eval_mfaq_scores.csv')\n",
    "compare_with_dpr(bm25_dpr, 'mfaq')"
   ]
  },
  {
   "cell_type": "markdown",
   "id": "95b4f4d9",
   "metadata": {},
   "source": [
    "#### DPR vs LMD-DPR"
   ]
  },
  {
   "cell_type": "code",
   "execution_count": 61,
   "id": "dd2f184e",
   "metadata": {},
   "outputs": [
    {
     "name": "stdout",
     "output_type": "stream",
     "text": [
      "Precision score is statistically significant\n",
      "MRR score is statistically significant\n",
      "MAP score is statistically significant\n",
      "BPref score is statistically significant\n"
     ]
    }
   ],
   "source": [
    "lmd_dpr = pd.read_csv('../Results/Scores/dpr-lmd_eval_mfaq_scores.csv')\n",
    "compare_with_dpr(lmd_dpr, 'mfaq')"
   ]
  },
  {
   "cell_type": "markdown",
   "id": "11b6cd9e",
   "metadata": {},
   "source": [
    "#### DPR vs TFIDF-DPR"
   ]
  },
  {
   "cell_type": "code",
   "execution_count": 62,
   "id": "471f15c5",
   "metadata": {
    "scrolled": true
   },
   "outputs": [
    {
     "name": "stdout",
     "output_type": "stream",
     "text": [
      "Precision score is statistically significant\n",
      "MRR score is statistically significant\n",
      "MAP score is statistically significant\n",
      "BPref score is statistically insignificant\n"
     ]
    }
   ],
   "source": [
    "tfidf_dpr = pd.read_csv('../Results/Scores/dpr-classic_eval_mfaq_scores.csv')\n",
    "compare_with_dpr(tfidf_dpr, 'mfaq')"
   ]
  },
  {
   "cell_type": "markdown",
   "id": "d48bd3b1",
   "metadata": {},
   "source": [
    "## Part 2: Hybrid using Alpha Beta Linear Combo"
   ]
  },
  {
   "cell_type": "markdown",
   "id": "9c0fde41",
   "metadata": {},
   "source": [
    "#### BM25 vs BM25-DPR"
   ]
  },
  {
   "cell_type": "code",
   "execution_count": 63,
   "id": "a0657329",
   "metadata": {},
   "outputs": [
    {
     "name": "stdout",
     "output_type": "stream",
     "text": [
      "Precision score is statistically significant\n",
      "MRR score is statistically insignificant\n",
      "MAP score is statistically insignificant\n",
      "BPref score is statistically insignificant\n"
     ]
    }
   ],
   "source": [
    "bm25_dpr = pd.read_csv('../Results/Scores/dpr-bm25-v2_eval_mfaq_scores.csv')\n",
    "compare_with_sparse(bm25_dpr, 'bm25')"
   ]
  },
  {
   "cell_type": "markdown",
   "id": "3f95e4ac",
   "metadata": {},
   "source": [
    "#### LMD vs LMD-DPR"
   ]
  },
  {
   "cell_type": "code",
   "execution_count": 64,
   "id": "efccf9b7",
   "metadata": {},
   "outputs": [
    {
     "name": "stdout",
     "output_type": "stream",
     "text": [
      "Precision score is statistically insignificant\n",
      "MRR score is statistically insignificant\n",
      "MAP score is statistically insignificant\n",
      "BPref score is statistically insignificant\n"
     ]
    }
   ],
   "source": [
    "lmd_dpr = pd.read_csv('../Results/Scores/dpr-lmd-v2_eval_mfaq_scores.csv')\n",
    "compare_with_sparse(lmd_dpr, 'lmd')"
   ]
  },
  {
   "cell_type": "markdown",
   "id": "2b323e27",
   "metadata": {},
   "source": [
    "#### TFIDF vs TFIDF-DPR"
   ]
  },
  {
   "cell_type": "code",
   "execution_count": 65,
   "id": "1a5a93ec",
   "metadata": {},
   "outputs": [
    {
     "name": "stdout",
     "output_type": "stream",
     "text": [
      "Precision score is statistically significant\n",
      "MRR score is statistically significant\n",
      "MAP score is statistically significant\n",
      "BPref score is statistically insignificant\n"
     ]
    }
   ],
   "source": [
    "tfidf_dpr = pd.read_csv('../Results/Scores/dpr-classic-v2_eval_mfaq_scores.csv')\n",
    "compare_with_sparse(tfidf_dpr, 'classic')"
   ]
  },
  {
   "cell_type": "markdown",
   "id": "d29d6349",
   "metadata": {},
   "source": [
    "### Dense Model vs Hybrid Sparse-Dense Model"
   ]
  },
  {
   "cell_type": "markdown",
   "id": "e47dcc0f",
   "metadata": {},
   "source": [
    "#### DPR vs BM25-DPR"
   ]
  },
  {
   "cell_type": "code",
   "execution_count": 66,
   "id": "1f59637b",
   "metadata": {},
   "outputs": [
    {
     "name": "stdout",
     "output_type": "stream",
     "text": [
      "Precision score is statistically significant\n",
      "MRR score is statistically significant\n",
      "MAP score is statistically significant\n",
      "BPref score is statistically significant\n"
     ]
    }
   ],
   "source": [
    "bm25_dpr = pd.read_csv('../Results/Scores/dpr-bm25-v2_eval_mfaq_scores.csv')\n",
    "compare_with_dpr(bm25_dpr, 'mfaq')"
   ]
  },
  {
   "cell_type": "markdown",
   "id": "ed3697e1",
   "metadata": {},
   "source": [
    "#### DPR vs LMD-DPR"
   ]
  },
  {
   "cell_type": "code",
   "execution_count": 67,
   "id": "88596b60",
   "metadata": {},
   "outputs": [
    {
     "name": "stdout",
     "output_type": "stream",
     "text": [
      "Precision score is statistically significant\n",
      "MRR score is statistically significant\n",
      "MAP score is statistically significant\n",
      "BPref score is statistically significant\n"
     ]
    }
   ],
   "source": [
    "lmd_dpr = pd.read_csv('../Results/Scores/dpr-lmd-v2_eval_mfaq_scores.csv')\n",
    "compare_with_dpr(lmd_dpr, 'mfaq')"
   ]
  },
  {
   "cell_type": "markdown",
   "id": "24da3100",
   "metadata": {},
   "source": [
    "#### DPR vs TFIDF-DPR"
   ]
  },
  {
   "cell_type": "code",
   "execution_count": 68,
   "id": "728ca801",
   "metadata": {},
   "outputs": [
    {
     "name": "stdout",
     "output_type": "stream",
     "text": [
      "Precision score is statistically significant\n",
      "MRR score is statistically significant\n",
      "MAP score is statistically significant\n",
      "BPref score is statistically insignificant\n"
     ]
    }
   ],
   "source": [
    "tfidf_dpr = pd.read_csv('../Results/Scores/dpr-classic-v2_eval_mfaq_scores.csv')\n",
    "compare_with_dpr(tfidf_dpr, 'mfaq')"
   ]
  },
  {
   "cell_type": "markdown",
   "id": "9a089d50",
   "metadata": {},
   "source": [
    "## Part 3: Retriever - Reranker Approach"
   ]
  },
  {
   "cell_type": "markdown",
   "id": "814148d7",
   "metadata": {},
   "source": [
    "### Dense Retriever - Sparse Reranker vs Sparse Retriever"
   ]
  },
  {
   "cell_type": "markdown",
   "id": "1508d18a",
   "metadata": {},
   "source": [
    "#### DPR Retriever-BM25 Reranker vs BM25"
   ]
  },
  {
   "cell_type": "code",
   "execution_count": 69,
   "id": "fade4ac5",
   "metadata": {
    "scrolled": true
   },
   "outputs": [
    {
     "name": "stdout",
     "output_type": "stream",
     "text": [
      "Precision score is statistically significant\n",
      "MRR score is statistically significant\n",
      "MAP score is statistically significant\n",
      "BPref score is statistically significant\n"
     ]
    }
   ],
   "source": [
    "bm25_dpr = pd.read_csv('../Results/Scores/retrieve-dpr_rerank-bm25_eval_mfaq_scores.csv')\n",
    "compare_with_sparse(bm25_dpr, 'bm25')"
   ]
  },
  {
   "cell_type": "markdown",
   "id": "e1bff768",
   "metadata": {},
   "source": [
    "#### DPR Retriever-LMD Reranker vs LMD"
   ]
  },
  {
   "cell_type": "code",
   "execution_count": 70,
   "id": "aa4a3449",
   "metadata": {},
   "outputs": [
    {
     "name": "stdout",
     "output_type": "stream",
     "text": [
      "Precision score is statistically significant\n",
      "MRR score is statistically significant\n",
      "MAP score is statistically significant\n",
      "BPref score is statistically insignificant\n"
     ]
    }
   ],
   "source": [
    "lmd_dpr = pd.read_csv('../Results/Scores/retrieve-dpr_rerank-lmd_eval_mfaq_scores.csv')\n",
    "compare_with_sparse(lmd_dpr, 'lmd')"
   ]
  },
  {
   "cell_type": "markdown",
   "id": "85801df5",
   "metadata": {},
   "source": [
    "#### DPR Retriever-TFIDF Reranker vs TFIDF"
   ]
  },
  {
   "cell_type": "code",
   "execution_count": 71,
   "id": "7c69dde9",
   "metadata": {
    "scrolled": true
   },
   "outputs": [
    {
     "name": "stdout",
     "output_type": "stream",
     "text": [
      "Precision score is statistically significant\n",
      "MRR score is statistically significant\n",
      "MAP score is statistically significant\n",
      "BPref score is statistically significant\n"
     ]
    }
   ],
   "source": [
    "tfidf_dpr = pd.read_csv('../Results/Scores/retrieve-dpr_rerank-classic_eval_mfaq_scores.csv')\n",
    "compare_with_sparse(tfidf_dpr, 'classic')"
   ]
  },
  {
   "cell_type": "markdown",
   "id": "9cce741e",
   "metadata": {},
   "source": [
    "### Dense Retriever - Sparse Reranker vs Dense Retriever"
   ]
  },
  {
   "cell_type": "markdown",
   "id": "24255f4f",
   "metadata": {},
   "source": [
    "#### DPR Retriever-BM25 Reranker vs DPR"
   ]
  },
  {
   "cell_type": "code",
   "execution_count": 72,
   "id": "fe727149",
   "metadata": {
    "scrolled": true
   },
   "outputs": [
    {
     "name": "stdout",
     "output_type": "stream",
     "text": [
      "Precision score is statistically significant\n",
      "MRR score is statistically significant\n",
      "MAP score is statistically significant\n",
      "BPref score is statistically significant\n"
     ]
    }
   ],
   "source": [
    "bm25_dpr = pd.read_csv('../Results/Scores/retrieve-dpr_rerank-bm25_eval_mfaq_scores.csv')\n",
    "compare_with_dpr(bm25_dpr, 'mfaq')"
   ]
  },
  {
   "cell_type": "markdown",
   "id": "6fc45540",
   "metadata": {},
   "source": [
    "#### DPR Retriever-LMD Reranker vs DPR"
   ]
  },
  {
   "cell_type": "code",
   "execution_count": 73,
   "id": "9c0f7afb",
   "metadata": {
    "scrolled": true
   },
   "outputs": [
    {
     "name": "stdout",
     "output_type": "stream",
     "text": [
      "Precision score is statistically significant\n",
      "MRR score is statistically significant\n",
      "MAP score is statistically significant\n",
      "BPref score is statistically significant\n"
     ]
    }
   ],
   "source": [
    "lmd_dpr = pd.read_csv('../Results/Scores/retrieve-dpr_rerank-lmd_eval_mfaq_scores.csv')\n",
    "compare_with_dpr(lmd_dpr, 'mfaq')"
   ]
  },
  {
   "cell_type": "markdown",
   "id": "657f806a",
   "metadata": {},
   "source": [
    "#### DPR Retriever-TFIDF Reranker vs DPR"
   ]
  },
  {
   "cell_type": "code",
   "execution_count": 74,
   "id": "9014252f",
   "metadata": {
    "scrolled": true
   },
   "outputs": [
    {
     "name": "stdout",
     "output_type": "stream",
     "text": [
      "Precision score is statistically significant\n",
      "MRR score is statistically significant\n",
      "MAP score is statistically significant\n",
      "BPref score is statistically insignificant\n"
     ]
    }
   ],
   "source": [
    "tfidf_dpr = pd.read_csv('../Results/Scores/retrieve-dpr_rerank-classic_eval_mfaq_scores.csv')\n",
    "compare_with_dpr(tfidf_dpr, 'mfaq')"
   ]
  },
  {
   "cell_type": "markdown",
   "id": "e6409490",
   "metadata": {},
   "source": [
    "### Sparse Retriever - Dense Reranker vs Sparse Retriever"
   ]
  },
  {
   "cell_type": "markdown",
   "id": "ef7295ed",
   "metadata": {},
   "source": [
    "#### BM25 Retriever - DPR Reranker vs BM25"
   ]
  },
  {
   "cell_type": "code",
   "execution_count": 75,
   "id": "dac68c71",
   "metadata": {
    "scrolled": true
   },
   "outputs": [
    {
     "name": "stdout",
     "output_type": "stream",
     "text": [
      "Precision score is statistically significant\n",
      "MRR score is statistically significant\n",
      "MAP score is statistically significant\n",
      "BPref score is statistically significant\n"
     ]
    }
   ],
   "source": [
    "bm25_dpr = pd.read_csv('../Results/Scores/retrieve-bm25_rerank-dpr_eval_mfaq_scores.csv')\n",
    "compare_with_sparse(bm25_dpr, 'bm25')"
   ]
  },
  {
   "cell_type": "markdown",
   "id": "4db841ce",
   "metadata": {},
   "source": [
    "#### LMD Retriever - DPR Reranker vs LMD"
   ]
  },
  {
   "cell_type": "code",
   "execution_count": 76,
   "id": "08fb528d",
   "metadata": {
    "scrolled": true
   },
   "outputs": [
    {
     "name": "stdout",
     "output_type": "stream",
     "text": [
      "Precision score is statistically significant\n",
      "MRR score is statistically significant\n",
      "MAP score is statistically significant\n",
      "BPref score is statistically significant\n"
     ]
    }
   ],
   "source": [
    "lmd_dpr = pd.read_csv('../Results/Scores/retrieve-lmd_rerank-dpr_eval_mfaq_scores.csv')\n",
    "compare_with_sparse(lmd_dpr, 'lmd')"
   ]
  },
  {
   "cell_type": "markdown",
   "id": "951de07a",
   "metadata": {},
   "source": [
    "#### TFIDF Retriever - DPR Reranker vs TFIDF"
   ]
  },
  {
   "cell_type": "code",
   "execution_count": 77,
   "id": "650d3060",
   "metadata": {
    "scrolled": true
   },
   "outputs": [
    {
     "name": "stdout",
     "output_type": "stream",
     "text": [
      "Precision score is statistically significant\n",
      "MRR score is statistically significant\n",
      "MAP score is statistically significant\n",
      "BPref score is statistically insignificant\n"
     ]
    }
   ],
   "source": [
    "tfidf_dpr = pd.read_csv('../Results/Scores/retrieve-classic_rerank-dpr_eval_mfaq_scores.csv')\n",
    "compare_with_sparse(tfidf_dpr, 'classic')"
   ]
  },
  {
   "cell_type": "markdown",
   "id": "712416e6",
   "metadata": {},
   "source": [
    "### Sparse Retriever - Dense Reranker vs Dense Retriever"
   ]
  },
  {
   "cell_type": "markdown",
   "id": "2072c3f2",
   "metadata": {},
   "source": [
    "#### BM25 Retriever - DPR Reranker vs DPR"
   ]
  },
  {
   "cell_type": "code",
   "execution_count": 78,
   "id": "2aff04cb",
   "metadata": {
    "scrolled": true
   },
   "outputs": [
    {
     "name": "stdout",
     "output_type": "stream",
     "text": [
      "Precision score is statistically significant\n",
      "MRR score is statistically significant\n",
      "MAP score is statistically significant\n",
      "BPref score is statistically insignificant\n"
     ]
    }
   ],
   "source": [
    "bm25_dpr = pd.read_csv('../Results/Scores/retrieve-bm25_rerank-dpr_eval_mfaq_scores.csv')\n",
    "compare_with_dpr(bm25_dpr, 'mfaq')"
   ]
  },
  {
   "cell_type": "markdown",
   "id": "60944e78",
   "metadata": {},
   "source": [
    "#### LMD Retriever - DPR Reranker vs DPR"
   ]
  },
  {
   "cell_type": "code",
   "execution_count": 79,
   "id": "beb6eb33",
   "metadata": {
    "scrolled": true
   },
   "outputs": [
    {
     "name": "stdout",
     "output_type": "stream",
     "text": [
      "Precision score is statistically significant\n",
      "MRR score is statistically significant\n",
      "MAP score is statistically significant\n",
      "BPref score is statistically insignificant\n"
     ]
    }
   ],
   "source": [
    "lmd_dpr = pd.read_csv('../Results/Scores/retrieve-lmd_rerank-dpr_eval_mfaq_scores.csv')\n",
    "compare_with_dpr(lmd_dpr, 'mfaq')"
   ]
  },
  {
   "cell_type": "markdown",
   "id": "97c417f7",
   "metadata": {},
   "source": [
    "#### TFIDF Retriever - DPR Reranker vs DPR"
   ]
  },
  {
   "cell_type": "code",
   "execution_count": 80,
   "id": "5c49d604",
   "metadata": {
    "scrolled": true
   },
   "outputs": [
    {
     "name": "stdout",
     "output_type": "stream",
     "text": [
      "Precision score is statistically significant\n",
      "MRR score is statistically significant\n",
      "MAP score is statistically significant\n",
      "BPref score is statistically insignificant\n"
     ]
    }
   ],
   "source": [
    "tfidf_dpr = pd.read_csv('../Results/Scores/retrieve-classic_rerank-dpr_eval_mfaq_scores.csv')\n",
    "compare_with_dpr(tfidf_dpr, 'mfaq')"
   ]
  },
  {
   "cell_type": "markdown",
   "id": "4f9607dd",
   "metadata": {},
   "source": [
    "### Sparse Reranker - Dense Retriever vs Sparse Retriever - Dense Reranker"
   ]
  },
  {
   "cell_type": "markdown",
   "id": "523a3ed1",
   "metadata": {},
   "source": [
    "#### BM25 Reranker - DPR Retriever vs BM25 Retriever - DPR Reranker"
   ]
  },
  {
   "cell_type": "code",
   "execution_count": 81,
   "id": "bac4fcd7",
   "metadata": {
    "scrolled": true
   },
   "outputs": [
    {
     "name": "stdout",
     "output_type": "stream",
     "text": [
      "Precision score is statistically significant\n",
      "MRR score is statistically insignificant\n",
      "MAP score is statistically insignificant\n",
      "BPref score is statistically insignificant\n"
     ]
    }
   ],
   "source": [
    "bm25_dpr1 = pd.read_csv('../Results/Scores/retrieve-dpr_rerank-bm25_eval_mfaq_scores.csv')\n",
    "\n",
    "bm25_dpr2 = pd.read_csv('../Results/Scores/retrieve-bm25_rerank-dpr_eval_mfaq_scores.csv')\n",
    "\n",
    "metrics = bm25_dpr1.columns\n",
    "\n",
    "significance_test(bm25_dpr1, bm25_dpr2, metrics)"
   ]
  },
  {
   "cell_type": "markdown",
   "id": "1532b8e1",
   "metadata": {},
   "source": [
    "#### LMD Reranker - DPR Retriever vs LMD Retriever - DPR Reranker"
   ]
  },
  {
   "cell_type": "code",
   "execution_count": 82,
   "id": "c091f5ff",
   "metadata": {
    "scrolled": true
   },
   "outputs": [
    {
     "name": "stdout",
     "output_type": "stream",
     "text": [
      "Precision score is statistically significant\n",
      "MRR score is statistically insignificant\n",
      "MAP score is statistically insignificant\n",
      "BPref score is statistically significant\n"
     ]
    }
   ],
   "source": [
    "lmd_dpr1 = pd.read_csv('../Results/Scores/retrieve-dpr_rerank-lmd_eval_mfaq_scores.csv')\n",
    "\n",
    "lmd_dpr2 = pd.read_csv('../Results/Scores/retrieve-lmd_rerank-dpr_eval_mfaq_scores.csv')\n",
    "\n",
    "metrics = lmd_dpr1.columns\n",
    "\n",
    "significance_test(lmd_dpr1, lmd_dpr2, metrics)"
   ]
  },
  {
   "cell_type": "markdown",
   "id": "a1a64e1f",
   "metadata": {},
   "source": [
    "#### TFIDF Reranker - DPR Retriever vs TFIDF Retriever - DPR Reranker"
   ]
  },
  {
   "cell_type": "code",
   "execution_count": 83,
   "id": "469eafc3",
   "metadata": {},
   "outputs": [
    {
     "name": "stdout",
     "output_type": "stream",
     "text": [
      "Precision score is statistically significant\n",
      "MRR score is statistically significant\n",
      "MAP score is statistically significant\n",
      "BPref score is statistically insignificant\n"
     ]
    }
   ],
   "source": [
    "tfidf_dpr1 = pd.read_csv('../Results/Scores/retrieve-dpr_rerank-classic_eval_mfaq_scores.csv')\n",
    "\n",
    "tfidf_dpr2 = pd.read_csv('../Results/Scores/retrieve-classic_rerank-dpr_eval_mfaq_scores.csv')\n",
    "\n",
    "metrics = tfidf_dpr1.columns\n",
    "\n",
    "significance_test(tfidf_dpr1, tfidf_dpr2, metrics)"
   ]
  },
  {
   "cell_type": "markdown",
   "id": "2c33dea1",
   "metadata": {},
   "source": [
    "# C. TTHealth"
   ]
  },
  {
   "cell_type": "markdown",
   "id": "6ef5ee2e",
   "metadata": {},
   "source": [
    "## DPR vs DPR-PRF"
   ]
  },
  {
   "cell_type": "code",
   "execution_count": 84,
   "id": "a65ad47d",
   "metadata": {
    "scrolled": true
   },
   "outputs": [
    {
     "name": "stdout",
     "output_type": "stream",
     "text": [
      "Precision score is statistically insignificant\n",
      "MRR score is statistically insignificant\n",
      "MAP score is statistically insignificant\n",
      "BPref score is statistically insignificant\n"
     ]
    }
   ],
   "source": [
    "dpr_prf = pd.read_csv('../Results/Scores/dpr_prf_eval_tthealth_scores.csv')\n",
    "compare_with_dpr(dpr_prf, 'tthealth')"
   ]
  },
  {
   "cell_type": "markdown",
   "id": "e5b03c1d",
   "metadata": {},
   "source": [
    "## Sparse Model vs Hybrid Sparse-Dense Model"
   ]
  },
  {
   "cell_type": "markdown",
   "id": "08ecb6c2",
   "metadata": {},
   "source": [
    "### BM25 vs BM25-DPR"
   ]
  },
  {
   "cell_type": "code",
   "execution_count": 85,
   "id": "d7640c5c",
   "metadata": {},
   "outputs": [
    {
     "name": "stdout",
     "output_type": "stream",
     "text": [
      "Precision score is statistically insignificant\n",
      "MRR score is statistically insignificant\n",
      "MAP score is statistically insignificant\n",
      "BPref score is statistically insignificant\n"
     ]
    }
   ],
   "source": [
    "bm25_dpr = pd.read_csv('../Results/Scores/dpr-bm25_eval_tthealth_scores.csv')\n",
    "compare_with_sparse(bm25_dpr, 'bm25')"
   ]
  },
  {
   "cell_type": "markdown",
   "id": "65d69e6e",
   "metadata": {},
   "source": [
    "### LMD vs LMD-DPR"
   ]
  },
  {
   "cell_type": "code",
   "execution_count": 86,
   "id": "9a1eb2ec",
   "metadata": {},
   "outputs": [
    {
     "name": "stdout",
     "output_type": "stream",
     "text": [
      "Precision score is statistically insignificant\n",
      "MRR score is statistically insignificant\n",
      "MAP score is statistically significant\n",
      "BPref score is statistically significant\n"
     ]
    }
   ],
   "source": [
    "lmd_dpr = pd.read_csv('../Results/Scores/dpr-lmd_eval_tthealth_scores.csv')\n",
    "compare_with_sparse(lmd_dpr, 'lmd')"
   ]
  },
  {
   "cell_type": "markdown",
   "id": "2842fcf7",
   "metadata": {},
   "source": [
    "### TFIDF vs TFIDF-DPR"
   ]
  },
  {
   "cell_type": "code",
   "execution_count": 87,
   "id": "6fee3343",
   "metadata": {},
   "outputs": [
    {
     "name": "stdout",
     "output_type": "stream",
     "text": [
      "Precision score is statistically significant\n",
      "MRR score is statistically significant\n",
      "MAP score is statistically significant\n",
      "BPref score is statistically insignificant\n"
     ]
    }
   ],
   "source": [
    "tfidf_dpr = pd.read_csv('../Results/Scores/dpr-classic_eval_tthealth_scores.csv')\n",
    "compare_with_sparse(tfidf_dpr, 'classic')"
   ]
  },
  {
   "cell_type": "markdown",
   "id": "7b333903",
   "metadata": {},
   "source": [
    "## Dense Model vs Hybrid Sparse-Dense Model"
   ]
  },
  {
   "cell_type": "markdown",
   "id": "f38693af",
   "metadata": {},
   "source": [
    "### DPR vs BM25-DPR"
   ]
  },
  {
   "cell_type": "code",
   "execution_count": 88,
   "id": "b66fe94b",
   "metadata": {},
   "outputs": [
    {
     "name": "stdout",
     "output_type": "stream",
     "text": [
      "Precision score is statistically significant\n",
      "MRR score is statistically significant\n",
      "MAP score is statistically significant\n",
      "BPref score is statistically insignificant\n"
     ]
    }
   ],
   "source": [
    "bm25_dpr = pd.read_csv('../Results/Scores/dpr-bm25_eval_tthealth_scores.csv')\n",
    "compare_with_dpr(bm25_dpr,'tthealth')"
   ]
  },
  {
   "cell_type": "markdown",
   "id": "4492b681",
   "metadata": {},
   "source": [
    "### DPR vs LMD-DPR"
   ]
  },
  {
   "cell_type": "code",
   "execution_count": 89,
   "id": "35959e0d",
   "metadata": {},
   "outputs": [
    {
     "name": "stdout",
     "output_type": "stream",
     "text": [
      "Precision score is statistically significant\n",
      "MRR score is statistically significant\n",
      "MAP score is statistically significant\n",
      "BPref score is statistically insignificant\n"
     ]
    }
   ],
   "source": [
    "lmd_dpr = pd.read_csv('../Results/Scores/dpr-lmd_eval_tthealth_scores.csv')\n",
    "compare_with_dpr(lmd_dpr,'tthealth')"
   ]
  },
  {
   "cell_type": "markdown",
   "id": "984cc73d",
   "metadata": {},
   "source": [
    "### DPR vs TFIDF-DPR"
   ]
  },
  {
   "cell_type": "code",
   "execution_count": 90,
   "id": "5c0f2674",
   "metadata": {},
   "outputs": [
    {
     "name": "stdout",
     "output_type": "stream",
     "text": [
      "Precision score is statistically significant\n",
      "MRR score is statistically significant\n",
      "MAP score is statistically significant\n",
      "BPref score is statistically insignificant\n"
     ]
    }
   ],
   "source": [
    "tfidf_dpr = pd.read_csv('../Results/Scores/dpr-classic_eval_tthealth_scores.csv')\n",
    "compare_with_dpr(tfidf_dpr,'tthealth')"
   ]
  },
  {
   "cell_type": "markdown",
   "id": "76323312",
   "metadata": {},
   "source": [
    "## Part 2: Hybrid using Alpha Beta Linear Combo"
   ]
  },
  {
   "cell_type": "markdown",
   "id": "a94b43d0",
   "metadata": {},
   "source": [
    "## Sparse Model vs Hybrid Sparse-Dense Model"
   ]
  },
  {
   "cell_type": "markdown",
   "id": "b40017a0",
   "metadata": {},
   "source": [
    "### BM25 vs BM25-DPR"
   ]
  },
  {
   "cell_type": "code",
   "execution_count": 91,
   "id": "b2ac3b9e",
   "metadata": {},
   "outputs": [
    {
     "name": "stdout",
     "output_type": "stream",
     "text": [
      "Precision score is statistically significant\n",
      "MRR score is statistically insignificant\n",
      "MAP score is statistically insignificant\n",
      "BPref score is statistically insignificant\n"
     ]
    }
   ],
   "source": [
    "bm25_dpr = pd.read_csv('../Results/Scores/dpr-bm25-v2_eval_tthealth_scores.csv')\n",
    "compare_with_sparse(bm25_dpr,'bm25')"
   ]
  },
  {
   "cell_type": "markdown",
   "id": "33b42fad",
   "metadata": {},
   "source": [
    "### LMD vs LMD-DPR"
   ]
  },
  {
   "cell_type": "code",
   "execution_count": 92,
   "id": "8db549d8",
   "metadata": {},
   "outputs": [
    {
     "name": "stdout",
     "output_type": "stream",
     "text": [
      "Precision score is statistically insignificant\n",
      "MRR score is statistically insignificant\n",
      "MAP score is statistically significant\n",
      "BPref score is statistically significant\n"
     ]
    }
   ],
   "source": [
    "lmd_dpr = pd.read_csv('../Results/Scores/dpr-lmd-v2_eval_tthealth_scores.csv')\n",
    "compare_with_sparse(lmd_dpr,'lmd')"
   ]
  },
  {
   "cell_type": "markdown",
   "id": "563d79dc",
   "metadata": {},
   "source": [
    "### TFIDF vs TFIDF-DPR"
   ]
  },
  {
   "cell_type": "code",
   "execution_count": 93,
   "id": "0df59a59",
   "metadata": {},
   "outputs": [
    {
     "name": "stdout",
     "output_type": "stream",
     "text": [
      "Precision score is statistically significant\n",
      "MRR score is statistically significant\n",
      "MAP score is statistically significant\n",
      "BPref score is statistically insignificant\n"
     ]
    }
   ],
   "source": [
    "tfidf_dpr = pd.read_csv('../Results/Scores/dpr-classic-v2_eval_tthealth_scores.csv')\n",
    "compare_with_sparse(tfidf_dpr,'classic')"
   ]
  },
  {
   "cell_type": "markdown",
   "id": "48c80487",
   "metadata": {},
   "source": [
    "## Dense Model vs Hybrid Sparse-Dense Model"
   ]
  },
  {
   "cell_type": "markdown",
   "id": "a37c9c04",
   "metadata": {},
   "source": [
    "### DPR vs BM25-DPR"
   ]
  },
  {
   "cell_type": "code",
   "execution_count": 94,
   "id": "b6cc7d35",
   "metadata": {},
   "outputs": [
    {
     "name": "stdout",
     "output_type": "stream",
     "text": [
      "Precision score is statistically significant\n",
      "MRR score is statistically significant\n",
      "MAP score is statistically significant\n",
      "BPref score is statistically insignificant\n"
     ]
    }
   ],
   "source": [
    "bm25_dpr = pd.read_csv('../Results/Scores/dpr-bm25-v2_eval_tthealth_scores.csv')\n",
    "compare_with_dpr(bm25_dpr, 'tthealth')"
   ]
  },
  {
   "cell_type": "markdown",
   "id": "1c73c55e",
   "metadata": {},
   "source": [
    "### DPR vs LMD-DPR"
   ]
  },
  {
   "cell_type": "code",
   "execution_count": 95,
   "id": "12f0b1c9",
   "metadata": {},
   "outputs": [
    {
     "name": "stdout",
     "output_type": "stream",
     "text": [
      "Precision score is statistically significant\n",
      "MRR score is statistically significant\n",
      "MAP score is statistically significant\n",
      "BPref score is statistically insignificant\n"
     ]
    }
   ],
   "source": [
    "lmd_dpr = pd.read_csv('../Results/Scores/dpr-lmd-v2_eval_tthealth_scores.csv')\n",
    "compare_with_dpr(lmd_dpr, 'tthealth')"
   ]
  },
  {
   "cell_type": "markdown",
   "id": "4e935004",
   "metadata": {},
   "source": [
    "### DPR vs TFIDF-DPR"
   ]
  },
  {
   "cell_type": "code",
   "execution_count": 96,
   "id": "453c6f7f",
   "metadata": {},
   "outputs": [
    {
     "name": "stdout",
     "output_type": "stream",
     "text": [
      "Precision score is statistically significant\n",
      "MRR score is statistically significant\n",
      "MAP score is statistically significant\n",
      "BPref score is statistically insignificant\n"
     ]
    }
   ],
   "source": [
    "tfidf_dpr = pd.read_csv('../Results/Scores/dpr-classic-v2_eval_tthealth_scores.csv')\n",
    "compare_with_dpr(tfidf_dpr, 'tthealth')"
   ]
  },
  {
   "cell_type": "markdown",
   "id": "216197c9",
   "metadata": {},
   "source": [
    "## Part 3: Retriever - Reranker Approach"
   ]
  },
  {
   "cell_type": "markdown",
   "id": "7775f366",
   "metadata": {},
   "source": [
    "## Dense Retriever - Sparse Reranker vs Sparse Retriever"
   ]
  },
  {
   "cell_type": "markdown",
   "id": "bc9df651",
   "metadata": {},
   "source": [
    "### DPR Retriever-BM25 Reranker vs BM25"
   ]
  },
  {
   "cell_type": "code",
   "execution_count": 97,
   "id": "596d88a5",
   "metadata": {},
   "outputs": [
    {
     "name": "stdout",
     "output_type": "stream",
     "text": [
      "Precision score is statistically significant\n",
      "MRR score is statistically significant\n",
      "MAP score is statistically significant\n",
      "BPref score is statistically insignificant\n"
     ]
    }
   ],
   "source": [
    "bm25_dpr = pd.read_csv('../Results/Scores/retrieve-dpr_rerank-bm25_eval_tthealth_scores.csv')\n",
    "compare_with_sparse(bm25_dpr, 'bm25')"
   ]
  },
  {
   "cell_type": "markdown",
   "id": "8c8280db",
   "metadata": {},
   "source": [
    "### DPR Retriever-LMD Reranker vs LMD"
   ]
  },
  {
   "cell_type": "code",
   "execution_count": 98,
   "id": "1b00ebf4",
   "metadata": {},
   "outputs": [
    {
     "name": "stdout",
     "output_type": "stream",
     "text": [
      "Precision score is statistically significant\n",
      "MRR score is statistically significant\n",
      "MAP score is statistically significant\n",
      "BPref score is statistically insignificant\n"
     ]
    }
   ],
   "source": [
    "lmd_dpr = pd.read_csv('../Results/Scores/retrieve-dpr_rerank-lmd_eval_tthealth_scores.csv')\n",
    "compare_with_sparse(lmd_dpr, 'lmd')"
   ]
  },
  {
   "cell_type": "markdown",
   "id": "1c9e2642",
   "metadata": {},
   "source": [
    "### DPR Retriever-TFIDF Reranker vs TFIDF"
   ]
  },
  {
   "cell_type": "code",
   "execution_count": 99,
   "id": "54d32b0a",
   "metadata": {},
   "outputs": [
    {
     "name": "stdout",
     "output_type": "stream",
     "text": [
      "Precision score is statistically significant\n",
      "MRR score is statistically significant\n",
      "MAP score is statistically significant\n",
      "BPref score is statistically insignificant\n"
     ]
    }
   ],
   "source": [
    "tfidf_dpr = pd.read_csv('../Results/Scores/retrieve-dpr_rerank-classic_eval_tthealth_scores.csv')\n",
    "compare_with_sparse(tfidf_dpr, 'classic')"
   ]
  },
  {
   "cell_type": "markdown",
   "id": "61b73088",
   "metadata": {},
   "source": [
    "## Dense Retriever - Sparse Reranker vs Dense Retriever"
   ]
  },
  {
   "cell_type": "markdown",
   "id": "cc656fd9",
   "metadata": {},
   "source": [
    "### DPR Retriever-BM25 Reranker vs DPR"
   ]
  },
  {
   "cell_type": "code",
   "execution_count": 100,
   "id": "a8fc1966",
   "metadata": {},
   "outputs": [
    {
     "name": "stdout",
     "output_type": "stream",
     "text": [
      "Precision score is statistically significant\n",
      "MRR score is statistically significant\n",
      "MAP score is statistically significant\n",
      "BPref score is statistically insignificant\n"
     ]
    }
   ],
   "source": [
    "bm25_dpr = pd.read_csv('../Results/Scores/retrieve-dpr_rerank-bm25_eval_tthealth_scores.csv')\n",
    "compare_with_dpr(bm25_dpr, 'tthealth')"
   ]
  },
  {
   "cell_type": "markdown",
   "id": "32311087",
   "metadata": {},
   "source": [
    "### DPR Retriever-LMD Reranker vs DPR"
   ]
  },
  {
   "cell_type": "code",
   "execution_count": 101,
   "id": "b4efa9cc",
   "metadata": {},
   "outputs": [
    {
     "name": "stdout",
     "output_type": "stream",
     "text": [
      "Precision score is statistically significant\n",
      "MRR score is statistically significant\n",
      "MAP score is statistically significant\n",
      "BPref score is statistically insignificant\n"
     ]
    }
   ],
   "source": [
    "lmd_dpr = pd.read_csv('../Results/Scores/retrieve-dpr_rerank-lmd_eval_tthealth_scores.csv')\n",
    "compare_with_dpr(lmd_dpr, 'tthealth')"
   ]
  },
  {
   "cell_type": "markdown",
   "id": "b9723711",
   "metadata": {},
   "source": [
    "### DPR Retriever-TFIDF Reranker vs DPR"
   ]
  },
  {
   "cell_type": "code",
   "execution_count": 102,
   "id": "0420a40e",
   "metadata": {},
   "outputs": [
    {
     "name": "stdout",
     "output_type": "stream",
     "text": [
      "Precision score is statistically insignificant\n",
      "MRR score is statistically insignificant\n",
      "MAP score is statistically insignificant\n",
      "BPref score is statistically insignificant\n"
     ]
    }
   ],
   "source": [
    "tfidf_dpr = pd.read_csv('../Results/Scores/retrieve-dpr_rerank-classic_eval_tthealth_scores.csv')\n",
    "compare_with_dpr(tfidf_dpr, 'tthealth')"
   ]
  },
  {
   "cell_type": "markdown",
   "id": "e8e2fc29",
   "metadata": {},
   "source": [
    "## Sparse Retriever - Dense Reranker vs Sparse Retriever"
   ]
  },
  {
   "cell_type": "markdown",
   "id": "79ee993d",
   "metadata": {},
   "source": [
    "### BM25 Retriever - DPR Reranker vs BM25"
   ]
  },
  {
   "cell_type": "code",
   "execution_count": 103,
   "id": "15c6fbb4",
   "metadata": {},
   "outputs": [
    {
     "name": "stdout",
     "output_type": "stream",
     "text": [
      "Precision score is statistically significant\n",
      "MRR score is statistically significant\n",
      "MAP score is statistically significant\n",
      "BPref score is statistically significant\n"
     ]
    }
   ],
   "source": [
    "bm25_dpr = pd.read_csv('../Results/Scores/retrieve-bm25_rerank-dpr_eval_tthealth_scores.csv')\n",
    "compare_with_sparse(bm25_dpr, 'bm25')"
   ]
  },
  {
   "cell_type": "markdown",
   "id": "54d906a7",
   "metadata": {},
   "source": [
    "### LMD Retriever - DPR Reranker vs LMD"
   ]
  },
  {
   "cell_type": "code",
   "execution_count": 104,
   "id": "53eafd28",
   "metadata": {},
   "outputs": [
    {
     "name": "stdout",
     "output_type": "stream",
     "text": [
      "Precision score is statistically significant\n",
      "MRR score is statistically significant\n",
      "MAP score is statistically significant\n",
      "BPref score is statistically insignificant\n"
     ]
    }
   ],
   "source": [
    "lmd_dpr = pd.read_csv('../Results/Scores/retrieve-lmd_rerank-dpr_eval_tthealth_scores.csv')\n",
    "compare_with_sparse(lmd_dpr, 'lmd')"
   ]
  },
  {
   "cell_type": "markdown",
   "id": "25848cfb",
   "metadata": {},
   "source": [
    "### TFIDF Retriever - DPR Reranker vs TFIDF"
   ]
  },
  {
   "cell_type": "code",
   "execution_count": 105,
   "id": "769ddce4",
   "metadata": {},
   "outputs": [
    {
     "name": "stdout",
     "output_type": "stream",
     "text": [
      "Precision score is statistically significant\n",
      "MRR score is statistically significant\n",
      "MAP score is statistically significant\n",
      "BPref score is statistically insignificant\n"
     ]
    }
   ],
   "source": [
    "tfidf_dpr = pd.read_csv('../Results/Scores/retrieve-classic_rerank-dpr_eval_tthealth_scores.csv')\n",
    "compare_with_sparse(tfidf_dpr, 'classic')"
   ]
  },
  {
   "cell_type": "markdown",
   "id": "f11e50ce",
   "metadata": {},
   "source": [
    "## Sparse Retriever - Dense Reranker vs Dense Retriever"
   ]
  },
  {
   "cell_type": "markdown",
   "id": "3d313b12",
   "metadata": {},
   "source": [
    "### BM25 Retriever - DPR Reranker vs DPR"
   ]
  },
  {
   "cell_type": "code",
   "execution_count": 106,
   "id": "0e6f1dcc",
   "metadata": {},
   "outputs": [
    {
     "name": "stdout",
     "output_type": "stream",
     "text": [
      "Precision score is statistically significant\n",
      "MRR score is statistically insignificant\n",
      "MAP score is statistically insignificant\n",
      "BPref score is statistically insignificant\n"
     ]
    }
   ],
   "source": [
    "bm25_dpr = pd.read_csv('../Results/Scores/retrieve-bm25_rerank-dpr_eval_tthealth_scores.csv')\n",
    "compare_with_dpr(bm25_dpr, 'tthealth')"
   ]
  },
  {
   "cell_type": "markdown",
   "id": "dfcc9242",
   "metadata": {},
   "source": [
    "### LMD Retriever - DPR Reranker vs DPR"
   ]
  },
  {
   "cell_type": "code",
   "execution_count": 107,
   "id": "c3ab6165",
   "metadata": {},
   "outputs": [
    {
     "name": "stdout",
     "output_type": "stream",
     "text": [
      "Precision score is statistically insignificant\n",
      "MRR score is statistically insignificant\n",
      "MAP score is statistically insignificant\n",
      "BPref score is statistically significant\n"
     ]
    }
   ],
   "source": [
    "lmd_dpr = pd.read_csv('../Results/Scores/retrieve-lmd_rerank-dpr_eval_tthealth_scores.csv')\n",
    "compare_with_dpr(lmd_dpr, 'tthealth')"
   ]
  },
  {
   "cell_type": "markdown",
   "id": "6af1e065",
   "metadata": {},
   "source": [
    "### TFIDF Retriever - DPR Reranker vs DPR"
   ]
  },
  {
   "cell_type": "code",
   "execution_count": 108,
   "id": "b5819762",
   "metadata": {},
   "outputs": [
    {
     "name": "stdout",
     "output_type": "stream",
     "text": [
      "Precision score is statistically significant\n",
      "MRR score is statistically insignificant\n",
      "MAP score is statistically insignificant\n",
      "BPref score is statistically insignificant\n"
     ]
    }
   ],
   "source": [
    "tfidf_dpr = pd.read_csv('../Results/Scores/retrieve-classic_rerank-dpr_eval_tthealth_scores.csv')\n",
    "compare_with_dpr(tfidf_dpr, 'tthealth')"
   ]
  },
  {
   "cell_type": "markdown",
   "id": "bdb2d585",
   "metadata": {},
   "source": [
    "## Sparse Reranker - Dense Retriever vs Sparse Retriever - Dense Reranker"
   ]
  },
  {
   "cell_type": "markdown",
   "id": "a35470a4",
   "metadata": {},
   "source": [
    "### BM25 Reranker - DPR Retriever vs BM25 Retriever - DPR Reranker"
   ]
  },
  {
   "cell_type": "code",
   "execution_count": 109,
   "id": "e7dc0acd",
   "metadata": {},
   "outputs": [],
   "source": [
    "bm25_dpr1 = pd.read_csv('../Results/Scores/retrieve-dpr_rerank-bm25_eval_tthealth_scores.csv')\n",
    "bm25_dpr2 = pd.read_csv('../Results/Scores/retrieve-bm25_rerank-dpr_eval_tthealth_scores.csv')"
   ]
  },
  {
   "cell_type": "code",
   "execution_count": 110,
   "id": "ae22830e",
   "metadata": {},
   "outputs": [],
   "source": [
    "metrics = bm25_dpr1.columns"
   ]
  },
  {
   "cell_type": "code",
   "execution_count": 111,
   "id": "0b21f1d6",
   "metadata": {},
   "outputs": [
    {
     "name": "stdout",
     "output_type": "stream",
     "text": [
      "Precision score is statistically insignificant\n",
      "MRR score is statistically significant\n",
      "MAP score is statistically significant\n",
      "BPref score is statistically significant\n"
     ]
    }
   ],
   "source": [
    "significance_test(bm25_dpr1, bm25_dpr2, metrics)"
   ]
  },
  {
   "cell_type": "markdown",
   "id": "9cefe68e",
   "metadata": {},
   "source": [
    "### LMD Reranker - DPR Retriever vs LMD Retriever - DPR Reranker"
   ]
  },
  {
   "cell_type": "code",
   "execution_count": 112,
   "id": "90aee5c3",
   "metadata": {},
   "outputs": [],
   "source": [
    "lmd_dpr1 = pd.read_csv('../Results/Scores/retrieve-dpr_rerank-lmd_eval_tthealth_scores.csv')\n",
    "lmd_dpr2 = pd.read_csv('../Results/Scores/retrieve-lmd_rerank-dpr_eval_tthealth_scores.csv')"
   ]
  },
  {
   "cell_type": "code",
   "execution_count": 113,
   "id": "29ed099f",
   "metadata": {},
   "outputs": [],
   "source": [
    "metrics = lmd_dpr1.columns"
   ]
  },
  {
   "cell_type": "code",
   "execution_count": 114,
   "id": "9d2d9b67",
   "metadata": {},
   "outputs": [
    {
     "name": "stdout",
     "output_type": "stream",
     "text": [
      "Precision score is statistically insignificant\n",
      "MRR score is statistically significant\n",
      "MAP score is statistically significant\n",
      "BPref score is statistically significant\n"
     ]
    }
   ],
   "source": [
    "significance_test(lmd_dpr1, lmd_dpr2, metrics)"
   ]
  },
  {
   "cell_type": "markdown",
   "id": "3f1d0bb5",
   "metadata": {},
   "source": [
    "### TFIDF Reranker - DPR Retriever vs TFIDF Retriever - DPR Reranker"
   ]
  },
  {
   "cell_type": "code",
   "execution_count": 115,
   "id": "0b17d76d",
   "metadata": {},
   "outputs": [],
   "source": [
    "tfidf_dpr1 = pd.read_csv('../Results/Scores/retrieve-dpr_rerank-classic_eval_tthealth_scores.csv')\n",
    "tfidf_dpr2 = pd.read_csv('../Results/Scores/retrieve-classic_rerank-dpr_eval_tthealth_scores.csv')"
   ]
  },
  {
   "cell_type": "code",
   "execution_count": 116,
   "id": "fd2523cc",
   "metadata": {},
   "outputs": [],
   "source": [
    "metrics = tfidf_dpr1.columns"
   ]
  },
  {
   "cell_type": "code",
   "execution_count": 117,
   "id": "3bebec7d",
   "metadata": {
    "scrolled": false
   },
   "outputs": [
    {
     "name": "stdout",
     "output_type": "stream",
     "text": [
      "Precision score is statistically significant\n",
      "MRR score is statistically insignificant\n",
      "MAP score is statistically insignificant\n",
      "BPref score is statistically insignificant\n"
     ]
    }
   ],
   "source": [
    "significance_test(tfidf_dpr1, tfidf_dpr2, metrics)"
   ]
  },
  {
   "cell_type": "markdown",
   "id": "b76a6e59",
   "metadata": {},
   "source": [
    "# Part 4: BERT Reranker "
   ]
  },
  {
   "cell_type": "markdown",
   "id": "55e6b433",
   "metadata": {},
   "source": [
    "## DPR Retriever - BERT Reranker vs Baselines"
   ]
  },
  {
   "cell_type": "markdown",
   "id": "bdcc1007",
   "metadata": {},
   "source": [
    "### DPR Retriever - BERT Reranker vs DPR"
   ]
  },
  {
   "cell_type": "code",
   "execution_count": 118,
   "id": "d5ee3b28",
   "metadata": {},
   "outputs": [
    {
     "name": "stdout",
     "output_type": "stream",
     "text": [
      "Precision score is statistically insignificant\n",
      "MRR score is statistically insignificant\n",
      "MAP score is statistically insignificant\n",
      "BPref score is statistically insignificant\n"
     ]
    }
   ],
   "source": [
    "monobert_dpr = pd.read_csv('../Results/Scores/retrieve-dpr_rerank-monobert_eval_tthealth_mediqa_scores.csv')\n",
    "compare_with_dpr(monobert_dpr, 'tthealth')"
   ]
  },
  {
   "cell_type": "markdown",
   "id": "b908b46a",
   "metadata": {},
   "source": [
    "## BERT Reranker vs Sparse Reranker"
   ]
  },
  {
   "cell_type": "markdown",
   "id": "038dde56",
   "metadata": {},
   "source": [
    "### DPR Retriever - BERT Reranker vs DPR Retriever - BM25 Reranker"
   ]
  },
  {
   "cell_type": "code",
   "execution_count": 119,
   "id": "617b6920",
   "metadata": {},
   "outputs": [],
   "source": [
    "bm25_dpr = pd.read_csv('../Results/Scores/retrieve-dpr_rerank-bm25_eval_tthealth_scores.csv')"
   ]
  },
  {
   "cell_type": "code",
   "execution_count": 120,
   "id": "eab86950",
   "metadata": {},
   "outputs": [],
   "source": [
    "metrics = bm25_dpr.columns"
   ]
  },
  {
   "cell_type": "code",
   "execution_count": 121,
   "id": "c345b37c",
   "metadata": {},
   "outputs": [
    {
     "name": "stdout",
     "output_type": "stream",
     "text": [
      "Precision score is statistically significant\n",
      "MRR score is statistically significant\n",
      "MAP score is statistically significant\n",
      "BPref score is statistically insignificant\n"
     ]
    }
   ],
   "source": [
    "significance_test(bm25_dpr, monobert_dpr, metrics)"
   ]
  },
  {
   "cell_type": "markdown",
   "id": "897c1ae0",
   "metadata": {},
   "source": [
    "### DPR Retriever - BERT Reranker vs DPR Retriever - LMD Reranker"
   ]
  },
  {
   "cell_type": "code",
   "execution_count": 122,
   "id": "cc2fcf5a",
   "metadata": {},
   "outputs": [],
   "source": [
    "lmd_dpr = pd.read_csv('../Results/Scores/retrieve-dpr_rerank-lmd_eval_tthealth_scores.csv')"
   ]
  },
  {
   "cell_type": "code",
   "execution_count": 123,
   "id": "50631195",
   "metadata": {},
   "outputs": [],
   "source": [
    "metrics = lmd_dpr.columns"
   ]
  },
  {
   "cell_type": "code",
   "execution_count": 124,
   "id": "49239b22",
   "metadata": {},
   "outputs": [
    {
     "name": "stdout",
     "output_type": "stream",
     "text": [
      "Precision score is statistically significant\n",
      "MRR score is statistically significant\n",
      "MAP score is statistically significant\n",
      "BPref score is statistically insignificant\n"
     ]
    }
   ],
   "source": [
    "significance_test(lmd_dpr, monobert_dpr, metrics)"
   ]
  },
  {
   "cell_type": "markdown",
   "id": "39174f55",
   "metadata": {},
   "source": [
    "### DPR Retriever - BERT Reranker vs DPR Retriever - TFIDF Reranker"
   ]
  },
  {
   "cell_type": "code",
   "execution_count": 125,
   "id": "23815b70",
   "metadata": {},
   "outputs": [],
   "source": [
    "tfidf_dpr = pd.read_csv('../Results/Scores/retrieve-dpr_rerank-classic_eval_tthealth_scores.csv')"
   ]
  },
  {
   "cell_type": "code",
   "execution_count": 126,
   "id": "2358dfa4",
   "metadata": {},
   "outputs": [],
   "source": [
    "metrics = tfidf_dpr.columns"
   ]
  },
  {
   "cell_type": "code",
   "execution_count": 127,
   "id": "02113f77",
   "metadata": {},
   "outputs": [
    {
     "name": "stdout",
     "output_type": "stream",
     "text": [
      "Precision score is statistically significant\n",
      "MRR score is statistically insignificant\n",
      "MAP score is statistically insignificant\n",
      "BPref score is statistically insignificant\n"
     ]
    }
   ],
   "source": [
    "significance_test(tfidf_dpr, monobert_dpr, metrics)"
   ]
  },
  {
   "cell_type": "markdown",
   "id": "7385901e",
   "metadata": {},
   "source": [
    "## BERT Reranker vs DPR Reranker"
   ]
  },
  {
   "cell_type": "markdown",
   "id": "d69aa4da",
   "metadata": {},
   "source": [
    "### BM25"
   ]
  },
  {
   "cell_type": "code",
   "execution_count": 128,
   "id": "60984a67",
   "metadata": {},
   "outputs": [],
   "source": [
    "bm25_dpr = pd.read_csv('../Results/Scores/retrieve-bm25_rerank-dpr_eval_tthealth_scores.csv')\n",
    "bm25_monobert = pd.read_csv('../Results/Scores/retrieve-bm25_rerank-monobert_eval_mediqa_scores.csv')"
   ]
  },
  {
   "cell_type": "code",
   "execution_count": 129,
   "id": "802a0b84",
   "metadata": {},
   "outputs": [],
   "source": [
    "metrics = bm25_monobert.columns"
   ]
  },
  {
   "cell_type": "code",
   "execution_count": 130,
   "id": "56864369",
   "metadata": {},
   "outputs": [
    {
     "name": "stdout",
     "output_type": "stream",
     "text": [
      "Precision score is statistically significant\n",
      "MRR score is statistically significant\n",
      "MAP score is statistically significant\n",
      "BPref score is statistically significant\n"
     ]
    }
   ],
   "source": [
    "significance_test(bm25_dpr, bm25_monobert, metrics)"
   ]
  },
  {
   "cell_type": "markdown",
   "id": "b8b3f591",
   "metadata": {},
   "source": [
    "### LMD"
   ]
  },
  {
   "cell_type": "code",
   "execution_count": 131,
   "id": "cd2bc44e",
   "metadata": {},
   "outputs": [],
   "source": [
    "lmd_dpr = pd.read_csv('../Results/Scores/retrieve-lmd_rerank-dpr_eval_tthealth_scores.csv')\n",
    "lmd_monobert = pd.read_csv('../Results/Scores/retrieve-lmd_rerank-monobert_eval_mediqa_scores.csv')"
   ]
  },
  {
   "cell_type": "code",
   "execution_count": 132,
   "id": "a9e766b5",
   "metadata": {},
   "outputs": [],
   "source": [
    "metrics = lmd_monobert.columns"
   ]
  },
  {
   "cell_type": "code",
   "execution_count": 133,
   "id": "75cb97e8",
   "metadata": {},
   "outputs": [
    {
     "name": "stdout",
     "output_type": "stream",
     "text": [
      "Precision score is statistically significant\n",
      "MRR score is statistically significant\n",
      "MAP score is statistically significant\n",
      "BPref score is statistically insignificant\n"
     ]
    }
   ],
   "source": [
    "significance_test(lmd_dpr, lmd_monobert, metrics)"
   ]
  },
  {
   "cell_type": "markdown",
   "id": "2e21df54",
   "metadata": {},
   "source": [
    "### TFIDF"
   ]
  },
  {
   "cell_type": "code",
   "execution_count": 134,
   "id": "10ceae7f",
   "metadata": {},
   "outputs": [],
   "source": [
    "tfidf_dpr = pd.read_csv('../Results/Scores/retrieve-classic_rerank-dpr_eval_tthealth_scores.csv')\n",
    "tfidf_monobert = pd.read_csv('../Results/Scores/retrieve-classic_rerank-monobert_eval_mediqa_scores.csv')"
   ]
  },
  {
   "cell_type": "code",
   "execution_count": 135,
   "id": "dc4fae8b",
   "metadata": {},
   "outputs": [],
   "source": [
    "metrics = tfidf_monobert.columns"
   ]
  },
  {
   "cell_type": "code",
   "execution_count": 136,
   "id": "f84d3d97",
   "metadata": {
    "scrolled": true
   },
   "outputs": [
    {
     "name": "stdout",
     "output_type": "stream",
     "text": [
      "Precision score is statistically significant\n",
      "MRR score is statistically significant\n",
      "MAP score is statistically significant\n",
      "BPref score is statistically significant\n"
     ]
    }
   ],
   "source": [
    "significance_test(tfidf_dpr, tfidf_monobert, metrics)"
   ]
  },
  {
   "cell_type": "markdown",
   "id": "7b18daaa",
   "metadata": {},
   "source": [
    "# D. IndoSum"
   ]
  },
  {
   "cell_type": "markdown",
   "id": "2f3db9e0",
   "metadata": {},
   "source": [
    "## DPR vs DPR-PRF"
   ]
  },
  {
   "cell_type": "code",
   "execution_count": 137,
   "id": "214fc51c",
   "metadata": {
    "scrolled": false
   },
   "outputs": [
    {
     "name": "stdout",
     "output_type": "stream",
     "text": [
      "Precision score is statistically significant\n",
      "MRR score is statistically insignificant\n",
      "MAP score is statistically insignificant\n",
      "BPref score is statistically significant\n"
     ]
    }
   ],
   "source": [
    "dpr_prf = pd.read_csv('../Results/Scores/dpr_prf_eval_indosum_scores.csv')\n",
    "compare_with_dpr(dpr_prf, 'indosum')"
   ]
  },
  {
   "cell_type": "markdown",
   "id": "c0dab9cd",
   "metadata": {},
   "source": [
    "## Part 1: Hybrid using Alpha Linear Combo"
   ]
  },
  {
   "cell_type": "markdown",
   "id": "65f8c24a",
   "metadata": {},
   "source": [
    "The linear combination can be formulated as the following\n",
    "\\begin{gather*} \n",
    "Score(Q,D) =  \\alpha*sim_{DPR}(Q,D) + (1-\\alpha)*sim_{sparse}(Q,D)\n",
    "\\end{gather*}"
   ]
  },
  {
   "cell_type": "markdown",
   "id": "b0b032c1",
   "metadata": {},
   "source": [
    "## Sparse Model vs Hybrid Sparse-Dense Model"
   ]
  },
  {
   "cell_type": "markdown",
   "id": "34dbb7e6",
   "metadata": {},
   "source": [
    "### BM25 vs BM25-DPR"
   ]
  },
  {
   "cell_type": "code",
   "execution_count": 138,
   "id": "972247ab",
   "metadata": {},
   "outputs": [
    {
     "name": "stdout",
     "output_type": "stream",
     "text": [
      "Precision score is statistically significant\n",
      "MRR score is statistically insignificant\n",
      "MAP score is statistically insignificant\n",
      "BPref score is statistically insignificant\n"
     ]
    }
   ],
   "source": [
    "bm25_dpr = pd.read_csv('../Results/Scores/dpr-bm25_eval_indosum_scores.csv')\n",
    "compare_with_sparse(bm25_dpr, 'bm25')"
   ]
  },
  {
   "cell_type": "markdown",
   "id": "7bd67fd4",
   "metadata": {},
   "source": [
    "### LMD vs LMD-DPR"
   ]
  },
  {
   "cell_type": "code",
   "execution_count": 139,
   "id": "e978981c",
   "metadata": {},
   "outputs": [
    {
     "name": "stdout",
     "output_type": "stream",
     "text": [
      "Precision score is statistically insignificant\n",
      "MRR score is statistically insignificant\n",
      "MAP score is statistically insignificant\n",
      "BPref score is statistically significant\n"
     ]
    }
   ],
   "source": [
    "lmd_dpr = pd.read_csv('../Results/Scores/dpr-lmd_eval_indosum_scores.csv')\n",
    "compare_with_sparse(lmd_dpr, 'lmd')"
   ]
  },
  {
   "cell_type": "markdown",
   "id": "f10d15c0",
   "metadata": {},
   "source": [
    "### TFIDF vs TFIDF-DPR"
   ]
  },
  {
   "cell_type": "code",
   "execution_count": 140,
   "id": "5eff6917",
   "metadata": {},
   "outputs": [
    {
     "name": "stdout",
     "output_type": "stream",
     "text": [
      "Precision score is statistically significant\n",
      "MRR score is statistically significant\n",
      "MAP score is statistically significant\n",
      "BPref score is statistically insignificant\n"
     ]
    }
   ],
   "source": [
    "tfidf_dpr = pd.read_csv('../Results/Scores/dpr-classic_eval_indosum_scores.csv')\n",
    "compare_with_sparse(tfidf_dpr, 'classic')"
   ]
  },
  {
   "cell_type": "markdown",
   "id": "b400f0ff",
   "metadata": {},
   "source": [
    "## Dense Model vs Hybrid Sparse-Dense Model"
   ]
  },
  {
   "cell_type": "markdown",
   "id": "38235c96",
   "metadata": {},
   "source": [
    "### DPR vs BM25-DPR"
   ]
  },
  {
   "cell_type": "code",
   "execution_count": 141,
   "id": "5dab362e",
   "metadata": {},
   "outputs": [
    {
     "name": "stdout",
     "output_type": "stream",
     "text": [
      "Precision score is statistically significant\n",
      "MRR score is statistically significant\n",
      "MAP score is statistically significant\n",
      "BPref score is statistically significant\n"
     ]
    }
   ],
   "source": [
    "bm25_dpr = pd.read_csv('../Results/Scores/dpr-bm25_eval_indosum_scores.csv')\n",
    "compare_with_dpr(bm25_dpr, 'indosum')"
   ]
  },
  {
   "cell_type": "markdown",
   "id": "2c639ac4",
   "metadata": {},
   "source": [
    "### DPR vs LMD-DPR"
   ]
  },
  {
   "cell_type": "code",
   "execution_count": 142,
   "id": "6ea9ec9f",
   "metadata": {},
   "outputs": [
    {
     "name": "stdout",
     "output_type": "stream",
     "text": [
      "Precision score is statistically significant\n",
      "MRR score is statistically significant\n",
      "MAP score is statistically significant\n",
      "BPref score is statistically significant\n"
     ]
    }
   ],
   "source": [
    "lmd_dpr = pd.read_csv('../Results/Scores/dpr-lmd_eval_indosum_scores.csv')\n",
    "compare_with_dpr(lmd_dpr, 'indosum')"
   ]
  },
  {
   "cell_type": "markdown",
   "id": "71d7a993",
   "metadata": {},
   "source": [
    "### DPR vs TFIDF-DPR"
   ]
  },
  {
   "cell_type": "code",
   "execution_count": 143,
   "id": "b1ff04b0",
   "metadata": {},
   "outputs": [
    {
     "name": "stdout",
     "output_type": "stream",
     "text": [
      "Precision score is statistically significant\n",
      "MRR score is statistically significant\n",
      "MAP score is statistically significant\n",
      "BPref score is statistically significant\n"
     ]
    }
   ],
   "source": [
    "tfidf_dpr = pd.read_csv('../Results/Scores/dpr-classic_eval_indosum_scores.csv')\n",
    "compare_with_dpr(tfidf_dpr, 'indosum')"
   ]
  },
  {
   "cell_type": "markdown",
   "id": "94eb9f59",
   "metadata": {},
   "source": [
    "## Part 2: Hybrid using Alpha Beta Linear Combo"
   ]
  },
  {
   "cell_type": "markdown",
   "id": "332f370e",
   "metadata": {},
   "source": [
    "The linear combination can be formulated as the following\n",
    "\\begin{gather*} \n",
    "Score(Q,D) =  \\alpha*sim_{sparse}(Q,D) + \\beta*sim_{DPR}(Q,D)\n",
    "\\end{gather*}\n",
    "Those \"optimized\" hyperparameters can be found by using logistic regression."
   ]
  },
  {
   "cell_type": "markdown",
   "id": "3a3bbf61",
   "metadata": {},
   "source": [
    "## Sparse Model vs Hybrid Sparse-Dense Model"
   ]
  },
  {
   "cell_type": "markdown",
   "id": "f7a3ddc8",
   "metadata": {},
   "source": [
    "### BM25 vs BM25-DPR"
   ]
  },
  {
   "cell_type": "code",
   "execution_count": 144,
   "id": "30548d87",
   "metadata": {},
   "outputs": [
    {
     "name": "stdout",
     "output_type": "stream",
     "text": [
      "Precision score is statistically significant\n",
      "MRR score is statistically insignificant\n",
      "MAP score is statistically insignificant\n",
      "BPref score is statistically insignificant\n"
     ]
    }
   ],
   "source": [
    "bm25_dpr = pd.read_csv('../Results/Scores/dpr-bm25-v2_eval_indosum_scores.csv')\n",
    "compare_with_sparse(bm25_dpr, 'bm25')"
   ]
  },
  {
   "cell_type": "markdown",
   "id": "b2c4976b",
   "metadata": {},
   "source": [
    "### LMD vs LMD-DPR"
   ]
  },
  {
   "cell_type": "code",
   "execution_count": 145,
   "id": "e09d1378",
   "metadata": {},
   "outputs": [
    {
     "name": "stdout",
     "output_type": "stream",
     "text": [
      "Precision score is statistically significant\n",
      "MRR score is statistically significant\n",
      "MAP score is statistically significant\n",
      "BPref score is statistically significant\n"
     ]
    }
   ],
   "source": [
    "lmd_dpr = pd.read_csv('../Results/Scores/dpr-lmd-v2_eval_indosum_scores.csv')\n",
    "compare_with_sparse(lmd_dpr, 'lmd')"
   ]
  },
  {
   "cell_type": "markdown",
   "id": "13dbd9d1",
   "metadata": {},
   "source": [
    "### TFIDF vs TFIDF-DPR"
   ]
  },
  {
   "cell_type": "code",
   "execution_count": 146,
   "id": "55fbf417",
   "metadata": {},
   "outputs": [
    {
     "name": "stdout",
     "output_type": "stream",
     "text": [
      "Precision score is statistically significant\n",
      "MRR score is statistically significant\n",
      "MAP score is statistically significant\n",
      "BPref score is statistically insignificant\n"
     ]
    }
   ],
   "source": [
    "tfidf_dpr = pd.read_csv('../Results/Scores/dpr-classic-v2_eval_indosum_scores.csv')\n",
    "compare_with_sparse(tfidf_dpr, 'classic')"
   ]
  },
  {
   "cell_type": "markdown",
   "id": "24442e1b",
   "metadata": {},
   "source": [
    "## Dense Model vs Hybrid Sparse-Dense Model"
   ]
  },
  {
   "cell_type": "markdown",
   "id": "7af53154",
   "metadata": {},
   "source": [
    "### DPR vs BM25-DPR"
   ]
  },
  {
   "cell_type": "code",
   "execution_count": 147,
   "id": "f3133fd8",
   "metadata": {},
   "outputs": [
    {
     "name": "stdout",
     "output_type": "stream",
     "text": [
      "Precision score is statistically significant\n",
      "MRR score is statistically significant\n",
      "MAP score is statistically significant\n",
      "BPref score is statistically insignificant\n"
     ]
    }
   ],
   "source": [
    "bm25_dpr = pd.read_csv('../Results/Scores/dpr-bm25-v2_eval_indosum_scores.csv')\n",
    "compare_with_dpr(bm25_dpr, 'indosum')"
   ]
  },
  {
   "cell_type": "markdown",
   "id": "43d8d117",
   "metadata": {},
   "source": [
    "### DPR vs LMD-DPR"
   ]
  },
  {
   "cell_type": "code",
   "execution_count": 148,
   "id": "13d06d1c",
   "metadata": {},
   "outputs": [
    {
     "name": "stdout",
     "output_type": "stream",
     "text": [
      "Precision score is statistically significant\n",
      "MRR score is statistically significant\n",
      "MAP score is statistically significant\n",
      "BPref score is statistically significant\n"
     ]
    }
   ],
   "source": [
    "lmd_dpr = pd.read_csv('../Results/Scores/dpr-lmd-v2_eval_indosum_scores.csv')\n",
    "compare_with_dpr(lmd_dpr, 'indosum')"
   ]
  },
  {
   "cell_type": "markdown",
   "id": "1ff6ebfe",
   "metadata": {},
   "source": [
    "### DPR vs TFIDF-DPR"
   ]
  },
  {
   "cell_type": "code",
   "execution_count": 149,
   "id": "9872980e",
   "metadata": {},
   "outputs": [
    {
     "name": "stdout",
     "output_type": "stream",
     "text": [
      "Precision score is statistically significant\n",
      "MRR score is statistically significant\n",
      "MAP score is statistically significant\n",
      "BPref score is statistically significant\n"
     ]
    }
   ],
   "source": [
    "tfidf_dpr = pd.read_csv('../Results/Scores/dpr-classic-v2_eval_indosum_scores.csv')\n",
    "compare_with_dpr(tfidf_dpr, 'indosum')"
   ]
  },
  {
   "cell_type": "markdown",
   "id": "e2ea5df6",
   "metadata": {},
   "source": [
    "## Part 3: Retriever - Reranker Approach"
   ]
  },
  {
   "cell_type": "markdown",
   "id": "04b8555a",
   "metadata": {},
   "source": [
    "## Dense Retriever - Sparse Reranker vs Sparse Retriever"
   ]
  },
  {
   "cell_type": "markdown",
   "id": "8c59ede2",
   "metadata": {},
   "source": [
    "### DPR Retriever-BM25 Reranker vs BM25"
   ]
  },
  {
   "cell_type": "code",
   "execution_count": 150,
   "id": "6fb27fd9",
   "metadata": {},
   "outputs": [
    {
     "name": "stdout",
     "output_type": "stream",
     "text": [
      "Precision score is statistically significant\n",
      "MRR score is statistically significant\n",
      "MAP score is statistically significant\n",
      "BPref score is statistically insignificant\n"
     ]
    }
   ],
   "source": [
    "bm25_dpr = pd.read_csv('../Results/Scores/retrieve-dpr_rerank-bm25_eval_indosum_scores.csv')\n",
    "compare_with_sparse(bm25_dpr, 'bm25')"
   ]
  },
  {
   "cell_type": "markdown",
   "id": "a5230bcd",
   "metadata": {},
   "source": [
    "### DPR Retriever-LMD Reranker vs LMD"
   ]
  },
  {
   "cell_type": "code",
   "execution_count": 151,
   "id": "e2c0dd77",
   "metadata": {},
   "outputs": [
    {
     "name": "stdout",
     "output_type": "stream",
     "text": [
      "Precision score is statistically significant\n",
      "MRR score is statistically significant\n",
      "MAP score is statistically significant\n",
      "BPref score is statistically insignificant\n"
     ]
    }
   ],
   "source": [
    "lmd_dpr = pd.read_csv('../Results/Scores/retrieve-dpr_rerank-lmd_eval_indosum_scores.csv')\n",
    "compare_with_sparse(lmd_dpr, 'lmd')"
   ]
  },
  {
   "cell_type": "markdown",
   "id": "c949c812",
   "metadata": {},
   "source": [
    "### DPR Retriever-TFIDF Reranker vs TFIDF"
   ]
  },
  {
   "cell_type": "code",
   "execution_count": 152,
   "id": "9c7693c4",
   "metadata": {},
   "outputs": [
    {
     "name": "stdout",
     "output_type": "stream",
     "text": [
      "Precision score is statistically significant\n",
      "MRR score is statistically significant\n",
      "MAP score is statistically significant\n",
      "BPref score is statistically insignificant\n"
     ]
    }
   ],
   "source": [
    "tfidf_dpr = pd.read_csv('../Results/Scores/retrieve-dpr_rerank-classic_eval_indosum_scores.csv')\n",
    "compare_with_sparse(tfidf_dpr, 'classic')"
   ]
  },
  {
   "cell_type": "markdown",
   "id": "e26852bc",
   "metadata": {},
   "source": [
    "## Dense Retriever - Sparse Reranker vs Dense Retriever"
   ]
  },
  {
   "cell_type": "markdown",
   "id": "ae8d7f61",
   "metadata": {},
   "source": [
    "### DPR Retriever-BM25 Reranker vs DPR"
   ]
  },
  {
   "cell_type": "code",
   "execution_count": 153,
   "id": "4462a467",
   "metadata": {},
   "outputs": [
    {
     "name": "stdout",
     "output_type": "stream",
     "text": [
      "Precision score is statistically significant\n",
      "MRR score is statistically significant\n",
      "MAP score is statistically significant\n",
      "BPref score is statistically significant\n"
     ]
    }
   ],
   "source": [
    "bm25_dpr = pd.read_csv('../Results/Scores/retrieve-dpr_rerank-bm25_eval_indosum_scores.csv')\n",
    "compare_with_dpr(bm25_dpr, 'indosum')"
   ]
  },
  {
   "cell_type": "markdown",
   "id": "82b88e6c",
   "metadata": {},
   "source": [
    "### DPR Retriever-LMD Reranker vs DPR"
   ]
  },
  {
   "cell_type": "code",
   "execution_count": 154,
   "id": "4671e650",
   "metadata": {},
   "outputs": [
    {
     "name": "stdout",
     "output_type": "stream",
     "text": [
      "Precision score is statistically significant\n",
      "MRR score is statistically significant\n",
      "MAP score is statistically significant\n",
      "BPref score is statistically significant\n"
     ]
    }
   ],
   "source": [
    "lmd_dpr = pd.read_csv('../Results/Scores/retrieve-dpr_rerank-lmd_eval_indosum_scores.csv')\n",
    "compare_with_dpr(lmd_dpr, 'indosum')"
   ]
  },
  {
   "cell_type": "markdown",
   "id": "00d68ebb",
   "metadata": {},
   "source": [
    "### DPR Retriever-TFIDF Reranker vs DPR"
   ]
  },
  {
   "cell_type": "code",
   "execution_count": 155,
   "id": "4ca2b821",
   "metadata": {},
   "outputs": [
    {
     "name": "stdout",
     "output_type": "stream",
     "text": [
      "Precision score is statistically significant\n",
      "MRR score is statistically insignificant\n",
      "MAP score is statistically significant\n",
      "BPref score is statistically insignificant\n"
     ]
    }
   ],
   "source": [
    "tfidf_dpr = pd.read_csv('../Results/Scores/retrieve-dpr_rerank-classic_eval_indosum_scores.csv')\n",
    "compare_with_dpr(tfidf_dpr, 'indosum')"
   ]
  },
  {
   "cell_type": "markdown",
   "id": "811c9855",
   "metadata": {},
   "source": [
    "## Sparse Retriever - Dense Reranker vs Sparse Retriever"
   ]
  },
  {
   "cell_type": "markdown",
   "id": "2237d38f",
   "metadata": {},
   "source": [
    "### BM25 Retriever - DPR Reranker vs BM25"
   ]
  },
  {
   "cell_type": "code",
   "execution_count": 156,
   "id": "2b28b8a1",
   "metadata": {},
   "outputs": [
    {
     "name": "stdout",
     "output_type": "stream",
     "text": [
      "Precision score is statistically significant\n",
      "MRR score is statistically significant\n",
      "MAP score is statistically significant\n",
      "BPref score is statistically significant\n"
     ]
    }
   ],
   "source": [
    "bm25_dpr = pd.read_csv('../Results/Scores/retrieve-bm25_rerank-dpr_eval_indosum_scores.csv')\n",
    "compare_with_sparse(bm25_dpr, 'bm25')"
   ]
  },
  {
   "cell_type": "markdown",
   "id": "376ec59e",
   "metadata": {},
   "source": [
    "### LMD Retriever - DPR Reranker vs LMD"
   ]
  },
  {
   "cell_type": "code",
   "execution_count": 157,
   "id": "97912a36",
   "metadata": {},
   "outputs": [
    {
     "name": "stdout",
     "output_type": "stream",
     "text": [
      "Precision score is statistically significant\n",
      "MRR score is statistically significant\n",
      "MAP score is statistically significant\n",
      "BPref score is statistically insignificant\n"
     ]
    }
   ],
   "source": [
    "lmd_dpr = pd.read_csv('../Results/Scores/retrieve-lmd_rerank-dpr_eval_indosum_scores.csv')\n",
    "compare_with_sparse(lmd_dpr, 'lmd')"
   ]
  },
  {
   "cell_type": "markdown",
   "id": "10449f02",
   "metadata": {},
   "source": [
    "### TFIDF Retriever - DPR Reranker vs TFIDF"
   ]
  },
  {
   "cell_type": "code",
   "execution_count": 158,
   "id": "be7faefa",
   "metadata": {},
   "outputs": [
    {
     "name": "stdout",
     "output_type": "stream",
     "text": [
      "Precision score is statistically significant\n",
      "MRR score is statistically significant\n",
      "MAP score is statistically significant\n",
      "BPref score is statistically significant\n"
     ]
    }
   ],
   "source": [
    "tfidf_dpr = pd.read_csv('../Results/Scores/retrieve-classic_rerank-dpr_eval_indosum_scores.csv')\n",
    "compare_with_sparse(tfidf_dpr, 'classic')"
   ]
  },
  {
   "cell_type": "markdown",
   "id": "e73809ad",
   "metadata": {},
   "source": [
    "## Sparse Retriever - Dense Reranker vs Dense Retriever"
   ]
  },
  {
   "cell_type": "markdown",
   "id": "c2f1232b",
   "metadata": {},
   "source": [
    "### BM25 Retriever - DPR Reranker vs DPR"
   ]
  },
  {
   "cell_type": "code",
   "execution_count": 159,
   "id": "a3d8a9ac",
   "metadata": {},
   "outputs": [
    {
     "name": "stdout",
     "output_type": "stream",
     "text": [
      "Precision score is statistically significant\n",
      "MRR score is statistically significant\n",
      "MAP score is statistically significant\n",
      "BPref score is statistically insignificant\n"
     ]
    }
   ],
   "source": [
    "bm25_dpr = pd.read_csv('../Results/Scores/retrieve-bm25_rerank-dpr_eval_indosum_scores.csv')\n",
    "compare_with_dpr(bm25_dpr, 'indosum')"
   ]
  },
  {
   "cell_type": "markdown",
   "id": "9a4bd6a9",
   "metadata": {},
   "source": [
    "### LMD Retriever - DPR Reranker vs DPR"
   ]
  },
  {
   "cell_type": "code",
   "execution_count": 160,
   "id": "6a26b7d7",
   "metadata": {},
   "outputs": [
    {
     "name": "stdout",
     "output_type": "stream",
     "text": [
      "Precision score is statistically significant\n",
      "MRR score is statistically significant\n",
      "MAP score is statistically significant\n",
      "BPref score is statistically insignificant\n"
     ]
    }
   ],
   "source": [
    "lmd_dpr = pd.read_csv('../Results/Scores/retrieve-lmd_rerank-dpr_eval_indosum_scores.csv')\n",
    "compare_with_dpr(lmd_dpr, 'indosum')"
   ]
  },
  {
   "cell_type": "markdown",
   "id": "200a5fb9",
   "metadata": {},
   "source": [
    "### TFIDF Retriever - DPR Reranker vs DPR"
   ]
  },
  {
   "cell_type": "code",
   "execution_count": 161,
   "id": "f0c573f4",
   "metadata": {},
   "outputs": [
    {
     "name": "stdout",
     "output_type": "stream",
     "text": [
      "Precision score is statistically significant\n",
      "MRR score is statistically significant\n",
      "MAP score is statistically significant\n",
      "BPref score is statistically insignificant\n"
     ]
    }
   ],
   "source": [
    "tfidf_dpr = pd.read_csv('../Results/Scores/retrieve-classic_rerank-dpr_eval_indosum_scores.csv')\n",
    "compare_with_dpr(tfidf_dpr, 'indosum')"
   ]
  },
  {
   "cell_type": "markdown",
   "id": "d3bfa5d7",
   "metadata": {},
   "source": [
    "## Sparse Reranker - Dense Retriever vs Sparse Retriever - Dense Reranker"
   ]
  },
  {
   "cell_type": "markdown",
   "id": "d92ed5a5",
   "metadata": {},
   "source": [
    "### BM25 Reranker - DPR Retriever vs BM25 Retriever - DPR Reranker"
   ]
  },
  {
   "cell_type": "code",
   "execution_count": 162,
   "id": "0d4caa75",
   "metadata": {},
   "outputs": [],
   "source": [
    "bm25_dpr1 = pd.read_csv('../Results/Scores/retrieve-dpr_rerank-bm25_eval_indosum_scores.csv')\n",
    "bm25_dpr2 = pd.read_csv('../Results/Scores/retrieve-bm25_rerank-dpr_eval_indosum_scores.csv')"
   ]
  },
  {
   "cell_type": "code",
   "execution_count": 163,
   "id": "eaf08e82",
   "metadata": {},
   "outputs": [],
   "source": [
    "metrics = bm25_dpr1.columns"
   ]
  },
  {
   "cell_type": "code",
   "execution_count": 164,
   "id": "14b7b5ac",
   "metadata": {},
   "outputs": [
    {
     "name": "stdout",
     "output_type": "stream",
     "text": [
      "Precision score is statistically significant\n",
      "MRR score is statistically insignificant\n",
      "MAP score is statistically insignificant\n",
      "BPref score is statistically insignificant\n"
     ]
    }
   ],
   "source": [
    "significance_test(bm25_dpr1, bm25_dpr2, metrics)"
   ]
  },
  {
   "cell_type": "markdown",
   "id": "718fbc38",
   "metadata": {},
   "source": [
    "### LMD Reranker - DPR Retriever vs LMD Retriever - DPR Reranker"
   ]
  },
  {
   "cell_type": "code",
   "execution_count": 165,
   "id": "4087cf8c",
   "metadata": {},
   "outputs": [],
   "source": [
    "lmd_dpr1 = pd.read_csv('../Results/Scores/retrieve-dpr_rerank-lmd_eval_indosum_scores.csv')\n",
    "lmd_dpr2 = pd.read_csv('../Results/Scores/retrieve-lmd_rerank-dpr_eval_indosum_scores.csv')"
   ]
  },
  {
   "cell_type": "code",
   "execution_count": 166,
   "id": "d3ab318d",
   "metadata": {},
   "outputs": [],
   "source": [
    "metrics = lmd_dpr1.columns"
   ]
  },
  {
   "cell_type": "code",
   "execution_count": 167,
   "id": "956c9618",
   "metadata": {},
   "outputs": [
    {
     "name": "stdout",
     "output_type": "stream",
     "text": [
      "Precision score is statistically significant\n",
      "MRR score is statistically insignificant\n",
      "MAP score is statistically insignificant\n",
      "BPref score is statistically insignificant\n"
     ]
    }
   ],
   "source": [
    "significance_test(lmd_dpr1, lmd_dpr2, metrics)"
   ]
  },
  {
   "cell_type": "markdown",
   "id": "b14152e6",
   "metadata": {},
   "source": [
    "### TFIDF Reranker - DPR Retriever vs TFIDF Retriever - DPR Reranker"
   ]
  },
  {
   "cell_type": "code",
   "execution_count": 168,
   "id": "1272616d",
   "metadata": {},
   "outputs": [],
   "source": [
    "tfidf_dpr1 = pd.read_csv('../Results/Scores/retrieve-dpr_rerank-classic_eval_indosum_scores.csv')\n",
    "tfidf_dpr2 = pd.read_csv('../Results/Scores/retrieve-classic_rerank-dpr_eval_indosum_scores.csv')"
   ]
  },
  {
   "cell_type": "code",
   "execution_count": 169,
   "id": "009edaa3",
   "metadata": {},
   "outputs": [],
   "source": [
    "metrics = tfidf_dpr1.columns"
   ]
  },
  {
   "cell_type": "code",
   "execution_count": 170,
   "id": "ae15e58d",
   "metadata": {
    "scrolled": true
   },
   "outputs": [
    {
     "name": "stdout",
     "output_type": "stream",
     "text": [
      "Precision score is statistically significant\n",
      "MRR score is statistically insignificant\n",
      "MAP score is statistically insignificant\n",
      "BPref score is statistically insignificant\n"
     ]
    }
   ],
   "source": [
    "significance_test(tfidf_dpr1, tfidf_dpr2, metrics)"
   ]
  },
  {
   "cell_type": "markdown",
   "id": "7399f24f",
   "metadata": {},
   "source": [
    "# E. TTMeqSum"
   ]
  },
  {
   "cell_type": "markdown",
   "id": "885f3cd1",
   "metadata": {},
   "source": [
    "## DPR vs DPR-PRF"
   ]
  },
  {
   "cell_type": "code",
   "execution_count": 171,
   "id": "ee9a2e1e",
   "metadata": {
    "scrolled": false
   },
   "outputs": [
    {
     "name": "stdout",
     "output_type": "stream",
     "text": [
      "Precision score is statistically significant\n",
      "MRR score is statistically significant\n",
      "MAP score is statistically significant\n",
      "BPref score is statistically insignificant\n"
     ]
    }
   ],
   "source": [
    "dpr_prf = pd.read_csv('../Results/Scores/dpr_prf_eval_ttmeqsum_scores.csv')\n",
    "compare_with_dpr(dpr_prf, 'ttmeqsum')"
   ]
  },
  {
   "cell_type": "markdown",
   "id": "d52272da",
   "metadata": {},
   "source": [
    "## Part 1: Hybrid using Alpha Linear Combo"
   ]
  },
  {
   "cell_type": "markdown",
   "id": "f5db1c15",
   "metadata": {},
   "source": [
    "The linear combination can be formulated as the following\n",
    "\\begin{gather*} \n",
    "Score(Q,D) =  \\alpha*sim_{DPR}(Q,D) + (1-\\alpha)*sim_{sparse}(Q,D)\n",
    "\\end{gather*}"
   ]
  },
  {
   "cell_type": "markdown",
   "id": "437f4ebd",
   "metadata": {},
   "source": [
    "## Sparse Model vs Hybrid Sparse-Dense Model"
   ]
  },
  {
   "cell_type": "markdown",
   "id": "bc7ed6f6",
   "metadata": {},
   "source": [
    "### BM25 vs BM25-DPR"
   ]
  },
  {
   "cell_type": "code",
   "execution_count": 172,
   "id": "3244cbea",
   "metadata": {},
   "outputs": [
    {
     "name": "stdout",
     "output_type": "stream",
     "text": [
      "Precision score is statistically insignificant\n",
      "MRR score is statistically insignificant\n",
      "MAP score is statistically insignificant\n",
      "BPref score is statistically insignificant\n"
     ]
    }
   ],
   "source": [
    "bm25_dpr = pd.read_csv('../Results/Scores/dpr-bm25_eval_ttmeqsum_scores.csv')\n",
    "compare_with_sparse(bm25_dpr, 'bm25')"
   ]
  },
  {
   "cell_type": "markdown",
   "id": "afaf69f5",
   "metadata": {},
   "source": [
    "### LMD vs LMD-DPR"
   ]
  },
  {
   "cell_type": "code",
   "execution_count": 173,
   "id": "3d6aa798",
   "metadata": {},
   "outputs": [
    {
     "name": "stdout",
     "output_type": "stream",
     "text": [
      "Precision score is statistically insignificant\n",
      "MRR score is statistically insignificant\n",
      "MAP score is statistically significant\n",
      "BPref score is statistically significant\n"
     ]
    }
   ],
   "source": [
    "lmd_dpr = pd.read_csv('../Results/Scores/dpr-lmd_eval_ttmeqsum_scores.csv')\n",
    "compare_with_sparse(lmd_dpr, 'lmd')"
   ]
  },
  {
   "cell_type": "markdown",
   "id": "4096dbcb",
   "metadata": {},
   "source": [
    "### TFIDF vs TFIDF-DPR"
   ]
  },
  {
   "cell_type": "code",
   "execution_count": 174,
   "id": "fa224a17",
   "metadata": {},
   "outputs": [
    {
     "name": "stdout",
     "output_type": "stream",
     "text": [
      "Precision score is statistically significant\n",
      "MRR score is statistically significant\n",
      "MAP score is statistically significant\n",
      "BPref score is statistically insignificant\n"
     ]
    }
   ],
   "source": [
    "tfidf_dpr = pd.read_csv('../Results/Scores/dpr-classic_eval_ttmeqsum_scores.csv')\n",
    "compare_with_sparse(tfidf_dpr, 'classic')"
   ]
  },
  {
   "cell_type": "markdown",
   "id": "636c0b9e",
   "metadata": {},
   "source": [
    "## Dense Model vs Hybrid Sparse-Dense Model"
   ]
  },
  {
   "cell_type": "markdown",
   "id": "9c21172d",
   "metadata": {},
   "source": [
    "### DPR vs BM25-DPR"
   ]
  },
  {
   "cell_type": "code",
   "execution_count": 175,
   "id": "5242aa3a",
   "metadata": {},
   "outputs": [
    {
     "name": "stdout",
     "output_type": "stream",
     "text": [
      "Precision score is statistically significant\n",
      "MRR score is statistically significant\n",
      "MAP score is statistically significant\n",
      "BPref score is statistically insignificant\n"
     ]
    }
   ],
   "source": [
    "bm25_dpr = pd.read_csv('../Results/Scores/dpr-bm25_eval_ttmeqsum_scores.csv')\n",
    "compare_with_dpr(bm25_dpr, 'ttmeqsum')"
   ]
  },
  {
   "cell_type": "markdown",
   "id": "6751c061",
   "metadata": {},
   "source": [
    "### DPR vs LMD-DPR"
   ]
  },
  {
   "cell_type": "code",
   "execution_count": 176,
   "id": "404fdff5",
   "metadata": {},
   "outputs": [
    {
     "name": "stdout",
     "output_type": "stream",
     "text": [
      "Precision score is statistically significant\n",
      "MRR score is statistically significant\n",
      "MAP score is statistically significant\n",
      "BPref score is statistically significant\n"
     ]
    }
   ],
   "source": [
    "lmd_dpr = pd.read_csv('../Results/Scores/dpr-lmd_eval_ttmeqsum_scores.csv')\n",
    "compare_with_dpr(lmd_dpr, 'ttmeqsum')"
   ]
  },
  {
   "cell_type": "markdown",
   "id": "10f2426f",
   "metadata": {},
   "source": [
    "### DPR vs TFIDF-DPR"
   ]
  },
  {
   "cell_type": "code",
   "execution_count": 177,
   "id": "4a0de62f",
   "metadata": {},
   "outputs": [
    {
     "name": "stdout",
     "output_type": "stream",
     "text": [
      "Precision score is statistically significant\n",
      "MRR score is statistically significant\n",
      "MAP score is statistically significant\n",
      "BPref score is statistically significant\n"
     ]
    }
   ],
   "source": [
    "tfidf_dpr = pd.read_csv('../Results/Scores/dpr-classic_eval_ttmeqsum_scores.csv')\n",
    "compare_with_dpr(tfidf_dpr, 'ttmeqsum')"
   ]
  },
  {
   "cell_type": "markdown",
   "id": "ed567417",
   "metadata": {},
   "source": [
    "## Part 2: Hybrid using Alpha Beta Linear Combo"
   ]
  },
  {
   "cell_type": "markdown",
   "id": "4fe91d0c",
   "metadata": {},
   "source": [
    "The linear combination can be formulated as the following\n",
    "\\begin{gather*} \n",
    "Score(Q,D) =  \\alpha*sim_{sparse}(Q,D) + \\beta*sim_{DPR}(Q,D)\n",
    "\\end{gather*}\n",
    "Those \"optimized\" hyperparameters can be found by using logistic regression."
   ]
  },
  {
   "cell_type": "markdown",
   "id": "bec43030",
   "metadata": {},
   "source": [
    "## Sparse Model vs Hybrid Sparse-Dense Model"
   ]
  },
  {
   "cell_type": "markdown",
   "id": "f09521f1",
   "metadata": {},
   "source": [
    "### BM25 vs BM25-DPR"
   ]
  },
  {
   "cell_type": "code",
   "execution_count": 178,
   "id": "aecb07c7",
   "metadata": {},
   "outputs": [
    {
     "name": "stdout",
     "output_type": "stream",
     "text": [
      "Precision score is statistically insignificant\n",
      "MRR score is statistically insignificant\n",
      "MAP score is statistically insignificant\n",
      "BPref score is statistically insignificant\n"
     ]
    }
   ],
   "source": [
    "bm25_dpr = pd.read_csv('../Results/Scores/dpr-bm25-v2_eval_ttmeqsum_scores.csv')\n",
    "compare_with_sparse(bm25_dpr, 'bm25')"
   ]
  },
  {
   "cell_type": "markdown",
   "id": "c3470828",
   "metadata": {},
   "source": [
    "### LMD vs LMD-DPR"
   ]
  },
  {
   "cell_type": "code",
   "execution_count": 179,
   "id": "17945565",
   "metadata": {},
   "outputs": [
    {
     "name": "stdout",
     "output_type": "stream",
     "text": [
      "Precision score is statistically insignificant\n",
      "MRR score is statistically significant\n",
      "MAP score is statistically significant\n",
      "BPref score is statistically significant\n"
     ]
    }
   ],
   "source": [
    "lmd_dpr = pd.read_csv('../Results/Scores/dpr-lmd-v2_eval_ttmeqsum_scores.csv')\n",
    "compare_with_sparse(lmd_dpr, 'lmd')"
   ]
  },
  {
   "cell_type": "markdown",
   "id": "f707ab3b",
   "metadata": {},
   "source": [
    "### TFIDF vs TFIDF-DPR"
   ]
  },
  {
   "cell_type": "code",
   "execution_count": 180,
   "id": "fae9bd99",
   "metadata": {},
   "outputs": [
    {
     "name": "stdout",
     "output_type": "stream",
     "text": [
      "Precision score is statistically significant\n",
      "MRR score is statistically significant\n",
      "MAP score is statistically significant\n",
      "BPref score is statistically insignificant\n"
     ]
    }
   ],
   "source": [
    "tfidf_dpr = pd.read_csv('../Results/Scores/dpr-classic-v2_eval_ttmeqsum_scores.csv')\n",
    "compare_with_sparse(tfidf_dpr, 'classic')"
   ]
  },
  {
   "cell_type": "markdown",
   "id": "c025665f",
   "metadata": {},
   "source": [
    "## Dense Model vs Hybrid Sparse-Dense Model"
   ]
  },
  {
   "cell_type": "markdown",
   "id": "78a15d43",
   "metadata": {},
   "source": [
    "### DPR vs BM25-DPR"
   ]
  },
  {
   "cell_type": "code",
   "execution_count": 181,
   "id": "4e7d903e",
   "metadata": {},
   "outputs": [
    {
     "name": "stdout",
     "output_type": "stream",
     "text": [
      "Precision score is statistically significant\n",
      "MRR score is statistically significant\n",
      "MAP score is statistically significant\n",
      "BPref score is statistically insignificant\n"
     ]
    }
   ],
   "source": [
    "bm25_dpr = pd.read_csv('../Results/Scores/dpr-bm25-v2_eval_ttmeqsum_scores.csv')\n",
    "compare_with_dpr(bm25_dpr, 'ttmeqsum')"
   ]
  },
  {
   "cell_type": "markdown",
   "id": "acb1bfdf",
   "metadata": {},
   "source": [
    "### DPR vs LMD-DPR"
   ]
  },
  {
   "cell_type": "code",
   "execution_count": 182,
   "id": "46837da8",
   "metadata": {},
   "outputs": [
    {
     "name": "stdout",
     "output_type": "stream",
     "text": [
      "Precision score is statistically significant\n",
      "MRR score is statistically significant\n",
      "MAP score is statistically significant\n",
      "BPref score is statistically insignificant\n"
     ]
    }
   ],
   "source": [
    "lmd_dpr = pd.read_csv('../Results/Scores/dpr-lmd-v2_eval_ttmeqsum_scores.csv')\n",
    "compare_with_dpr(lmd_dpr, 'ttmeqsum')"
   ]
  },
  {
   "cell_type": "markdown",
   "id": "c5fdeba4",
   "metadata": {},
   "source": [
    "### DPR vs TFIDF-DPR"
   ]
  },
  {
   "cell_type": "code",
   "execution_count": 183,
   "id": "0f68181f",
   "metadata": {},
   "outputs": [
    {
     "name": "stdout",
     "output_type": "stream",
     "text": [
      "Precision score is statistically significant\n",
      "MRR score is statistically significant\n",
      "MAP score is statistically significant\n",
      "BPref score is statistically insignificant\n"
     ]
    }
   ],
   "source": [
    "tfidf_dpr = pd.read_csv('../Results/Scores/dpr-classic-v2_eval_ttmeqsum_scores.csv')\n",
    "compare_with_dpr(tfidf_dpr, 'ttmeqsum')"
   ]
  },
  {
   "cell_type": "markdown",
   "id": "c6d3dcf7",
   "metadata": {},
   "source": [
    "## Part 3: Retriever - Reranker Approach"
   ]
  },
  {
   "cell_type": "markdown",
   "id": "43a57026",
   "metadata": {},
   "source": [
    "## Dense Retriever - Sparse Reranker vs Sparse Retriever"
   ]
  },
  {
   "cell_type": "markdown",
   "id": "54738838",
   "metadata": {},
   "source": [
    "### DPR Retriever-BM25 Reranker vs BM25"
   ]
  },
  {
   "cell_type": "code",
   "execution_count": 184,
   "id": "bd2398fc",
   "metadata": {},
   "outputs": [
    {
     "name": "stdout",
     "output_type": "stream",
     "text": [
      "Precision score is statistically significant\n",
      "MRR score is statistically significant\n",
      "MAP score is statistically significant\n",
      "BPref score is statistically insignificant\n"
     ]
    }
   ],
   "source": [
    "bm25_dpr = pd.read_csv('../Results/Scores/retrieve-dpr_rerank-bm25_eval_ttmeqsum_scores.csv')\n",
    "compare_with_sparse(bm25_dpr, 'bm25')"
   ]
  },
  {
   "cell_type": "markdown",
   "id": "3e0c772c",
   "metadata": {},
   "source": [
    "### DPR Retriever-LMD Reranker vs LMD"
   ]
  },
  {
   "cell_type": "code",
   "execution_count": 185,
   "id": "2f11bdba",
   "metadata": {},
   "outputs": [
    {
     "name": "stdout",
     "output_type": "stream",
     "text": [
      "Precision score is statistically significant\n",
      "MRR score is statistically insignificant\n",
      "MAP score is statistically insignificant\n",
      "BPref score is statistically significant\n"
     ]
    }
   ],
   "source": [
    "lmd_dpr = pd.read_csv('../Results/Scores/retrieve-dpr_rerank-lmd_eval_ttmeqsum_scores.csv')\n",
    "compare_with_sparse(lmd_dpr, 'lmd')"
   ]
  },
  {
   "cell_type": "markdown",
   "id": "0a676aab",
   "metadata": {},
   "source": [
    "### DPR Retriever-TFIDF Reranker vs TFIDF"
   ]
  },
  {
   "cell_type": "code",
   "execution_count": 186,
   "id": "3c6aa4a7",
   "metadata": {},
   "outputs": [
    {
     "name": "stdout",
     "output_type": "stream",
     "text": [
      "Precision score is statistically significant\n",
      "MRR score is statistically significant\n",
      "MAP score is statistically significant\n",
      "BPref score is statistically insignificant\n"
     ]
    }
   ],
   "source": [
    "tfidf_dpr = pd.read_csv('../Results/Scores/retrieve-dpr_rerank-classic_eval_ttmeqsum_scores.csv')\n",
    "compare_with_sparse(tfidf_dpr, 'classic')"
   ]
  },
  {
   "cell_type": "markdown",
   "id": "5cdd86a2",
   "metadata": {},
   "source": [
    "## Dense Retriever - Sparse Reranker vs Dense Retriever"
   ]
  },
  {
   "cell_type": "markdown",
   "id": "e4341471",
   "metadata": {},
   "source": [
    "### DPR Retriever-BM25 Reranker vs DPR"
   ]
  },
  {
   "cell_type": "code",
   "execution_count": 187,
   "id": "99a3e447",
   "metadata": {},
   "outputs": [
    {
     "name": "stdout",
     "output_type": "stream",
     "text": [
      "Precision score is statistically significant\n",
      "MRR score is statistically significant\n",
      "MAP score is statistically significant\n",
      "BPref score is statistically significant\n"
     ]
    }
   ],
   "source": [
    "bm25_dpr = pd.read_csv('../Results/Scores/retrieve-dpr_rerank-bm25_eval_ttmeqsum_scores.csv')\n",
    "compare_with_dpr(bm25_dpr, 'ttmeqsum')"
   ]
  },
  {
   "cell_type": "markdown",
   "id": "e1a1ab16",
   "metadata": {},
   "source": [
    "### DPR Retriever-LMD Reranker vs DPR"
   ]
  },
  {
   "cell_type": "code",
   "execution_count": 188,
   "id": "a6db1310",
   "metadata": {},
   "outputs": [
    {
     "name": "stdout",
     "output_type": "stream",
     "text": [
      "Precision score is statistically significant\n",
      "MRR score is statistically significant\n",
      "MAP score is statistically significant\n",
      "BPref score is statistically significant\n"
     ]
    }
   ],
   "source": [
    "lmd_dpr = pd.read_csv('../Results/Scores/retrieve-dpr_rerank-lmd_eval_ttmeqsum_scores.csv')\n",
    "compare_with_dpr(lmd_dpr, 'ttmeqsum')"
   ]
  },
  {
   "cell_type": "markdown",
   "id": "757aba3d",
   "metadata": {},
   "source": [
    "### DPR Retriever-TFIDF Reranker vs DPR"
   ]
  },
  {
   "cell_type": "code",
   "execution_count": 189,
   "id": "945792fe",
   "metadata": {},
   "outputs": [
    {
     "name": "stdout",
     "output_type": "stream",
     "text": [
      "Precision score is statistically insignificant\n",
      "MRR score is statistically significant\n",
      "MAP score is statistically significant\n",
      "BPref score is statistically insignificant\n"
     ]
    }
   ],
   "source": [
    "tfidf_dpr = pd.read_csv('../Results/Scores/retrieve-dpr_rerank-classic_eval_ttmeqsum_scores.csv')\n",
    "compare_with_dpr(tfidf_dpr, 'ttmeqsum')"
   ]
  },
  {
   "cell_type": "markdown",
   "id": "0e8f19d8",
   "metadata": {},
   "source": [
    "## Sparse Retriever - Dense Reranker vs Sparse Retriever"
   ]
  },
  {
   "cell_type": "markdown",
   "id": "41b7bc05",
   "metadata": {},
   "source": [
    "### BM25 Retriever - DPR Reranker vs BM25"
   ]
  },
  {
   "cell_type": "code",
   "execution_count": 190,
   "id": "c3973003",
   "metadata": {},
   "outputs": [
    {
     "name": "stdout",
     "output_type": "stream",
     "text": [
      "Precision score is statistically significant\n",
      "MRR score is statistically significant\n",
      "MAP score is statistically significant\n",
      "BPref score is statistically significant\n"
     ]
    }
   ],
   "source": [
    "bm25_dpr = pd.read_csv('../Results/Scores/retrieve-bm25_rerank-dpr_eval_ttmeqsum_scores.csv')\n",
    "compare_with_sparse(bm25_dpr, 'bm25')"
   ]
  },
  {
   "cell_type": "markdown",
   "id": "f6c9d8f2",
   "metadata": {},
   "source": [
    "### LMD Retriever - DPR Reranker vs LMD"
   ]
  },
  {
   "cell_type": "code",
   "execution_count": 191,
   "id": "c6e407d5",
   "metadata": {},
   "outputs": [
    {
     "name": "stdout",
     "output_type": "stream",
     "text": [
      "Precision score is statistically significant\n",
      "MRR score is statistically significant\n",
      "MAP score is statistically significant\n",
      "BPref score is statistically significant\n"
     ]
    }
   ],
   "source": [
    "lmd_dpr = pd.read_csv('../Results/Scores/retrieve-lmd_rerank-dpr_eval_ttmeqsum_scores.csv')\n",
    "compare_with_sparse(lmd_dpr, 'lmd')"
   ]
  },
  {
   "cell_type": "markdown",
   "id": "e7fd515e",
   "metadata": {},
   "source": [
    "### TFIDF Retriever - DPR Reranker vs TFIDF"
   ]
  },
  {
   "cell_type": "code",
   "execution_count": 192,
   "id": "b204930c",
   "metadata": {},
   "outputs": [
    {
     "name": "stdout",
     "output_type": "stream",
     "text": [
      "Precision score is statistically significant\n",
      "MRR score is statistically significant\n",
      "MAP score is statistically significant\n",
      "BPref score is statistically insignificant\n"
     ]
    }
   ],
   "source": [
    "tfidf_dpr = pd.read_csv('../Results/Scores/retrieve-classic_rerank-dpr_eval_ttmeqsum_scores.csv')\n",
    "compare_with_sparse(tfidf_dpr, 'classic')"
   ]
  },
  {
   "cell_type": "markdown",
   "id": "1a795637",
   "metadata": {},
   "source": [
    "## Sparse Retriever - Dense Reranker vs Dense Retriever"
   ]
  },
  {
   "cell_type": "markdown",
   "id": "17abfb23",
   "metadata": {},
   "source": [
    "### BM25 Retriever - DPR Reranker vs DPR"
   ]
  },
  {
   "cell_type": "code",
   "execution_count": 193,
   "id": "e81574c6",
   "metadata": {},
   "outputs": [
    {
     "name": "stdout",
     "output_type": "stream",
     "text": [
      "Precision score is statistically significant\n",
      "MRR score is statistically significant\n",
      "MAP score is statistically significant\n",
      "BPref score is statistically insignificant\n"
     ]
    }
   ],
   "source": [
    "bm25_dpr = pd.read_csv('../Results/Scores/retrieve-bm25_rerank-dpr_eval_ttmeqsum_scores.csv')\n",
    "compare_with_dpr(bm25_dpr, 'ttmeqsum')"
   ]
  },
  {
   "cell_type": "markdown",
   "id": "3647fa2c",
   "metadata": {},
   "source": [
    "### LMD Retriever - DPR Reranker vs DPR"
   ]
  },
  {
   "cell_type": "code",
   "execution_count": 194,
   "id": "8d80b387",
   "metadata": {},
   "outputs": [
    {
     "name": "stdout",
     "output_type": "stream",
     "text": [
      "Precision score is statistically insignificant\n",
      "MRR score is statistically insignificant\n",
      "MAP score is statistically insignificant\n",
      "BPref score is statistically significant\n"
     ]
    }
   ],
   "source": [
    "lmd_dpr = pd.read_csv('../Results/Scores/retrieve-lmd_rerank-dpr_eval_ttmeqsum_scores.csv')\n",
    "compare_with_dpr(lmd_dpr, 'ttmeqsum')"
   ]
  },
  {
   "cell_type": "markdown",
   "id": "4aaccb25",
   "metadata": {},
   "source": [
    "### TFIDF Retriever - DPR Reranker vs DPR"
   ]
  },
  {
   "cell_type": "code",
   "execution_count": 195,
   "id": "d2e6084c",
   "metadata": {},
   "outputs": [
    {
     "name": "stdout",
     "output_type": "stream",
     "text": [
      "Precision score is statistically significant\n",
      "MRR score is statistically significant\n",
      "MAP score is statistically significant\n",
      "BPref score is statistically insignificant\n"
     ]
    }
   ],
   "source": [
    "tfidf_dpr = pd.read_csv('../Results/Scores/retrieve-classic_rerank-dpr_eval_ttmeqsum_scores.csv')\n",
    "compare_with_dpr(tfidf_dpr, 'ttmeqsum')"
   ]
  },
  {
   "cell_type": "markdown",
   "id": "4a39de99",
   "metadata": {},
   "source": [
    "## Sparse Reranker - Dense Retriever vs Sparse Retriever - Dense Reranker"
   ]
  },
  {
   "cell_type": "markdown",
   "id": "5cbc6c29",
   "metadata": {},
   "source": [
    "### BM25 Reranker - DPR Retriever vs BM25 Retriever - DPR Reranker"
   ]
  },
  {
   "cell_type": "code",
   "execution_count": 196,
   "id": "069bae63",
   "metadata": {},
   "outputs": [],
   "source": [
    "bm25_dpr1 = pd.read_csv('../Results/Scores/retrieve-dpr_rerank-bm25_eval_indosum_scores.csv')\n",
    "bm25_dpr2 = pd.read_csv('../Results/Scores/retrieve-bm25_rerank-dpr_eval_indosum_scores.csv')"
   ]
  },
  {
   "cell_type": "code",
   "execution_count": 197,
   "id": "dee33b29",
   "metadata": {},
   "outputs": [],
   "source": [
    "metrics = bm25_dpr1.columns"
   ]
  },
  {
   "cell_type": "code",
   "execution_count": 198,
   "id": "bd8a8630",
   "metadata": {},
   "outputs": [
    {
     "name": "stdout",
     "output_type": "stream",
     "text": [
      "Precision score is statistically significant\n",
      "MRR score is statistically insignificant\n",
      "MAP score is statistically insignificant\n",
      "BPref score is statistically insignificant\n"
     ]
    }
   ],
   "source": [
    "significance_test(bm25_dpr1, bm25_dpr2, metrics)"
   ]
  },
  {
   "cell_type": "markdown",
   "id": "fb63ea4a",
   "metadata": {},
   "source": [
    "### LMD Reranker - DPR Retriever vs LMD Retriever - DPR Reranker"
   ]
  },
  {
   "cell_type": "code",
   "execution_count": 199,
   "id": "b698b4e4",
   "metadata": {},
   "outputs": [],
   "source": [
    "lmd_dpr1 = pd.read_csv('../Results/Scores/retrieve-dpr_rerank-lmd_eval_indosum_scores.csv')\n",
    "lmd_dpr2 = pd.read_csv('../Results/Scores/retrieve-lmd_rerank-dpr_eval_indosum_scores.csv')"
   ]
  },
  {
   "cell_type": "code",
   "execution_count": 200,
   "id": "ba951b51",
   "metadata": {},
   "outputs": [],
   "source": [
    "metrics = lmd_dpr1.columns"
   ]
  },
  {
   "cell_type": "code",
   "execution_count": 201,
   "id": "3517279b",
   "metadata": {},
   "outputs": [
    {
     "name": "stdout",
     "output_type": "stream",
     "text": [
      "Precision score is statistically significant\n",
      "MRR score is statistically insignificant\n",
      "MAP score is statistically insignificant\n",
      "BPref score is statistically insignificant\n"
     ]
    }
   ],
   "source": [
    "significance_test(lmd_dpr1, lmd_dpr2, metrics)"
   ]
  },
  {
   "cell_type": "markdown",
   "id": "e219c7c8",
   "metadata": {},
   "source": [
    "### TFIDF Reranker - DPR Retriever vs TFIDF Retriever - DPR Reranker"
   ]
  },
  {
   "cell_type": "code",
   "execution_count": 202,
   "id": "79fdf51c",
   "metadata": {},
   "outputs": [],
   "source": [
    "tfidf_dpr1 = pd.read_csv('../Results/Scores/retrieve-dpr_rerank-classic_eval_indosum_scores.csv')\n",
    "tfidf_dpr2 = pd.read_csv('../Results/Scores/retrieve-classic_rerank-dpr_eval_indosum_scores.csv')"
   ]
  },
  {
   "cell_type": "code",
   "execution_count": 203,
   "id": "e99fe5b9",
   "metadata": {},
   "outputs": [],
   "source": [
    "metrics = tfidf_dpr1.columns"
   ]
  },
  {
   "cell_type": "code",
   "execution_count": 204,
   "id": "edc4ddb7",
   "metadata": {
    "scrolled": false
   },
   "outputs": [
    {
     "name": "stdout",
     "output_type": "stream",
     "text": [
      "Precision score is statistically significant\n",
      "MRR score is statistically insignificant\n",
      "MAP score is statistically insignificant\n",
      "BPref score is statistically insignificant\n"
     ]
    }
   ],
   "source": [
    "significance_test(tfidf_dpr1, tfidf_dpr2, metrics)"
   ]
  },
  {
   "cell_type": "code",
   "execution_count": null,
   "id": "ddd4f357",
   "metadata": {},
   "outputs": [],
   "source": []
  },
  {
   "cell_type": "markdown",
   "id": "187a705e",
   "metadata": {},
   "source": [
    "# F. ICT-Syifa"
   ]
  },
  {
   "cell_type": "markdown",
   "id": "437f1c6a",
   "metadata": {},
   "source": [
    "## DPR vs DPR-PRF"
   ]
  },
  {
   "cell_type": "code",
   "execution_count": 317,
   "id": "66bafdc5",
   "metadata": {
    "scrolled": false
   },
   "outputs": [
    {
     "name": "stdout",
     "output_type": "stream",
     "text": [
      "Precision score is statistically insignificant\n",
      "MRR score is statistically insignificant\n",
      "MAP score is statistically insignificant\n",
      "BPref score is statistically insignificant\n"
     ]
    }
   ],
   "source": [
    "dpr_prf = pd.read_csv('../Results/Scores/dpr_prf_eval_ict_scores.csv')\n",
    "compare_with_dpr(dpr_prf, 'ict')"
   ]
  },
  {
   "cell_type": "markdown",
   "id": "a540f21b",
   "metadata": {},
   "source": [
    "## Part 1: Hybrid using Alpha Linear Combo"
   ]
  },
  {
   "cell_type": "markdown",
   "id": "08bd7549",
   "metadata": {},
   "source": [
    "The linear combination can be formulated as the following\n",
    "\\begin{gather*} \n",
    "Score(Q,D) =  \\alpha*sim_{DPR}(Q,D) + (1-\\alpha)*sim_{sparse}(Q,D)\n",
    "\\end{gather*}"
   ]
  },
  {
   "cell_type": "markdown",
   "id": "2fc7e48f",
   "metadata": {},
   "source": [
    "## Sparse Model vs Hybrid Sparse-Dense Model"
   ]
  },
  {
   "cell_type": "markdown",
   "id": "9f6f6fd6",
   "metadata": {},
   "source": [
    "### BM25 vs BM25-DPR"
   ]
  },
  {
   "cell_type": "code",
   "execution_count": 206,
   "id": "315a6282",
   "metadata": {},
   "outputs": [
    {
     "name": "stdout",
     "output_type": "stream",
     "text": [
      "Precision score is statistically significant\n",
      "MRR score is statistically insignificant\n",
      "MAP score is statistically insignificant\n",
      "BPref score is statistically insignificant\n"
     ]
    }
   ],
   "source": [
    "bm25_dpr = pd.read_csv('../Results/Scores/dpr-bm25_eval_ict_scores.csv')\n",
    "compare_with_sparse(bm25_dpr, 'bm25')"
   ]
  },
  {
   "cell_type": "markdown",
   "id": "662e8fa5",
   "metadata": {},
   "source": [
    "### LMD vs LMD-DPR"
   ]
  },
  {
   "cell_type": "code",
   "execution_count": 207,
   "id": "2f18d640",
   "metadata": {},
   "outputs": [
    {
     "name": "stdout",
     "output_type": "stream",
     "text": [
      "Precision score is statistically insignificant\n",
      "MRR score is statistically insignificant\n",
      "MAP score is statistically significant\n",
      "BPref score is statistically significant\n"
     ]
    }
   ],
   "source": [
    "lmd_dpr = pd.read_csv('../Results/Scores/dpr-lmd_eval_ict_scores.csv')\n",
    "compare_with_sparse(lmd_dpr, 'lmd')"
   ]
  },
  {
   "cell_type": "markdown",
   "id": "a0895c0a",
   "metadata": {},
   "source": [
    "### TFIDF vs TFIDF-DPR"
   ]
  },
  {
   "cell_type": "code",
   "execution_count": 208,
   "id": "8ef16a28",
   "metadata": {},
   "outputs": [
    {
     "name": "stdout",
     "output_type": "stream",
     "text": [
      "Precision score is statistically significant\n",
      "MRR score is statistically significant\n",
      "MAP score is statistically significant\n",
      "BPref score is statistically insignificant\n"
     ]
    }
   ],
   "source": [
    "tfidf_dpr = pd.read_csv('../Results/Scores/dpr-classic_eval_ict_scores.csv')\n",
    "compare_with_sparse(tfidf_dpr, 'classic')"
   ]
  },
  {
   "cell_type": "markdown",
   "id": "9e791bc3",
   "metadata": {},
   "source": [
    "## Dense Model vs Hybrid Sparse-Dense Model"
   ]
  },
  {
   "cell_type": "markdown",
   "id": "56988efa",
   "metadata": {},
   "source": [
    "### DPR vs BM25-DPR"
   ]
  },
  {
   "cell_type": "code",
   "execution_count": 209,
   "id": "cc863629",
   "metadata": {},
   "outputs": [
    {
     "name": "stdout",
     "output_type": "stream",
     "text": [
      "Precision score is statistically significant\n",
      "MRR score is statistically significant\n",
      "MAP score is statistically significant\n",
      "BPref score is statistically significant\n"
     ]
    }
   ],
   "source": [
    "bm25_dpr = pd.read_csv('../Results/Scores/dpr-bm25_eval_ict_scores.csv')\n",
    "compare_with_dpr(bm25_dpr, 'ict')"
   ]
  },
  {
   "cell_type": "markdown",
   "id": "0fff887e",
   "metadata": {},
   "source": [
    "### DPR vs LMD-DPR"
   ]
  },
  {
   "cell_type": "code",
   "execution_count": 210,
   "id": "2abc59f0",
   "metadata": {},
   "outputs": [
    {
     "name": "stdout",
     "output_type": "stream",
     "text": [
      "Precision score is statistically significant\n",
      "MRR score is statistically significant\n",
      "MAP score is statistically significant\n",
      "BPref score is statistically significant\n"
     ]
    }
   ],
   "source": [
    "lmd_dpr = pd.read_csv('../Results/Scores/dpr-lmd_eval_ict_scores.csv')\n",
    "compare_with_dpr(lmd_dpr, 'ict')"
   ]
  },
  {
   "cell_type": "markdown",
   "id": "03ec51b5",
   "metadata": {},
   "source": [
    "### DPR vs TFIDF-DPR"
   ]
  },
  {
   "cell_type": "code",
   "execution_count": 211,
   "id": "c152af02",
   "metadata": {},
   "outputs": [
    {
     "name": "stdout",
     "output_type": "stream",
     "text": [
      "Precision score is statistically significant\n",
      "MRR score is statistically significant\n",
      "MAP score is statistically significant\n",
      "BPref score is statistically significant\n"
     ]
    }
   ],
   "source": [
    "tfidf_dpr = pd.read_csv('../Results/Scores/dpr-classic_eval_ict_scores.csv')\n",
    "compare_with_dpr(tfidf_dpr, 'ict')"
   ]
  },
  {
   "cell_type": "markdown",
   "id": "0a7285b7",
   "metadata": {},
   "source": [
    "## Part 2: Hybrid using Alpha Beta Linear Combo"
   ]
  },
  {
   "cell_type": "markdown",
   "id": "97bcc3c9",
   "metadata": {},
   "source": [
    "The linear combination can be formulated as the following\n",
    "\\begin{gather*} \n",
    "Score(Q,D) =  \\alpha*sim_{sparse}(Q,D) + \\beta*sim_{DPR}(Q,D)\n",
    "\\end{gather*}\n",
    "Those \"optimized\" hyperparameters can be found by using logistic regression."
   ]
  },
  {
   "cell_type": "markdown",
   "id": "8355a8b7",
   "metadata": {},
   "source": [
    "## Sparse Model vs Hybrid Sparse-Dense Model"
   ]
  },
  {
   "cell_type": "markdown",
   "id": "8e884d22",
   "metadata": {},
   "source": [
    "### BM25 vs BM25-DPR"
   ]
  },
  {
   "cell_type": "code",
   "execution_count": 212,
   "id": "2c79057a",
   "metadata": {},
   "outputs": [
    {
     "name": "stdout",
     "output_type": "stream",
     "text": [
      "Precision score is statistically significant\n",
      "MRR score is statistically insignificant\n",
      "MAP score is statistically insignificant\n",
      "BPref score is statistically insignificant\n"
     ]
    }
   ],
   "source": [
    "bm25_dpr = pd.read_csv('../Results/Scores/dpr-bm25-v2_eval_ict_scores.csv')\n",
    "compare_with_sparse(bm25_dpr, 'bm25')"
   ]
  },
  {
   "cell_type": "markdown",
   "id": "236e7897",
   "metadata": {},
   "source": [
    "### LMD vs LMD-DPR"
   ]
  },
  {
   "cell_type": "code",
   "execution_count": 213,
   "id": "55f0515e",
   "metadata": {},
   "outputs": [
    {
     "name": "stdout",
     "output_type": "stream",
     "text": [
      "Precision score is statistically insignificant\n",
      "MRR score is statistically insignificant\n",
      "MAP score is statistically insignificant\n",
      "BPref score is statistically significant\n"
     ]
    }
   ],
   "source": [
    "lmd_dpr = pd.read_csv('../Results/Scores/dpr-lmd-v2_eval_ict_scores.csv')\n",
    "compare_with_sparse(lmd_dpr, 'lmd')"
   ]
  },
  {
   "cell_type": "markdown",
   "id": "01701df3",
   "metadata": {},
   "source": [
    "### TFIDF vs TFIDF-DPR"
   ]
  },
  {
   "cell_type": "code",
   "execution_count": 214,
   "id": "5a878c33",
   "metadata": {},
   "outputs": [
    {
     "name": "stdout",
     "output_type": "stream",
     "text": [
      "Precision score is statistically significant\n",
      "MRR score is statistically significant\n",
      "MAP score is statistically significant\n",
      "BPref score is statistically insignificant\n"
     ]
    }
   ],
   "source": [
    "tfidf_dpr = pd.read_csv('../Results/Scores/dpr-classic-v2_eval_ict_scores.csv')\n",
    "compare_with_sparse(tfidf_dpr, 'classic')"
   ]
  },
  {
   "cell_type": "markdown",
   "id": "78cdd52b",
   "metadata": {},
   "source": [
    "## Dense Model vs Hybrid Sparse-Dense Model"
   ]
  },
  {
   "cell_type": "markdown",
   "id": "0d6773c7",
   "metadata": {},
   "source": [
    "### DPR vs BM25-DPR"
   ]
  },
  {
   "cell_type": "code",
   "execution_count": 215,
   "id": "55bd0aa1",
   "metadata": {},
   "outputs": [
    {
     "name": "stdout",
     "output_type": "stream",
     "text": [
      "Precision score is statistically significant\n",
      "MRR score is statistically significant\n",
      "MAP score is statistically significant\n",
      "BPref score is statistically significant\n"
     ]
    }
   ],
   "source": [
    "bm25_dpr = pd.read_csv('../Results/Scores/dpr-bm25-v2_eval_ict_scores.csv')\n",
    "compare_with_dpr(bm25_dpr, 'ict')"
   ]
  },
  {
   "cell_type": "markdown",
   "id": "8ba1c19c",
   "metadata": {},
   "source": [
    "### DPR vs LMD-DPR"
   ]
  },
  {
   "cell_type": "code",
   "execution_count": 216,
   "id": "a6d56e1c",
   "metadata": {},
   "outputs": [
    {
     "name": "stdout",
     "output_type": "stream",
     "text": [
      "Precision score is statistically significant\n",
      "MRR score is statistically significant\n",
      "MAP score is statistically significant\n",
      "BPref score is statistically significant\n"
     ]
    }
   ],
   "source": [
    "lmd_dpr = pd.read_csv('../Results/Scores/dpr-lmd-v2_eval_ict_scores.csv')\n",
    "compare_with_dpr(lmd_dpr, 'ict')"
   ]
  },
  {
   "cell_type": "markdown",
   "id": "041f0752",
   "metadata": {},
   "source": [
    "### DPR vs TFIDF-DPR"
   ]
  },
  {
   "cell_type": "code",
   "execution_count": 217,
   "id": "2917a581",
   "metadata": {},
   "outputs": [
    {
     "name": "stdout",
     "output_type": "stream",
     "text": [
      "Precision score is statistically significant\n",
      "MRR score is statistically significant\n",
      "MAP score is statistically significant\n",
      "BPref score is statistically significant\n"
     ]
    }
   ],
   "source": [
    "tfidf_dpr = pd.read_csv('../Results/Scores/dpr-classic-v2_eval_ict_scores.csv')\n",
    "compare_with_dpr(tfidf_dpr, 'ict')"
   ]
  },
  {
   "cell_type": "markdown",
   "id": "cd6ce739",
   "metadata": {},
   "source": [
    "## Part 3: Retriever - Reranker Approach"
   ]
  },
  {
   "cell_type": "markdown",
   "id": "1d5e58f8",
   "metadata": {},
   "source": [
    "## Dense Retriever - Sparse Reranker vs Sparse Retriever"
   ]
  },
  {
   "cell_type": "markdown",
   "id": "d551adca",
   "metadata": {},
   "source": [
    "### DPR Retriever-BM25 Reranker vs BM25"
   ]
  },
  {
   "cell_type": "code",
   "execution_count": 218,
   "id": "bbab4c45",
   "metadata": {},
   "outputs": [
    {
     "name": "stdout",
     "output_type": "stream",
     "text": [
      "Precision score is statistically significant\n",
      "MRR score is statistically significant\n",
      "MAP score is statistically significant\n",
      "BPref score is statistically significant\n"
     ]
    }
   ],
   "source": [
    "bm25_dpr = pd.read_csv('../Results/Scores/retrieve-dpr_rerank-bm25_eval_ict_scores.csv')\n",
    "compare_with_sparse(bm25_dpr, 'bm25')"
   ]
  },
  {
   "cell_type": "markdown",
   "id": "08c52912",
   "metadata": {},
   "source": [
    "### DPR Retriever-LMD Reranker vs LMD"
   ]
  },
  {
   "cell_type": "code",
   "execution_count": 219,
   "id": "6c00f2a9",
   "metadata": {},
   "outputs": [
    {
     "name": "stdout",
     "output_type": "stream",
     "text": [
      "Precision score is statistically significant\n",
      "MRR score is statistically significant\n",
      "MAP score is statistically significant\n",
      "BPref score is statistically insignificant\n"
     ]
    }
   ],
   "source": [
    "lmd_dpr = pd.read_csv('../Results/Scores/retrieve-dpr_rerank-lmd_eval_ict_scores.csv')\n",
    "compare_with_sparse(lmd_dpr, 'lmd')"
   ]
  },
  {
   "cell_type": "markdown",
   "id": "48f38011",
   "metadata": {},
   "source": [
    "### DPR Retriever-TFIDF Reranker vs TFIDF"
   ]
  },
  {
   "cell_type": "code",
   "execution_count": 220,
   "id": "20c72120",
   "metadata": {},
   "outputs": [
    {
     "name": "stdout",
     "output_type": "stream",
     "text": [
      "Precision score is statistically significant\n",
      "MRR score is statistically significant\n",
      "MAP score is statistically significant\n",
      "BPref score is statistically significant\n"
     ]
    }
   ],
   "source": [
    "tfidf_dpr = pd.read_csv('../Results/Scores/retrieve-dpr_rerank-classic_eval_ict_scores.csv')\n",
    "compare_with_sparse(tfidf_dpr, 'classic')"
   ]
  },
  {
   "cell_type": "markdown",
   "id": "42df0ff5",
   "metadata": {},
   "source": [
    "## Dense Retriever - Sparse Reranker vs Dense Retriever"
   ]
  },
  {
   "cell_type": "markdown",
   "id": "41293066",
   "metadata": {},
   "source": [
    "### DPR Retriever-BM25 Reranker vs DPR"
   ]
  },
  {
   "cell_type": "code",
   "execution_count": 221,
   "id": "a21ba9a8",
   "metadata": {},
   "outputs": [
    {
     "name": "stdout",
     "output_type": "stream",
     "text": [
      "Precision score is statistically significant\n",
      "MRR score is statistically significant\n",
      "MAP score is statistically significant\n",
      "BPref score is statistically significant\n"
     ]
    }
   ],
   "source": [
    "bm25_dpr = pd.read_csv('../Results/Scores/retrieve-dpr_rerank-bm25_eval_ict_scores.csv')\n",
    "compare_with_dpr(bm25_dpr, 'ict')"
   ]
  },
  {
   "cell_type": "markdown",
   "id": "f8d9ae34",
   "metadata": {},
   "source": [
    "### DPR Retriever-LMD Reranker vs DPR"
   ]
  },
  {
   "cell_type": "code",
   "execution_count": 222,
   "id": "938da27f",
   "metadata": {},
   "outputs": [
    {
     "name": "stdout",
     "output_type": "stream",
     "text": [
      "Precision score is statistically significant\n",
      "MRR score is statistically significant\n",
      "MAP score is statistically significant\n",
      "BPref score is statistically significant\n"
     ]
    }
   ],
   "source": [
    "lmd_dpr = pd.read_csv('../Results/Scores/retrieve-dpr_rerank-lmd_eval_ict_scores.csv')\n",
    "compare_with_dpr(lmd_dpr, 'ict')"
   ]
  },
  {
   "cell_type": "markdown",
   "id": "5bfb336d",
   "metadata": {},
   "source": [
    "### DPR Retriever-TFIDF Reranker vs DPR"
   ]
  },
  {
   "cell_type": "code",
   "execution_count": 223,
   "id": "7efa3b8d",
   "metadata": {},
   "outputs": [
    {
     "name": "stdout",
     "output_type": "stream",
     "text": [
      "Precision score is statistically significant\n",
      "MRR score is statistically significant\n",
      "MAP score is statistically significant\n",
      "BPref score is statistically insignificant\n"
     ]
    }
   ],
   "source": [
    "tfidf_dpr = pd.read_csv('../Results/Scores/retrieve-dpr_rerank-classic_eval_ict_scores.csv')\n",
    "compare_with_dpr(tfidf_dpr, 'ict')"
   ]
  },
  {
   "cell_type": "markdown",
   "id": "9d2f628c",
   "metadata": {},
   "source": [
    "## Sparse Retriever - Dense Reranker vs Sparse Retriever"
   ]
  },
  {
   "cell_type": "markdown",
   "id": "a95276e9",
   "metadata": {},
   "source": [
    "### BM25 Retriever - DPR Reranker vs BM25"
   ]
  },
  {
   "cell_type": "code",
   "execution_count": 224,
   "id": "df67e4a1",
   "metadata": {},
   "outputs": [
    {
     "name": "stdout",
     "output_type": "stream",
     "text": [
      "Precision score is statistically significant\n",
      "MRR score is statistically significant\n",
      "MAP score is statistically significant\n",
      "BPref score is statistically significant\n"
     ]
    }
   ],
   "source": [
    "bm25_dpr = pd.read_csv('../Results/Scores/retrieve-bm25_rerank-dpr_eval_ict_scores.csv')\n",
    "compare_with_sparse(bm25_dpr, 'bm25')"
   ]
  },
  {
   "cell_type": "markdown",
   "id": "e8ad0b2c",
   "metadata": {},
   "source": [
    "### LMD Retriever - DPR Reranker vs LMD"
   ]
  },
  {
   "cell_type": "code",
   "execution_count": 225,
   "id": "d3f05c2e",
   "metadata": {},
   "outputs": [
    {
     "name": "stdout",
     "output_type": "stream",
     "text": [
      "Precision score is statistically significant\n",
      "MRR score is statistically significant\n",
      "MAP score is statistically significant\n",
      "BPref score is statistically insignificant\n"
     ]
    }
   ],
   "source": [
    "lmd_dpr = pd.read_csv('../Results/Scores/retrieve-lmd_rerank-dpr_eval_ict_scores.csv')\n",
    "compare_with_sparse(lmd_dpr, 'lmd')"
   ]
  },
  {
   "cell_type": "markdown",
   "id": "96093014",
   "metadata": {},
   "source": [
    "### TFIDF Retriever - DPR Reranker vs TFIDF"
   ]
  },
  {
   "cell_type": "code",
   "execution_count": 226,
   "id": "091513f3",
   "metadata": {},
   "outputs": [
    {
     "name": "stdout",
     "output_type": "stream",
     "text": [
      "Precision score is statistically significant\n",
      "MRR score is statistically significant\n",
      "MAP score is statistically significant\n",
      "BPref score is statistically insignificant\n"
     ]
    }
   ],
   "source": [
    "tfidf_dpr = pd.read_csv('../Results/Scores/retrieve-classic_rerank-dpr_eval_ict_scores.csv')\n",
    "compare_with_sparse(tfidf_dpr, 'classic')"
   ]
  },
  {
   "cell_type": "markdown",
   "id": "843ba2ee",
   "metadata": {},
   "source": [
    "## Sparse Retriever - Dense Reranker vs Dense Retriever"
   ]
  },
  {
   "cell_type": "markdown",
   "id": "1581fd05",
   "metadata": {},
   "source": [
    "### BM25 Retriever - DPR Reranker vs DPR"
   ]
  },
  {
   "cell_type": "code",
   "execution_count": 227,
   "id": "0e7d2daf",
   "metadata": {},
   "outputs": [
    {
     "name": "stdout",
     "output_type": "stream",
     "text": [
      "Precision score is statistically significant\n",
      "MRR score is statistically significant\n",
      "MAP score is statistically significant\n",
      "BPref score is statistically insignificant\n"
     ]
    }
   ],
   "source": [
    "bm25_dpr = pd.read_csv('../Results/Scores/retrieve-bm25_rerank-dpr_eval_ict_scores.csv')\n",
    "compare_with_dpr(bm25_dpr, 'ict')"
   ]
  },
  {
   "cell_type": "markdown",
   "id": "c6a8c557",
   "metadata": {},
   "source": [
    "### LMD Retriever - DPR Reranker vs DPR"
   ]
  },
  {
   "cell_type": "code",
   "execution_count": 228,
   "id": "d7359699",
   "metadata": {},
   "outputs": [
    {
     "name": "stdout",
     "output_type": "stream",
     "text": [
      "Precision score is statistically significant\n",
      "MRR score is statistically significant\n",
      "MAP score is statistically significant\n",
      "BPref score is statistically insignificant\n"
     ]
    }
   ],
   "source": [
    "lmd_dpr = pd.read_csv('../Results/Scores/retrieve-lmd_rerank-dpr_eval_ict_scores.csv')\n",
    "compare_with_dpr(lmd_dpr, 'ict')"
   ]
  },
  {
   "cell_type": "markdown",
   "id": "4c710443",
   "metadata": {},
   "source": [
    "### TFIDF Retriever - DPR Reranker vs DPR"
   ]
  },
  {
   "cell_type": "code",
   "execution_count": 229,
   "id": "ced0433a",
   "metadata": {},
   "outputs": [
    {
     "name": "stdout",
     "output_type": "stream",
     "text": [
      "Precision score is statistically significant\n",
      "MRR score is statistically significant\n",
      "MAP score is statistically significant\n",
      "BPref score is statistically insignificant\n"
     ]
    }
   ],
   "source": [
    "tfidf_dpr = pd.read_csv('../Results/Scores/retrieve-classic_rerank-dpr_eval_ict_scores.csv')\n",
    "compare_with_dpr(tfidf_dpr, 'ict')"
   ]
  },
  {
   "cell_type": "markdown",
   "id": "beb2cdf7",
   "metadata": {},
   "source": [
    "## Sparse Reranker - Dense Retriever vs Sparse Retriever - Dense Reranker"
   ]
  },
  {
   "cell_type": "markdown",
   "id": "a499b267",
   "metadata": {},
   "source": [
    "### BM25 Reranker - DPR Retriever vs BM25 Retriever - DPR Reranker"
   ]
  },
  {
   "cell_type": "code",
   "execution_count": 230,
   "id": "66508ca4",
   "metadata": {},
   "outputs": [],
   "source": [
    "bm25_dpr1 = pd.read_csv('../Results/Scores/retrieve-dpr_rerank-bm25_eval_ict_scores.csv')\n",
    "bm25_dpr2 = pd.read_csv('../Results/Scores/retrieve-bm25_rerank-dpr_eval_ict_scores.csv')"
   ]
  },
  {
   "cell_type": "code",
   "execution_count": 231,
   "id": "e48091f2",
   "metadata": {},
   "outputs": [],
   "source": [
    "metrics = bm25_dpr1.columns"
   ]
  },
  {
   "cell_type": "code",
   "execution_count": 232,
   "id": "1e2cc09f",
   "metadata": {},
   "outputs": [
    {
     "name": "stdout",
     "output_type": "stream",
     "text": [
      "Precision score is statistically significant\n",
      "MRR score is statistically significant\n",
      "MAP score is statistically significant\n",
      "BPref score is statistically insignificant\n"
     ]
    }
   ],
   "source": [
    "significance_test(bm25_dpr1, bm25_dpr2, metrics)"
   ]
  },
  {
   "cell_type": "markdown",
   "id": "93dd485c",
   "metadata": {},
   "source": [
    "### LMD Reranker - DPR Retriever vs LMD Retriever - DPR Reranker"
   ]
  },
  {
   "cell_type": "code",
   "execution_count": 233,
   "id": "f599b59a",
   "metadata": {},
   "outputs": [],
   "source": [
    "lmd_dpr1 = pd.read_csv('../Results/Scores/retrieve-dpr_rerank-lmd_eval_ict_scores.csv')\n",
    "lmd_dpr2 = pd.read_csv('../Results/Scores/retrieve-lmd_rerank-dpr_eval_ict_scores.csv')"
   ]
  },
  {
   "cell_type": "code",
   "execution_count": 234,
   "id": "c6b2f4f9",
   "metadata": {},
   "outputs": [],
   "source": [
    "metrics = lmd_dpr1.columns"
   ]
  },
  {
   "cell_type": "code",
   "execution_count": 235,
   "id": "f59c336d",
   "metadata": {},
   "outputs": [
    {
     "name": "stdout",
     "output_type": "stream",
     "text": [
      "Precision score is statistically significant\n",
      "MRR score is statistically insignificant\n",
      "MAP score is statistically significant\n",
      "BPref score is statistically insignificant\n"
     ]
    }
   ],
   "source": [
    "significance_test(lmd_dpr1, lmd_dpr2, metrics)"
   ]
  },
  {
   "cell_type": "markdown",
   "id": "0cce9904",
   "metadata": {},
   "source": [
    "### TFIDF Reranker - DPR Retriever vs TFIDF Retriever - DPR Reranker"
   ]
  },
  {
   "cell_type": "code",
   "execution_count": 236,
   "id": "a0605792",
   "metadata": {},
   "outputs": [],
   "source": [
    "tfidf_dpr1 = pd.read_csv('../Results/Scores/retrieve-dpr_rerank-classic_eval_ict_scores.csv')\n",
    "tfidf_dpr2 = pd.read_csv('../Results/Scores/retrieve-classic_rerank-dpr_eval_ict_scores.csv')"
   ]
  },
  {
   "cell_type": "code",
   "execution_count": 237,
   "id": "a65a40c7",
   "metadata": {},
   "outputs": [],
   "source": [
    "metrics = tfidf_dpr1.columns"
   ]
  },
  {
   "cell_type": "code",
   "execution_count": 238,
   "id": "8bc28c00",
   "metadata": {
    "scrolled": true
   },
   "outputs": [
    {
     "name": "stdout",
     "output_type": "stream",
     "text": [
      "Precision score is statistically significant\n",
      "MRR score is statistically significant\n",
      "MAP score is statistically significant\n",
      "BPref score is statistically insignificant\n"
     ]
    }
   ],
   "source": [
    "significance_test(tfidf_dpr1, tfidf_dpr2, metrics)"
   ]
  },
  {
   "cell_type": "code",
   "execution_count": null,
   "id": "d84e8feb",
   "metadata": {},
   "outputs": [],
   "source": []
  },
  {
   "cell_type": "markdown",
   "id": "d19639ff",
   "metadata": {},
   "source": [
    "# G. Indowiki"
   ]
  },
  {
   "cell_type": "markdown",
   "id": "95571a64",
   "metadata": {},
   "source": [
    "## DPR vs DPR-PRF"
   ]
  },
  {
   "cell_type": "code",
   "execution_count": 239,
   "id": "d555eeb0",
   "metadata": {
    "scrolled": false
   },
   "outputs": [
    {
     "name": "stdout",
     "output_type": "stream",
     "text": [
      "Precision score is statistically significant\n",
      "MRR score is statistically insignificant\n",
      "MAP score is statistically significant\n",
      "BPref score is statistically significant\n"
     ]
    }
   ],
   "source": [
    "dpr_prf = pd.read_csv('../Results/Scores/dpr_prf_eval_indowiki_scores.csv')\n",
    "compare_with_dpr(dpr_prf, 'indowiki')"
   ]
  },
  {
   "cell_type": "markdown",
   "id": "573ac2fa",
   "metadata": {},
   "source": [
    "## Part 1: Hybrid using Alpha Linear Combo"
   ]
  },
  {
   "cell_type": "markdown",
   "id": "69d3989b",
   "metadata": {},
   "source": [
    "The linear combination can be formulated as the following\n",
    "\\begin{gather*} \n",
    "Score(Q,D) =  \\alpha*sim_{DPR}(Q,D) + (1-\\alpha)*sim_{sparse}(Q,D)\n",
    "\\end{gather*}"
   ]
  },
  {
   "cell_type": "markdown",
   "id": "09788f2c",
   "metadata": {},
   "source": [
    "## Sparse Model vs Hybrid Sparse-Dense Model"
   ]
  },
  {
   "cell_type": "markdown",
   "id": "dceaaa77",
   "metadata": {},
   "source": [
    "### BM25 vs BM25-DPR"
   ]
  },
  {
   "cell_type": "code",
   "execution_count": 240,
   "id": "eb3ed2e3",
   "metadata": {},
   "outputs": [
    {
     "name": "stdout",
     "output_type": "stream",
     "text": [
      "Precision score is statistically significant\n",
      "MRR score is statistically insignificant\n",
      "MAP score is statistically insignificant\n",
      "BPref score is statistically insignificant\n"
     ]
    }
   ],
   "source": [
    "bm25_dpr = pd.read_csv('../Results/Scores/dpr-bm25_eval_indowiki_scores.csv')\n",
    "compare_with_sparse(bm25_dpr, 'bm25')"
   ]
  },
  {
   "cell_type": "markdown",
   "id": "a68f8b53",
   "metadata": {},
   "source": [
    "### LMD vs LMD-DPR"
   ]
  },
  {
   "cell_type": "code",
   "execution_count": 241,
   "id": "85c819f4",
   "metadata": {},
   "outputs": [
    {
     "name": "stdout",
     "output_type": "stream",
     "text": [
      "Precision score is statistically insignificant\n",
      "MRR score is statistically insignificant\n",
      "MAP score is statistically insignificant\n",
      "BPref score is statistically significant\n"
     ]
    }
   ],
   "source": [
    "lmd_dpr = pd.read_csv('../Results/Scores/dpr-lmd_eval_indowiki_scores.csv')\n",
    "compare_with_sparse(lmd_dpr, 'lmd')"
   ]
  },
  {
   "cell_type": "markdown",
   "id": "f4bfcf92",
   "metadata": {},
   "source": [
    "### TFIDF vs TFIDF-DPR"
   ]
  },
  {
   "cell_type": "code",
   "execution_count": 242,
   "id": "2379db73",
   "metadata": {},
   "outputs": [
    {
     "name": "stdout",
     "output_type": "stream",
     "text": [
      "Precision score is statistically significant\n",
      "MRR score is statistically significant\n",
      "MAP score is statistically significant\n",
      "BPref score is statistically insignificant\n"
     ]
    }
   ],
   "source": [
    "tfidf_dpr = pd.read_csv('../Results/Scores/dpr-classic_eval_indowiki_scores.csv')\n",
    "compare_with_sparse(tfidf_dpr, 'classic')"
   ]
  },
  {
   "cell_type": "markdown",
   "id": "72dba843",
   "metadata": {},
   "source": [
    "## Dense Model vs Hybrid Sparse-Dense Model"
   ]
  },
  {
   "cell_type": "markdown",
   "id": "7853185c",
   "metadata": {},
   "source": [
    "### DPR vs BM25-DPR"
   ]
  },
  {
   "cell_type": "code",
   "execution_count": 243,
   "id": "96976751",
   "metadata": {},
   "outputs": [
    {
     "name": "stdout",
     "output_type": "stream",
     "text": [
      "Precision score is statistically significant\n",
      "MRR score is statistically significant\n",
      "MAP score is statistically significant\n",
      "BPref score is statistically significant\n"
     ]
    }
   ],
   "source": [
    "bm25_dpr = pd.read_csv('../Results/Scores/dpr-bm25_eval_indowiki_scores.csv')\n",
    "compare_with_dpr(bm25_dpr, 'indowiki')"
   ]
  },
  {
   "cell_type": "markdown",
   "id": "d7ed25c1",
   "metadata": {},
   "source": [
    "### DPR vs LMD-DPR"
   ]
  },
  {
   "cell_type": "code",
   "execution_count": 244,
   "id": "47a26957",
   "metadata": {},
   "outputs": [
    {
     "name": "stdout",
     "output_type": "stream",
     "text": [
      "Precision score is statistically significant\n",
      "MRR score is statistically significant\n",
      "MAP score is statistically significant\n",
      "BPref score is statistically significant\n"
     ]
    }
   ],
   "source": [
    "lmd_dpr = pd.read_csv('../Results/Scores/dpr-lmd_eval_indowiki_scores.csv')\n",
    "compare_with_dpr(lmd_dpr, 'indowiki')"
   ]
  },
  {
   "cell_type": "markdown",
   "id": "8a38a087",
   "metadata": {},
   "source": [
    "### DPR vs TFIDF-DPR"
   ]
  },
  {
   "cell_type": "code",
   "execution_count": 245,
   "id": "97f87816",
   "metadata": {},
   "outputs": [
    {
     "name": "stdout",
     "output_type": "stream",
     "text": [
      "Precision score is statistically significant\n",
      "MRR score is statistically significant\n",
      "MAP score is statistically significant\n",
      "BPref score is statistically insignificant\n"
     ]
    }
   ],
   "source": [
    "tfidf_dpr = pd.read_csv('../Results/Scores/dpr-classic_eval_indowiki_scores.csv')\n",
    "compare_with_dpr(tfidf_dpr, 'indowiki')"
   ]
  },
  {
   "cell_type": "markdown",
   "id": "3b8e6fbb",
   "metadata": {},
   "source": [
    "## Part 2: Hybrid using Alpha Beta Linear Combo"
   ]
  },
  {
   "cell_type": "markdown",
   "id": "717f71a3",
   "metadata": {},
   "source": [
    "The linear combination can be formulated as the following\n",
    "\\begin{gather*} \n",
    "Score(Q,D) =  \\alpha*sim_{sparse}(Q,D) + \\beta*sim_{DPR}(Q,D)\n",
    "\\end{gather*}\n",
    "Those \"optimized\" hyperparameters can be found by using logistic regression."
   ]
  },
  {
   "cell_type": "markdown",
   "id": "38bd4286",
   "metadata": {},
   "source": [
    "## Sparse Model vs Hybrid Sparse-Dense Model"
   ]
  },
  {
   "cell_type": "markdown",
   "id": "7c32b29d",
   "metadata": {},
   "source": [
    "### BM25 vs BM25-DPR"
   ]
  },
  {
   "cell_type": "code",
   "execution_count": 246,
   "id": "cc44b8f9",
   "metadata": {},
   "outputs": [
    {
     "name": "stdout",
     "output_type": "stream",
     "text": [
      "Precision score is statistically significant\n",
      "MRR score is statistically insignificant\n",
      "MAP score is statistically insignificant\n",
      "BPref score is statistically insignificant\n"
     ]
    }
   ],
   "source": [
    "bm25_dpr = pd.read_csv('../Results/Scores/dpr-bm25-v2_eval_indowiki_scores.csv')\n",
    "compare_with_sparse(bm25_dpr, 'bm25')"
   ]
  },
  {
   "cell_type": "markdown",
   "id": "195567e0",
   "metadata": {},
   "source": [
    "### LMD vs LMD-DPR"
   ]
  },
  {
   "cell_type": "code",
   "execution_count": 247,
   "id": "bffb4cc0",
   "metadata": {},
   "outputs": [
    {
     "name": "stdout",
     "output_type": "stream",
     "text": [
      "Precision score is statistically insignificant\n",
      "MRR score is statistically insignificant\n",
      "MAP score is statistically significant\n",
      "BPref score is statistically significant\n"
     ]
    }
   ],
   "source": [
    "lmd_dpr = pd.read_csv('../Results/Scores/dpr-lmd-v2_eval_indowiki_scores.csv')\n",
    "compare_with_sparse(lmd_dpr, 'lmd')"
   ]
  },
  {
   "cell_type": "markdown",
   "id": "b868ac42",
   "metadata": {},
   "source": [
    "### TFIDF vs TFIDF-DPR"
   ]
  },
  {
   "cell_type": "code",
   "execution_count": 248,
   "id": "09719bbb",
   "metadata": {},
   "outputs": [
    {
     "name": "stdout",
     "output_type": "stream",
     "text": [
      "Precision score is statistically significant\n",
      "MRR score is statistically significant\n",
      "MAP score is statistically significant\n",
      "BPref score is statistically insignificant\n"
     ]
    }
   ],
   "source": [
    "tfidf_dpr = pd.read_csv('../Results/Scores/dpr-classic-v2_eval_indowiki_scores.csv')\n",
    "compare_with_sparse(tfidf_dpr, 'classic')"
   ]
  },
  {
   "cell_type": "markdown",
   "id": "ce94d089",
   "metadata": {},
   "source": [
    "## Dense Model vs Hybrid Sparse-Dense Model"
   ]
  },
  {
   "cell_type": "markdown",
   "id": "c90bd7d2",
   "metadata": {},
   "source": [
    "### DPR vs BM25-DPR"
   ]
  },
  {
   "cell_type": "code",
   "execution_count": 249,
   "id": "959feeec",
   "metadata": {},
   "outputs": [
    {
     "name": "stdout",
     "output_type": "stream",
     "text": [
      "Precision score is statistically significant\n",
      "MRR score is statistically significant\n",
      "MAP score is statistically significant\n",
      "BPref score is statistically significant\n"
     ]
    }
   ],
   "source": [
    "bm25_dpr = pd.read_csv('../Results/Scores/dpr-bm25-v2_eval_indowiki_scores.csv')\n",
    "compare_with_dpr(bm25_dpr, 'indowiki')"
   ]
  },
  {
   "cell_type": "markdown",
   "id": "9b232b63",
   "metadata": {},
   "source": [
    "### DPR vs LMD-DPR"
   ]
  },
  {
   "cell_type": "code",
   "execution_count": 250,
   "id": "bc053654",
   "metadata": {},
   "outputs": [
    {
     "name": "stdout",
     "output_type": "stream",
     "text": [
      "Precision score is statistically significant\n",
      "MRR score is statistically significant\n",
      "MAP score is statistically significant\n",
      "BPref score is statistically significant\n"
     ]
    }
   ],
   "source": [
    "lmd_dpr = pd.read_csv('../Results/Scores/dpr-lmd-v2_eval_indowiki_scores.csv')\n",
    "compare_with_dpr(lmd_dpr, 'indowiki')"
   ]
  },
  {
   "cell_type": "markdown",
   "id": "579f9bb5",
   "metadata": {},
   "source": [
    "### DPR vs TFIDF-DPR"
   ]
  },
  {
   "cell_type": "code",
   "execution_count": 251,
   "id": "07df780d",
   "metadata": {},
   "outputs": [
    {
     "name": "stdout",
     "output_type": "stream",
     "text": [
      "Precision score is statistically significant\n",
      "MRR score is statistically significant\n",
      "MAP score is statistically significant\n",
      "BPref score is statistically insignificant\n"
     ]
    }
   ],
   "source": [
    "tfidf_dpr = pd.read_csv('../Results/Scores/dpr-classic-v2_eval_indowiki_scores.csv')\n",
    "compare_with_dpr(tfidf_dpr, 'indowiki')"
   ]
  },
  {
   "cell_type": "markdown",
   "id": "cf31af39",
   "metadata": {},
   "source": [
    "## Part 3: Retriever - Reranker Approach"
   ]
  },
  {
   "cell_type": "markdown",
   "id": "fab85b99",
   "metadata": {},
   "source": [
    "## Dense Retriever - Sparse Reranker vs Sparse Retriever"
   ]
  },
  {
   "cell_type": "markdown",
   "id": "a6ca5368",
   "metadata": {},
   "source": [
    "### DPR Retriever-BM25 Reranker vs BM25"
   ]
  },
  {
   "cell_type": "code",
   "execution_count": 252,
   "id": "54c8172e",
   "metadata": {},
   "outputs": [
    {
     "name": "stdout",
     "output_type": "stream",
     "text": [
      "Precision score is statistically significant\n",
      "MRR score is statistically significant\n",
      "MAP score is statistically significant\n",
      "BPref score is statistically significant\n"
     ]
    }
   ],
   "source": [
    "bm25_dpr = pd.read_csv('../Results/Scores/retrieve-dpr_rerank-bm25_eval_indowiki_scores.csv')\n",
    "compare_with_sparse(bm25_dpr, 'bm25')"
   ]
  },
  {
   "cell_type": "markdown",
   "id": "c2b876b5",
   "metadata": {},
   "source": [
    "### DPR Retriever-LMD Reranker vs LMD"
   ]
  },
  {
   "cell_type": "code",
   "execution_count": 253,
   "id": "8f474cb0",
   "metadata": {},
   "outputs": [
    {
     "name": "stdout",
     "output_type": "stream",
     "text": [
      "Precision score is statistically significant\n",
      "MRR score is statistically significant\n",
      "MAP score is statistically significant\n",
      "BPref score is statistically insignificant\n"
     ]
    }
   ],
   "source": [
    "lmd_dpr = pd.read_csv('../Results/Scores/retrieve-dpr_rerank-lmd_eval_indowiki_scores.csv')\n",
    "compare_with_sparse(lmd_dpr, 'lmd')"
   ]
  },
  {
   "cell_type": "markdown",
   "id": "a1bc8354",
   "metadata": {},
   "source": [
    "### DPR Retriever-TFIDF Reranker vs TFIDF"
   ]
  },
  {
   "cell_type": "code",
   "execution_count": 254,
   "id": "d15731ee",
   "metadata": {},
   "outputs": [
    {
     "name": "stdout",
     "output_type": "stream",
     "text": [
      "Precision score is statistically significant\n",
      "MRR score is statistically significant\n",
      "MAP score is statistically significant\n",
      "BPref score is statistically significant\n"
     ]
    }
   ],
   "source": [
    "tfidf_dpr = pd.read_csv('../Results/Scores/retrieve-dpr_rerank-classic_eval_indowiki_scores.csv')\n",
    "compare_with_sparse(tfidf_dpr, 'classic')"
   ]
  },
  {
   "cell_type": "markdown",
   "id": "588a534a",
   "metadata": {},
   "source": [
    "## Dense Retriever - Sparse Reranker vs Dense Retriever"
   ]
  },
  {
   "cell_type": "markdown",
   "id": "d447c809",
   "metadata": {},
   "source": [
    "### DPR Retriever-BM25 Reranker vs DPR"
   ]
  },
  {
   "cell_type": "code",
   "execution_count": 255,
   "id": "c8cddce9",
   "metadata": {},
   "outputs": [
    {
     "name": "stdout",
     "output_type": "stream",
     "text": [
      "Precision score is statistically significant\n",
      "MRR score is statistically significant\n",
      "MAP score is statistically significant\n",
      "BPref score is statistically significant\n"
     ]
    }
   ],
   "source": [
    "bm25_dpr = pd.read_csv('../Results/Scores/retrieve-dpr_rerank-bm25_eval_indowiki_scores.csv')\n",
    "compare_with_dpr(bm25_dpr, 'indowiki')"
   ]
  },
  {
   "cell_type": "markdown",
   "id": "b9eec8ff",
   "metadata": {},
   "source": [
    "### DPR Retriever-LMD Reranker vs DPR"
   ]
  },
  {
   "cell_type": "code",
   "execution_count": 256,
   "id": "33ab9de5",
   "metadata": {},
   "outputs": [
    {
     "name": "stdout",
     "output_type": "stream",
     "text": [
      "Precision score is statistically significant\n",
      "MRR score is statistically significant\n",
      "MAP score is statistically significant\n",
      "BPref score is statistically significant\n"
     ]
    }
   ],
   "source": [
    "lmd_dpr = pd.read_csv('../Results/Scores/retrieve-dpr_rerank-lmd_eval_indowiki_scores.csv')\n",
    "compare_with_dpr(lmd_dpr, 'indowiki')"
   ]
  },
  {
   "cell_type": "markdown",
   "id": "f5869684",
   "metadata": {},
   "source": [
    "### DPR Retriever-TFIDF Reranker vs DPR"
   ]
  },
  {
   "cell_type": "code",
   "execution_count": 257,
   "id": "d8cf9518",
   "metadata": {},
   "outputs": [
    {
     "name": "stdout",
     "output_type": "stream",
     "text": [
      "Precision score is statistically significant\n",
      "MRR score is statistically significant\n",
      "MAP score is statistically significant\n",
      "BPref score is statistically insignificant\n"
     ]
    }
   ],
   "source": [
    "tfidf_dpr = pd.read_csv('../Results/Scores/retrieve-dpr_rerank-classic_eval_indowiki_scores.csv')\n",
    "compare_with_dpr(tfidf_dpr, 'indowiki')"
   ]
  },
  {
   "cell_type": "markdown",
   "id": "e74bca79",
   "metadata": {},
   "source": [
    "## Sparse Retriever - Dense Reranker vs Sparse Retriever"
   ]
  },
  {
   "cell_type": "markdown",
   "id": "0ebc7c14",
   "metadata": {},
   "source": [
    "### BM25 Retriever - DPR Reranker vs BM25"
   ]
  },
  {
   "cell_type": "code",
   "execution_count": 258,
   "id": "8e33f0e3",
   "metadata": {},
   "outputs": [
    {
     "name": "stdout",
     "output_type": "stream",
     "text": [
      "Precision score is statistically significant\n",
      "MRR score is statistically significant\n",
      "MAP score is statistically significant\n",
      "BPref score is statistically insignificant\n"
     ]
    }
   ],
   "source": [
    "bm25_dpr = pd.read_csv('../Results/Scores/retrieve-bm25_rerank-dpr_eval_indowiki_scores.csv')\n",
    "compare_with_sparse(bm25_dpr, 'bm25')"
   ]
  },
  {
   "cell_type": "markdown",
   "id": "f2e8a05f",
   "metadata": {},
   "source": [
    "### LMD Retriever - DPR Reranker vs LMD"
   ]
  },
  {
   "cell_type": "code",
   "execution_count": 259,
   "id": "86f914b4",
   "metadata": {},
   "outputs": [
    {
     "name": "stdout",
     "output_type": "stream",
     "text": [
      "Precision score is statistically significant\n",
      "MRR score is statistically significant\n",
      "MAP score is statistically significant\n",
      "BPref score is statistically insignificant\n"
     ]
    }
   ],
   "source": [
    "lmd_dpr = pd.read_csv('../Results/Scores/retrieve-lmd_rerank-dpr_eval_indowiki_scores.csv')\n",
    "compare_with_sparse(lmd_dpr, 'lmd')"
   ]
  },
  {
   "cell_type": "markdown",
   "id": "ba76eda4",
   "metadata": {},
   "source": [
    "### TFIDF Retriever - DPR Reranker vs TFIDF"
   ]
  },
  {
   "cell_type": "code",
   "execution_count": 260,
   "id": "3e30f61c",
   "metadata": {},
   "outputs": [
    {
     "name": "stdout",
     "output_type": "stream",
     "text": [
      "Precision score is statistically significant\n",
      "MRR score is statistically significant\n",
      "MAP score is statistically significant\n",
      "BPref score is statistically insignificant\n"
     ]
    }
   ],
   "source": [
    "tfidf_dpr = pd.read_csv('../Results/Scores/retrieve-classic_rerank-dpr_eval_indowiki_scores.csv')\n",
    "compare_with_sparse(tfidf_dpr, 'classic')"
   ]
  },
  {
   "cell_type": "markdown",
   "id": "d271dba8",
   "metadata": {},
   "source": [
    "## Sparse Retriever - Dense Reranker vs Dense Retriever"
   ]
  },
  {
   "cell_type": "markdown",
   "id": "60d377aa",
   "metadata": {},
   "source": [
    "### BM25 Retriever - DPR Reranker vs DPR"
   ]
  },
  {
   "cell_type": "code",
   "execution_count": 261,
   "id": "02f87de5",
   "metadata": {},
   "outputs": [
    {
     "name": "stdout",
     "output_type": "stream",
     "text": [
      "Precision score is statistically significant\n",
      "MRR score is statistically significant\n",
      "MAP score is statistically significant\n",
      "BPref score is statistically significant\n"
     ]
    }
   ],
   "source": [
    "bm25_dpr = pd.read_csv('../Results/Scores/retrieve-bm25_rerank-dpr_eval_indowiki_scores.csv')\n",
    "compare_with_dpr(bm25_dpr, 'indowiki')"
   ]
  },
  {
   "cell_type": "markdown",
   "id": "555c4a10",
   "metadata": {},
   "source": [
    "### LMD Retriever - DPR Reranker vs DPR"
   ]
  },
  {
   "cell_type": "code",
   "execution_count": 262,
   "id": "37480b1d",
   "metadata": {},
   "outputs": [
    {
     "name": "stdout",
     "output_type": "stream",
     "text": [
      "Precision score is statistically significant\n",
      "MRR score is statistically significant\n",
      "MAP score is statistically significant\n",
      "BPref score is statistically insignificant\n"
     ]
    }
   ],
   "source": [
    "lmd_dpr = pd.read_csv('../Results/Scores/retrieve-lmd_rerank-dpr_eval_indowiki_scores.csv')\n",
    "compare_with_dpr(lmd_dpr, 'indowiki')"
   ]
  },
  {
   "cell_type": "markdown",
   "id": "e8bfab7d",
   "metadata": {},
   "source": [
    "### TFIDF Retriever - DPR Reranker vs DPR"
   ]
  },
  {
   "cell_type": "code",
   "execution_count": 263,
   "id": "89ef45bb",
   "metadata": {},
   "outputs": [
    {
     "name": "stdout",
     "output_type": "stream",
     "text": [
      "Precision score is statistically significant\n",
      "MRR score is statistically significant\n",
      "MAP score is statistically significant\n",
      "BPref score is statistically insignificant\n"
     ]
    }
   ],
   "source": [
    "tfidf_dpr = pd.read_csv('../Results/Scores/retrieve-classic_rerank-dpr_eval_indowiki_scores.csv')\n",
    "compare_with_dpr(tfidf_dpr, 'indowiki')"
   ]
  },
  {
   "cell_type": "markdown",
   "id": "c7d40fb2",
   "metadata": {},
   "source": [
    "## Sparse Reranker - Dense Retriever vs Sparse Retriever - Dense Reranker"
   ]
  },
  {
   "cell_type": "markdown",
   "id": "20ae7972",
   "metadata": {},
   "source": [
    "### BM25 Reranker - DPR Retriever vs BM25 Retriever - DPR Reranker"
   ]
  },
  {
   "cell_type": "code",
   "execution_count": 264,
   "id": "1c70c216",
   "metadata": {},
   "outputs": [],
   "source": [
    "bm25_dpr1 = pd.read_csv('../Results/Scores/retrieve-dpr_rerank-bm25_eval_indowiki_scores.csv')\n",
    "bm25_dpr2 = pd.read_csv('../Results/Scores/retrieve-bm25_rerank-dpr_eval_indowiki_scores.csv')"
   ]
  },
  {
   "cell_type": "code",
   "execution_count": 265,
   "id": "698f7fd6",
   "metadata": {},
   "outputs": [],
   "source": [
    "metrics = bm25_dpr1.columns"
   ]
  },
  {
   "cell_type": "code",
   "execution_count": 266,
   "id": "a65ab3d1",
   "metadata": {},
   "outputs": [
    {
     "name": "stdout",
     "output_type": "stream",
     "text": [
      "Precision score is statistically significant\n",
      "MRR score is statistically significant\n",
      "MAP score is statistically significant\n",
      "BPref score is statistically insignificant\n"
     ]
    }
   ],
   "source": [
    "significance_test(bm25_dpr1, bm25_dpr2, metrics)"
   ]
  },
  {
   "cell_type": "markdown",
   "id": "bed8452a",
   "metadata": {},
   "source": [
    "### LMD Reranker - DPR Retriever vs LMD Retriever - DPR Reranker"
   ]
  },
  {
   "cell_type": "code",
   "execution_count": 267,
   "id": "5512a329",
   "metadata": {},
   "outputs": [],
   "source": [
    "lmd_dpr1 = pd.read_csv('../Results/Scores/retrieve-dpr_rerank-lmd_eval_indowiki_scores.csv')\n",
    "lmd_dpr2 = pd.read_csv('../Results/Scores/retrieve-lmd_rerank-dpr_eval_indowiki_scores.csv')"
   ]
  },
  {
   "cell_type": "code",
   "execution_count": 268,
   "id": "1b0c3196",
   "metadata": {},
   "outputs": [],
   "source": [
    "metrics = lmd_dpr1.columns"
   ]
  },
  {
   "cell_type": "code",
   "execution_count": 269,
   "id": "40aa9f1f",
   "metadata": {},
   "outputs": [
    {
     "name": "stdout",
     "output_type": "stream",
     "text": [
      "Precision score is statistically significant\n",
      "MRR score is statistically insignificant\n",
      "MAP score is statistically insignificant\n",
      "BPref score is statistically insignificant\n"
     ]
    }
   ],
   "source": [
    "significance_test(lmd_dpr1, lmd_dpr2, metrics)"
   ]
  },
  {
   "cell_type": "markdown",
   "id": "620e8d93",
   "metadata": {},
   "source": [
    "### TFIDF Reranker - DPR Retriever vs TFIDF Retriever - DPR Reranker"
   ]
  },
  {
   "cell_type": "code",
   "execution_count": 270,
   "id": "3052151d",
   "metadata": {},
   "outputs": [],
   "source": [
    "tfidf_dpr1 = pd.read_csv('../Results/Scores/retrieve-dpr_rerank-classic_eval_indowiki_scores.csv')\n",
    "tfidf_dpr2 = pd.read_csv('../Results/Scores/retrieve-classic_rerank-dpr_eval_indowiki_scores.csv')"
   ]
  },
  {
   "cell_type": "code",
   "execution_count": 271,
   "id": "fa7f5b0b",
   "metadata": {},
   "outputs": [],
   "source": [
    "metrics = tfidf_dpr1.columns"
   ]
  },
  {
   "cell_type": "code",
   "execution_count": 272,
   "id": "60ed909a",
   "metadata": {
    "scrolled": true
   },
   "outputs": [
    {
     "name": "stdout",
     "output_type": "stream",
     "text": [
      "Precision score is statistically significant\n",
      "MRR score is statistically significant\n",
      "MAP score is statistically significant\n",
      "BPref score is statistically insignificant\n"
     ]
    }
   ],
   "source": [
    "significance_test(tfidf_dpr1, tfidf_dpr2, metrics)"
   ]
  },
  {
   "cell_type": "code",
   "execution_count": null,
   "id": "229180ee",
   "metadata": {},
   "outputs": [],
   "source": []
  },
  {
   "cell_type": "markdown",
   "id": "f360e457",
   "metadata": {},
   "source": [
    "# H. Syifa-QA"
   ]
  },
  {
   "cell_type": "code",
   "execution_count": 273,
   "id": "d847c7ba",
   "metadata": {},
   "outputs": [
    {
     "name": "stdout",
     "output_type": "stream",
     "text": [
      "Precision score is statistically significant\n",
      "MRR score is statistically significant\n",
      "MAP score is statistically significant\n",
      "BPref score is statistically significant\n"
     ]
    }
   ],
   "source": [
    "dpr_prf = pd.read_csv('../Results/Scores/dpr_prf_eval_other_scores.csv')\n",
    "compare_with_dpr(dpr_prf, 'other')"
   ]
  },
  {
   "cell_type": "markdown",
   "id": "4305fe83",
   "metadata": {},
   "source": [
    "## Part 1: Hybrid using Alpha Linear Combo"
   ]
  },
  {
   "cell_type": "markdown",
   "id": "36fd0207",
   "metadata": {},
   "source": [
    "The linear combination can be formulated as the following\n",
    "\\begin{gather*} \n",
    "Score(Q,D) =  \\alpha*sim_{DPR}(Q,D) + (1-\\alpha)*sim_{sparse}(Q,D)\n",
    "\\end{gather*}"
   ]
  },
  {
   "cell_type": "markdown",
   "id": "1b7e730e",
   "metadata": {},
   "source": [
    "## Sparse Model vs Hybrid Sparse-Dense Model"
   ]
  },
  {
   "cell_type": "markdown",
   "id": "5aaf0dc1",
   "metadata": {},
   "source": [
    "### BM25 vs BM25-DPR"
   ]
  },
  {
   "cell_type": "code",
   "execution_count": 274,
   "id": "69df6a26",
   "metadata": {},
   "outputs": [
    {
     "name": "stdout",
     "output_type": "stream",
     "text": [
      "Precision score is statistically insignificant\n",
      "MRR score is statistically insignificant\n",
      "MAP score is statistically insignificant\n",
      "BPref score is statistically insignificant\n"
     ]
    }
   ],
   "source": [
    "bm25_dpr = pd.read_csv('../Results/Scores/dpr-bm25_eval_other_scores.csv')\n",
    "compare_with_sparse(bm25_dpr, 'bm25')"
   ]
  },
  {
   "cell_type": "markdown",
   "id": "e11676c1",
   "metadata": {},
   "source": [
    "### LMD vs LMD-DPR"
   ]
  },
  {
   "cell_type": "code",
   "execution_count": 275,
   "id": "c1c42252",
   "metadata": {},
   "outputs": [
    {
     "name": "stdout",
     "output_type": "stream",
     "text": [
      "Precision score is statistically insignificant\n",
      "MRR score is statistically insignificant\n",
      "MAP score is statistically significant\n",
      "BPref score is statistically significant\n"
     ]
    }
   ],
   "source": [
    "lmd_dpr = pd.read_csv('../Results/Scores/dpr-lmd_eval_other_scores.csv')\n",
    "compare_with_sparse(lmd_dpr, 'lmd')"
   ]
  },
  {
   "cell_type": "markdown",
   "id": "6e2af615",
   "metadata": {},
   "source": [
    "### TFIDF vs TFIDF-DPR"
   ]
  },
  {
   "cell_type": "code",
   "execution_count": 276,
   "id": "a6184281",
   "metadata": {},
   "outputs": [
    {
     "name": "stdout",
     "output_type": "stream",
     "text": [
      "Precision score is statistically significant\n",
      "MRR score is statistically significant\n",
      "MAP score is statistically significant\n",
      "BPref score is statistically insignificant\n"
     ]
    }
   ],
   "source": [
    "tfidf_dpr = pd.read_csv('../Results/Scores/dpr-classic_eval_other_scores.csv')\n",
    "compare_with_sparse(tfidf_dpr, 'classic')"
   ]
  },
  {
   "cell_type": "markdown",
   "id": "3cb6ecc5",
   "metadata": {},
   "source": [
    "## Dense Model vs Hybrid Sparse-Dense Model"
   ]
  },
  {
   "cell_type": "markdown",
   "id": "bef04388",
   "metadata": {},
   "source": [
    "### DPR vs BM25-DPR"
   ]
  },
  {
   "cell_type": "code",
   "execution_count": 277,
   "id": "b54dd2ee",
   "metadata": {},
   "outputs": [
    {
     "name": "stdout",
     "output_type": "stream",
     "text": [
      "Precision score is statistically significant\n",
      "MRR score is statistically significant\n",
      "MAP score is statistically significant\n",
      "BPref score is statistically insignificant\n"
     ]
    }
   ],
   "source": [
    "bm25_dpr = pd.read_csv('../Results/Scores/dpr-bm25_eval_other_scores.csv')\n",
    "compare_with_dpr(bm25_dpr, 'other')"
   ]
  },
  {
   "cell_type": "markdown",
   "id": "a03b5f4b",
   "metadata": {},
   "source": [
    "### DPR vs LMD-DPR"
   ]
  },
  {
   "cell_type": "code",
   "execution_count": 278,
   "id": "7c2e4acf",
   "metadata": {},
   "outputs": [
    {
     "name": "stdout",
     "output_type": "stream",
     "text": [
      "Precision score is statistically significant\n",
      "MRR score is statistically significant\n",
      "MAP score is statistically significant\n",
      "BPref score is statistically significant\n"
     ]
    }
   ],
   "source": [
    "lmd_dpr = pd.read_csv('../Results/Scores/dpr-lmd_eval_other_scores.csv')\n",
    "compare_with_dpr(lmd_dpr, 'other')"
   ]
  },
  {
   "cell_type": "markdown",
   "id": "aa1091d5",
   "metadata": {},
   "source": [
    "### DPR vs TFIDF-DPR"
   ]
  },
  {
   "cell_type": "code",
   "execution_count": 279,
   "id": "8be1e18a",
   "metadata": {},
   "outputs": [
    {
     "name": "stdout",
     "output_type": "stream",
     "text": [
      "Precision score is statistically significant\n",
      "MRR score is statistically significant\n",
      "MAP score is statistically significant\n",
      "BPref score is statistically insignificant\n"
     ]
    }
   ],
   "source": [
    "tfidf_dpr = pd.read_csv('../Results/Scores/dpr-classic_eval_other_scores.csv')\n",
    "compare_with_dpr(tfidf_dpr, 'other')"
   ]
  },
  {
   "cell_type": "markdown",
   "id": "2313e487",
   "metadata": {},
   "source": [
    "## Part 2: Hybrid using Alpha Beta Linear Combo"
   ]
  },
  {
   "cell_type": "markdown",
   "id": "2d115bc9",
   "metadata": {},
   "source": [
    "The linear combination can be formulated as the following\n",
    "\\begin{gather*} \n",
    "Score(Q,D) =  \\alpha*sim_{sparse}(Q,D) + \\beta*sim_{DPR}(Q,D)\n",
    "\\end{gather*}\n",
    "Those \"optimized\" hyperparameters can be found by using logistic regression."
   ]
  },
  {
   "cell_type": "markdown",
   "id": "9eb9da24",
   "metadata": {},
   "source": [
    "## Sparse Model vs Hybrid Sparse-Dense Model"
   ]
  },
  {
   "cell_type": "markdown",
   "id": "4ff96cbc",
   "metadata": {},
   "source": [
    "### BM25 vs BM25-DPR"
   ]
  },
  {
   "cell_type": "code",
   "execution_count": 280,
   "id": "80512bff",
   "metadata": {},
   "outputs": [
    {
     "name": "stdout",
     "output_type": "stream",
     "text": [
      "Precision score is statistically insignificant\n",
      "MRR score is statistically insignificant\n",
      "MAP score is statistically insignificant\n",
      "BPref score is statistically insignificant\n"
     ]
    }
   ],
   "source": [
    "bm25_dpr = pd.read_csv('../Results/Scores/dpr-bm25-v2_eval_other_scores.csv')\n",
    "compare_with_sparse(bm25_dpr, 'bm25')"
   ]
  },
  {
   "cell_type": "markdown",
   "id": "6d1e3cc6",
   "metadata": {},
   "source": [
    "### LMD vs LMD-DPR"
   ]
  },
  {
   "cell_type": "code",
   "execution_count": 281,
   "id": "e2188fe6",
   "metadata": {},
   "outputs": [
    {
     "name": "stdout",
     "output_type": "stream",
     "text": [
      "Precision score is statistically insignificant\n",
      "MRR score is statistically insignificant\n",
      "MAP score is statistically insignificant\n",
      "BPref score is statistically insignificant\n"
     ]
    }
   ],
   "source": [
    "lmd_dpr = pd.read_csv('../Results/Scores/dpr-lmd-v2_eval_other_scores.csv')\n",
    "compare_with_sparse(lmd_dpr, 'lmd')"
   ]
  },
  {
   "cell_type": "markdown",
   "id": "86d043a5",
   "metadata": {},
   "source": [
    "### TFIDF vs TFIDF-DPR"
   ]
  },
  {
   "cell_type": "code",
   "execution_count": 282,
   "id": "df18a554",
   "metadata": {},
   "outputs": [
    {
     "name": "stdout",
     "output_type": "stream",
     "text": [
      "Precision score is statistically significant\n",
      "MRR score is statistically significant\n",
      "MAP score is statistically significant\n",
      "BPref score is statistically insignificant\n"
     ]
    }
   ],
   "source": [
    "tfidf_dpr = pd.read_csv('../Results/Scores/dpr-classic-v2_eval_other_scores.csv')\n",
    "compare_with_sparse(tfidf_dpr, 'classic')"
   ]
  },
  {
   "cell_type": "markdown",
   "id": "ef109239",
   "metadata": {},
   "source": [
    "## Dense Model vs Hybrid Sparse-Dense Model"
   ]
  },
  {
   "cell_type": "markdown",
   "id": "3c51e4bd",
   "metadata": {},
   "source": [
    "### DPR vs BM25-DPR"
   ]
  },
  {
   "cell_type": "code",
   "execution_count": 283,
   "id": "26ad4ffa",
   "metadata": {},
   "outputs": [
    {
     "name": "stdout",
     "output_type": "stream",
     "text": [
      "Precision score is statistically significant\n",
      "MRR score is statistically significant\n",
      "MAP score is statistically significant\n",
      "BPref score is statistically insignificant\n"
     ]
    }
   ],
   "source": [
    "bm25_dpr = pd.read_csv('../Results/Scores/dpr-bm25-v2_eval_other_scores.csv')\n",
    "compare_with_dpr(bm25_dpr, 'other')"
   ]
  },
  {
   "cell_type": "markdown",
   "id": "f56ac1a4",
   "metadata": {},
   "source": [
    "### DPR vs LMD-DPR"
   ]
  },
  {
   "cell_type": "code",
   "execution_count": 284,
   "id": "7b52d61e",
   "metadata": {},
   "outputs": [
    {
     "name": "stdout",
     "output_type": "stream",
     "text": [
      "Precision score is statistically significant\n",
      "MRR score is statistically significant\n",
      "MAP score is statistically significant\n",
      "BPref score is statistically insignificant\n"
     ]
    }
   ],
   "source": [
    "lmd_dpr = pd.read_csv('../Results/Scores/dpr-lmd-v2_eval_other_scores.csv')\n",
    "compare_with_dpr(lmd_dpr, 'other')"
   ]
  },
  {
   "cell_type": "markdown",
   "id": "2624c2d7",
   "metadata": {},
   "source": [
    "### DPR vs TFIDF-DPR"
   ]
  },
  {
   "cell_type": "code",
   "execution_count": 285,
   "id": "1a1af3c3",
   "metadata": {},
   "outputs": [
    {
     "name": "stdout",
     "output_type": "stream",
     "text": [
      "Precision score is statistically significant\n",
      "MRR score is statistically significant\n",
      "MAP score is statistically significant\n",
      "BPref score is statistically insignificant\n"
     ]
    }
   ],
   "source": [
    "tfidf_dpr = pd.read_csv('../Results/Scores/dpr-classic-v2_eval_other_scores.csv')\n",
    "compare_with_dpr(tfidf_dpr, 'other')"
   ]
  },
  {
   "cell_type": "markdown",
   "id": "cebe305d",
   "metadata": {},
   "source": [
    "## Part 3: Retriever - Reranker Approach"
   ]
  },
  {
   "cell_type": "markdown",
   "id": "d70a4feb",
   "metadata": {},
   "source": [
    "## Dense Retriever - Sparse Reranker vs Sparse Retriever"
   ]
  },
  {
   "cell_type": "markdown",
   "id": "f2398cee",
   "metadata": {},
   "source": [
    "### DPR Retriever-BM25 Reranker vs BM25"
   ]
  },
  {
   "cell_type": "code",
   "execution_count": 286,
   "id": "8a1f6336",
   "metadata": {},
   "outputs": [
    {
     "name": "stdout",
     "output_type": "stream",
     "text": [
      "Precision score is statistically significant\n",
      "MRR score is statistically significant\n",
      "MAP score is statistically significant\n",
      "BPref score is statistically insignificant\n"
     ]
    }
   ],
   "source": [
    "bm25_dpr = pd.read_csv('../Results/Scores/retrieve-dpr_rerank-bm25_eval_other_scores.csv')\n",
    "compare_with_sparse(bm25_dpr, 'bm25')"
   ]
  },
  {
   "cell_type": "markdown",
   "id": "89e02ca9",
   "metadata": {},
   "source": [
    "### DPR Retriever-LMD Reranker vs LMD"
   ]
  },
  {
   "cell_type": "code",
   "execution_count": 287,
   "id": "dc179a5e",
   "metadata": {},
   "outputs": [
    {
     "name": "stdout",
     "output_type": "stream",
     "text": [
      "Precision score is statistically significant\n",
      "MRR score is statistically significant\n",
      "MAP score is statistically significant\n",
      "BPref score is statistically insignificant\n"
     ]
    }
   ],
   "source": [
    "lmd_dpr = pd.read_csv('../Results/Scores/retrieve-dpr_rerank-lmd_eval_other_scores.csv')\n",
    "compare_with_sparse(lmd_dpr, 'lmd')"
   ]
  },
  {
   "cell_type": "markdown",
   "id": "89454936",
   "metadata": {},
   "source": [
    "### DPR Retriever-TFIDF Reranker vs TFIDF"
   ]
  },
  {
   "cell_type": "code",
   "execution_count": 288,
   "id": "4425254f",
   "metadata": {},
   "outputs": [
    {
     "name": "stdout",
     "output_type": "stream",
     "text": [
      "Precision score is statistically significant\n",
      "MRR score is statistically significant\n",
      "MAP score is statistically significant\n",
      "BPref score is statistically insignificant\n"
     ]
    }
   ],
   "source": [
    "tfidf_dpr = pd.read_csv('../Results/Scores/retrieve-dpr_rerank-classic_eval_other_scores.csv')\n",
    "compare_with_sparse(tfidf_dpr, 'classic')"
   ]
  },
  {
   "cell_type": "markdown",
   "id": "0d919f2e",
   "metadata": {},
   "source": [
    "## Dense Retriever - Sparse Reranker vs Dense Retriever"
   ]
  },
  {
   "cell_type": "markdown",
   "id": "657a9306",
   "metadata": {},
   "source": [
    "### DPR Retriever-BM25 Reranker vs DPR"
   ]
  },
  {
   "cell_type": "code",
   "execution_count": 289,
   "id": "e5ea94de",
   "metadata": {},
   "outputs": [
    {
     "name": "stdout",
     "output_type": "stream",
     "text": [
      "Precision score is statistically significant\n",
      "MRR score is statistically significant\n",
      "MAP score is statistically significant\n",
      "BPref score is statistically insignificant\n"
     ]
    }
   ],
   "source": [
    "bm25_dpr = pd.read_csv('../Results/Scores/retrieve-dpr_rerank-bm25_eval_other_scores.csv')\n",
    "compare_with_dpr(bm25_dpr, 'other')"
   ]
  },
  {
   "cell_type": "markdown",
   "id": "cb6d5451",
   "metadata": {},
   "source": [
    "### DPR Retriever-LMD Reranker vs DPR"
   ]
  },
  {
   "cell_type": "code",
   "execution_count": 290,
   "id": "be08fae5",
   "metadata": {},
   "outputs": [
    {
     "name": "stdout",
     "output_type": "stream",
     "text": [
      "Precision score is statistically significant\n",
      "MRR score is statistically significant\n",
      "MAP score is statistically significant\n",
      "BPref score is statistically insignificant\n"
     ]
    }
   ],
   "source": [
    "lmd_dpr = pd.read_csv('../Results/Scores/retrieve-dpr_rerank-lmd_eval_other_scores.csv')\n",
    "compare_with_dpr(lmd_dpr, 'other')"
   ]
  },
  {
   "cell_type": "markdown",
   "id": "7664e3aa",
   "metadata": {},
   "source": [
    "### DPR Retriever-TFIDF Reranker vs DPR"
   ]
  },
  {
   "cell_type": "code",
   "execution_count": 291,
   "id": "8f80f5f9",
   "metadata": {},
   "outputs": [
    {
     "name": "stdout",
     "output_type": "stream",
     "text": [
      "Precision score is statistically significant\n",
      "MRR score is statistically significant\n",
      "MAP score is statistically significant\n",
      "BPref score is statistically insignificant\n"
     ]
    }
   ],
   "source": [
    "tfidf_dpr = pd.read_csv('../Results/Scores/retrieve-dpr_rerank-classic_eval_other_scores.csv')\n",
    "compare_with_dpr(tfidf_dpr, 'other')"
   ]
  },
  {
   "cell_type": "markdown",
   "id": "63a0848c",
   "metadata": {},
   "source": [
    "## Sparse Retriever - Dense Reranker vs Sparse Retriever"
   ]
  },
  {
   "cell_type": "markdown",
   "id": "152a17ec",
   "metadata": {},
   "source": [
    "### BM25 Retriever - DPR Reranker vs BM25"
   ]
  },
  {
   "cell_type": "code",
   "execution_count": 292,
   "id": "e3aece21",
   "metadata": {},
   "outputs": [
    {
     "name": "stdout",
     "output_type": "stream",
     "text": [
      "Precision score is statistically significant\n",
      "MRR score is statistically significant\n",
      "MAP score is statistically significant\n",
      "BPref score is statistically insignificant\n"
     ]
    }
   ],
   "source": [
    "bm25_dpr = pd.read_csv('../Results/Scores/retrieve-bm25_rerank-dpr_eval_other_scores.csv')\n",
    "compare_with_sparse(bm25_dpr, 'bm25')"
   ]
  },
  {
   "cell_type": "markdown",
   "id": "309053b7",
   "metadata": {},
   "source": [
    "### LMD Retriever - DPR Reranker vs LMD"
   ]
  },
  {
   "cell_type": "code",
   "execution_count": 293,
   "id": "3613180c",
   "metadata": {},
   "outputs": [
    {
     "name": "stdout",
     "output_type": "stream",
     "text": [
      "Precision score is statistically significant\n",
      "MRR score is statistically significant\n",
      "MAP score is statistically significant\n",
      "BPref score is statistically insignificant\n"
     ]
    }
   ],
   "source": [
    "lmd_dpr = pd.read_csv('../Results/Scores/retrieve-lmd_rerank-dpr_eval_other_scores.csv')\n",
    "compare_with_sparse(lmd_dpr, 'lmd')"
   ]
  },
  {
   "cell_type": "markdown",
   "id": "dd0283f7",
   "metadata": {},
   "source": [
    "### TFIDF Retriever - DPR Reranker vs TFIDF"
   ]
  },
  {
   "cell_type": "code",
   "execution_count": 294,
   "id": "eb6c1090",
   "metadata": {},
   "outputs": [
    {
     "name": "stdout",
     "output_type": "stream",
     "text": [
      "Precision score is statistically significant\n",
      "MRR score is statistically significant\n",
      "MAP score is statistically significant\n",
      "BPref score is statistically insignificant\n"
     ]
    }
   ],
   "source": [
    "tfidf_dpr = pd.read_csv('../Results/Scores/retrieve-classic_rerank-dpr_eval_other_scores.csv')\n",
    "compare_with_sparse(tfidf_dpr, 'classic')"
   ]
  },
  {
   "cell_type": "markdown",
   "id": "bd8fd423",
   "metadata": {},
   "source": [
    "## Sparse Retriever - Dense Reranker vs Dense Retriever"
   ]
  },
  {
   "cell_type": "markdown",
   "id": "4bea05e2",
   "metadata": {},
   "source": [
    "### BM25 Retriever - DPR Reranker vs DPR"
   ]
  },
  {
   "cell_type": "code",
   "execution_count": 295,
   "id": "9251a479",
   "metadata": {},
   "outputs": [
    {
     "name": "stdout",
     "output_type": "stream",
     "text": [
      "Precision score is statistically significant\n",
      "MRR score is statistically significant\n",
      "MAP score is statistically significant\n",
      "BPref score is statistically insignificant\n"
     ]
    }
   ],
   "source": [
    "bm25_dpr = pd.read_csv('../Results/Scores/retrieve-bm25_rerank-dpr_eval_other_scores.csv')\n",
    "compare_with_dpr(bm25_dpr, 'other')"
   ]
  },
  {
   "cell_type": "markdown",
   "id": "2a97fc01",
   "metadata": {},
   "source": [
    "### LMD Retriever - DPR Reranker vs DPR"
   ]
  },
  {
   "cell_type": "code",
   "execution_count": 296,
   "id": "4f2eb01d",
   "metadata": {},
   "outputs": [
    {
     "name": "stdout",
     "output_type": "stream",
     "text": [
      "Precision score is statistically significant\n",
      "MRR score is statistically significant\n",
      "MAP score is statistically significant\n",
      "BPref score is statistically insignificant\n"
     ]
    }
   ],
   "source": [
    "lmd_dpr = pd.read_csv('../Results/Scores/retrieve-lmd_rerank-dpr_eval_other_scores.csv')\n",
    "compare_with_dpr(lmd_dpr, 'other')"
   ]
  },
  {
   "cell_type": "markdown",
   "id": "220b2601",
   "metadata": {},
   "source": [
    "### TFIDF Retriever - DPR Reranker vs DPR"
   ]
  },
  {
   "cell_type": "code",
   "execution_count": 297,
   "id": "395c87ac",
   "metadata": {},
   "outputs": [
    {
     "name": "stdout",
     "output_type": "stream",
     "text": [
      "Precision score is statistically significant\n",
      "MRR score is statistically significant\n",
      "MAP score is statistically significant\n",
      "BPref score is statistically insignificant\n"
     ]
    }
   ],
   "source": [
    "tfidf_dpr = pd.read_csv('../Results/Scores/retrieve-classic_rerank-dpr_eval_other_scores.csv')\n",
    "compare_with_dpr(tfidf_dpr, 'other')"
   ]
  },
  {
   "cell_type": "markdown",
   "id": "c1c9c023",
   "metadata": {},
   "source": [
    "## Sparse Reranker - Dense Retriever vs Sparse Retriever - Dense Reranker"
   ]
  },
  {
   "cell_type": "markdown",
   "id": "222b5436",
   "metadata": {},
   "source": [
    "### BM25 Reranker - DPR Retriever vs BM25 Retriever - DPR Reranker"
   ]
  },
  {
   "cell_type": "code",
   "execution_count": 298,
   "id": "e58c52f8",
   "metadata": {},
   "outputs": [],
   "source": [
    "bm25_dpr1 = pd.read_csv('../Results/Scores/retrieve-dpr_rerank-bm25_eval_other_scores.csv')\n",
    "bm25_dpr2 = pd.read_csv('../Results/Scores/retrieve-bm25_rerank-dpr_eval_other_scores.csv')"
   ]
  },
  {
   "cell_type": "code",
   "execution_count": 299,
   "id": "6d5a11f9",
   "metadata": {},
   "outputs": [],
   "source": [
    "metrics = bm25_dpr1.columns"
   ]
  },
  {
   "cell_type": "code",
   "execution_count": 300,
   "id": "2e0b67e0",
   "metadata": {},
   "outputs": [
    {
     "name": "stdout",
     "output_type": "stream",
     "text": [
      "Precision score is statistically significant\n",
      "MRR score is statistically significant\n",
      "MAP score is statistically insignificant\n",
      "BPref score is statistically insignificant\n"
     ]
    }
   ],
   "source": [
    "significance_test(bm25_dpr1, bm25_dpr2, metrics)"
   ]
  },
  {
   "cell_type": "markdown",
   "id": "2f2991d7",
   "metadata": {},
   "source": [
    "### LMD Reranker - DPR Retriever vs LMD Retriever - DPR Reranker"
   ]
  },
  {
   "cell_type": "code",
   "execution_count": 301,
   "id": "8d5dfe5c",
   "metadata": {},
   "outputs": [],
   "source": [
    "lmd_dpr1 = pd.read_csv('../Results/Scores/retrieve-dpr_rerank-lmd_eval_other_scores.csv')\n",
    "lmd_dpr2 = pd.read_csv('../Results/Scores/retrieve-lmd_rerank-dpr_eval_other_scores.csv')"
   ]
  },
  {
   "cell_type": "code",
   "execution_count": 302,
   "id": "5c328f5a",
   "metadata": {},
   "outputs": [],
   "source": [
    "metrics = lmd_dpr1.columns"
   ]
  },
  {
   "cell_type": "code",
   "execution_count": 303,
   "id": "15bb4587",
   "metadata": {},
   "outputs": [
    {
     "name": "stdout",
     "output_type": "stream",
     "text": [
      "Precision score is statistically insignificant\n",
      "MRR score is statistically insignificant\n",
      "MAP score is statistically insignificant\n",
      "BPref score is statistically insignificant\n"
     ]
    }
   ],
   "source": [
    "significance_test(lmd_dpr1, lmd_dpr2, metrics)"
   ]
  },
  {
   "cell_type": "markdown",
   "id": "3410365c",
   "metadata": {},
   "source": [
    "### TFIDF Reranker - DPR Retriever vs TFIDF Retriever - DPR Reranker"
   ]
  },
  {
   "cell_type": "code",
   "execution_count": 304,
   "id": "bf949a1e",
   "metadata": {},
   "outputs": [],
   "source": [
    "tfidf_dpr1 = pd.read_csv('../Results/Scores/retrieve-dpr_rerank-classic_eval_other_scores.csv')\n",
    "tfidf_dpr2 = pd.read_csv('../Results/Scores/retrieve-classic_rerank-dpr_eval_other_scores.csv')"
   ]
  },
  {
   "cell_type": "code",
   "execution_count": 305,
   "id": "205ecdd0",
   "metadata": {},
   "outputs": [],
   "source": [
    "metrics = tfidf_dpr1.columns"
   ]
  },
  {
   "cell_type": "code",
   "execution_count": 306,
   "id": "7a14b087",
   "metadata": {
    "scrolled": false
   },
   "outputs": [
    {
     "name": "stdout",
     "output_type": "stream",
     "text": [
      "Precision score is statistically significant\n",
      "MRR score is statistically insignificant\n",
      "MAP score is statistically insignificant\n",
      "BPref score is statistically insignificant\n"
     ]
    }
   ],
   "source": [
    "significance_test(tfidf_dpr1, tfidf_dpr2, metrics)"
   ]
  },
  {
   "cell_type": "markdown",
   "id": "484d9eda",
   "metadata": {},
   "source": [
    "# I. Dataset Comparison"
   ]
  },
  {
   "cell_type": "code",
   "execution_count": 318,
   "id": "31b37dfa",
   "metadata": {},
   "outputs": [],
   "source": [
    "baseline = pd.read_csv('../Results/Scores/dpr_eval_indobert_scores.csv')\n",
    "metrics = baseline.columns"
   ]
  },
  {
   "cell_type": "markdown",
   "id": "8936162e",
   "metadata": {},
   "source": [
    "### Tydi"
   ]
  },
  {
   "cell_type": "code",
   "execution_count": 319,
   "id": "9ba4125b",
   "metadata": {},
   "outputs": [
    {
     "name": "stdout",
     "output_type": "stream",
     "text": [
      "Precision score is statistically significant\n",
      "MRR score is statistically insignificant\n",
      "MAP score is statistically insignificant\n",
      "BPref score is statistically insignificant\n"
     ]
    }
   ],
   "source": [
    "tydi = pd.read_csv('../Results/Scores/dpr_eval_tydi_scores.csv')\n",
    "significance_test(tydi, baseline, metrics)"
   ]
  },
  {
   "cell_type": "markdown",
   "id": "bfc66673",
   "metadata": {},
   "source": [
    "### MFAQ"
   ]
  },
  {
   "cell_type": "code",
   "execution_count": 320,
   "id": "a5c42f0c",
   "metadata": {},
   "outputs": [
    {
     "name": "stdout",
     "output_type": "stream",
     "text": [
      "Precision score is statistically insignificant\n",
      "MRR score is statistically insignificant\n",
      "MAP score is statistically insignificant\n",
      "BPref score is statistically insignificant\n"
     ]
    }
   ],
   "source": [
    "mfaq = pd.read_csv('../Results/Scores/dpr_eval_mfaq_scores.csv')\n",
    "significance_test(mfaq, baseline, metrics)"
   ]
  },
  {
   "cell_type": "markdown",
   "id": "46ebe706",
   "metadata": {},
   "source": [
    "### TTHealth"
   ]
  },
  {
   "cell_type": "code",
   "execution_count": 321,
   "id": "e6973c3a",
   "metadata": {},
   "outputs": [
    {
     "name": "stdout",
     "output_type": "stream",
     "text": [
      "Precision score is statistically significant\n",
      "MRR score is statistically significant\n",
      "MAP score is statistically significant\n",
      "BPref score is statistically significant\n"
     ]
    }
   ],
   "source": [
    "tthealth = pd.read_csv('../Results/Scores/dpr_eval_tthealth_scores.csv')\n",
    "significance_test(tthealth, baseline, metrics)"
   ]
  },
  {
   "cell_type": "markdown",
   "id": "ebeda2b0",
   "metadata": {},
   "source": [
    "### TTMeqSum"
   ]
  },
  {
   "cell_type": "code",
   "execution_count": 322,
   "id": "fe396f97",
   "metadata": {},
   "outputs": [
    {
     "name": "stdout",
     "output_type": "stream",
     "text": [
      "Precision score is statistically significant\n",
      "MRR score is statistically insignificant\n",
      "MAP score is statistically insignificant\n",
      "BPref score is statistically significant\n"
     ]
    }
   ],
   "source": [
    "ttmeqsum = pd.read_csv('../Results/Scores/dpr_eval_ttmeqsum_scores.csv')\n",
    "significance_test(ttmeqsum, baseline, metrics)"
   ]
  },
  {
   "cell_type": "markdown",
   "id": "ac3b08c6",
   "metadata": {},
   "source": [
    "### IndoSum"
   ]
  },
  {
   "cell_type": "code",
   "execution_count": 323,
   "id": "71a8b6e7",
   "metadata": {},
   "outputs": [
    {
     "name": "stdout",
     "output_type": "stream",
     "text": [
      "Precision score is statistically insignificant\n",
      "MRR score is statistically insignificant\n",
      "MAP score is statistically insignificant\n",
      "BPref score is statistically insignificant\n"
     ]
    }
   ],
   "source": [
    "indosum = pd.read_csv('../Results/Scores/dpr_eval_indosum_scores.csv')\n",
    "significance_test(indosum, baseline, metrics)"
   ]
  },
  {
   "cell_type": "markdown",
   "id": "c68f4442",
   "metadata": {},
   "source": [
    "### ICT"
   ]
  },
  {
   "cell_type": "code",
   "execution_count": 324,
   "id": "1595d97b",
   "metadata": {},
   "outputs": [
    {
     "name": "stdout",
     "output_type": "stream",
     "text": [
      "Precision score is statistically insignificant\n",
      "MRR score is statistically insignificant\n",
      "MAP score is statistically significant\n",
      "BPref score is statistically insignificant\n"
     ]
    }
   ],
   "source": [
    "ict = pd.read_csv('../Results/Scores/dpr_eval_ict_scores.csv')\n",
    "significance_test(ict, baseline, metrics)"
   ]
  },
  {
   "cell_type": "markdown",
   "id": "1d411173",
   "metadata": {},
   "source": [
    "### Indowiki"
   ]
  },
  {
   "cell_type": "code",
   "execution_count": 325,
   "id": "5a3f2a99",
   "metadata": {},
   "outputs": [
    {
     "name": "stdout",
     "output_type": "stream",
     "text": [
      "Precision score is statistically insignificant\n",
      "MRR score is statistically insignificant\n",
      "MAP score is statistically insignificant\n",
      "BPref score is statistically insignificant\n"
     ]
    }
   ],
   "source": [
    "indowiki = pd.read_csv('../Results/Scores/dpr_eval_indowiki_scores.csv')\n",
    "significance_test(indowiki, baseline, metrics)"
   ]
  },
  {
   "cell_type": "markdown",
   "id": "f5bb50b3",
   "metadata": {},
   "source": [
    "### Other/Syifa-QA"
   ]
  },
  {
   "cell_type": "code",
   "execution_count": 328,
   "id": "c3e82172",
   "metadata": {},
   "outputs": [
    {
     "name": "stdout",
     "output_type": "stream",
     "text": [
      "Precision score is statistically significant\n",
      "MRR score is statistically insignificant\n",
      "MAP score is statistically insignificant\n",
      "BPref score is statistically significant\n"
     ]
    }
   ],
   "source": [
    "other = pd.read_csv('../Results/Scores/dpr_eval_other_scores.csv')\n",
    "significance_test(other, baseline, metrics)"
   ]
  },
  {
   "cell_type": "code",
   "execution_count": null,
   "id": "ff22b3f5",
   "metadata": {},
   "outputs": [],
   "source": []
  },
  {
   "cell_type": "code",
   "execution_count": null,
   "id": "ac8ec6b1",
   "metadata": {},
   "outputs": [],
   "source": []
  }
 ],
 "metadata": {
  "kernelspec": {
   "display_name": "Python 3 (ipykernel)",
   "language": "python",
   "name": "python3"
  },
  "language_info": {
   "codemirror_mode": {
    "name": "ipython",
    "version": 3
   },
   "file_extension": ".py",
   "mimetype": "text/x-python",
   "name": "python",
   "nbconvert_exporter": "python",
   "pygments_lexer": "ipython3",
   "version": "3.8.12"
  }
 },
 "nbformat": 4,
 "nbformat_minor": 5
}
